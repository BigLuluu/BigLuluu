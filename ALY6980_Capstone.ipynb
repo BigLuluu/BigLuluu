{
  "cells": [
    {
      "cell_type": "markdown",
      "metadata": {
        "id": "yYjUlEChoUM2"
      },
      "source": [
        "#Import Libraries"
      ]
    },
    {
      "cell_type": "code",
      "execution_count": null,
      "metadata": {
        "colab": {
          "base_uri": "https://localhost:8080/",
          "height": 17
        },
        "id": "H21t2KsGPkZp",
        "outputId": "71926742-1ad3-4e36-88a8-3eac3b8e4971"
      },
      "outputs": [
        {
          "output_type": "display_data",
          "data": {
            "text/html": [
              "        <script type=\"text/javascript\">\n",
              "        window.PlotlyConfig = {MathJaxConfig: 'local'};\n",
              "        if (window.MathJax) {MathJax.Hub.Config({SVG: {font: \"STIX-Web\"}});}\n",
              "        if (typeof require !== 'undefined') {\n",
              "        require.undef(\"plotly\");\n",
              "        requirejs.config({\n",
              "            paths: {\n",
              "                'plotly': ['https://cdn.plot.ly/plotly-2.8.3.min']\n",
              "            }\n",
              "        });\n",
              "        require(['plotly'], function(Plotly) {\n",
              "            window._Plotly = Plotly;\n",
              "        });\n",
              "        }\n",
              "        </script>\n",
              "        "
            ]
          },
          "metadata": {}
        }
      ],
      "source": [
        "import pandas as pd\n",
        "import seaborn as sns\n",
        "from datetime import datetime\n",
        "from plotly import graph_objs as go\n",
        "import plotly.express as px\n",
        "from dateutil.parser import parse\n",
        "\n",
        "# Matplot\n",
        "import matplotlib.pyplot as plt\n",
        "from matplotlib import colors\n",
        "from matplotlib.ticker import PercentFormatter\n",
        "\n",
        "\n",
        "%matplotlib inline\n",
        "\n",
        "# Scikit-learn\n",
        "from sklearn.model_selection import train_test_split\n",
        "from sklearn.preprocessing import LabelEncoder\n",
        "from sklearn.metrics import confusion_matrix, classification_report, accuracy_score\n",
        "from sklearn.manifold import TSNE\n",
        "from sklearn.feature_extraction.text import TfidfVectorizer\n",
        "\n",
        "# Keras\n",
        "from keras.preprocessing.text import Tokenizer\n",
        "from keras.preprocessing.sequence import pad_sequences\n",
        "from keras.models import Sequential\n",
        "from keras.layers import Activation, Dense, Dropout, Embedding, Flatten, Conv1D, MaxPooling1D, LSTM\n",
        "from keras import utils\n",
        "from keras.callbacks import ReduceLROnPlateau, EarlyStopping\n",
        "\n",
        "# nltk\n",
        "import nltk\n",
        "from nltk.corpus import stopwords\n",
        "from  nltk.stem import SnowballStemmer\n",
        "\n",
        "# Word2vec\n",
        "import gensim\n",
        "\n",
        "# Utility\n",
        "import re\n",
        "import numpy as np\n",
        "import os\n",
        "from collections import Counter\n",
        "import logging\n",
        "import time\n",
        "import pickle\n",
        "import itertools\n",
        "\n",
        "# Set log\n",
        "logging.basicConfig(format='%(asctime)s : %(levelname)s : %(message)s', level=logging.INFO)\n",
        "\n",
        "from sklearn.feature_extraction.text import CountVectorizer\n",
        "from plotly.offline import iplot\n",
        "import cufflinks\n",
        "cufflinks.go_offline()\n",
        "cufflinks.set_config_file(world_readable=True, theme='pearl')\n"
      ]
    },
    {
      "cell_type": "markdown",
      "metadata": {
        "id": "WhPiS8CJKieo"
      },
      "source": [
        "# Data Cleaning"
      ]
    },
    {
      "cell_type": "code",
      "execution_count": null,
      "metadata": {
        "colab": {
          "base_uri": "https://localhost:8080/"
        },
        "id": "BXQz4SyDKbAF",
        "outputId": "8106b7ca-d3e8-4887-9e56-a99d54e6a8cd"
      },
      "outputs": [
        {
          "output_type": "execute_result",
          "data": {
            "text/plain": [
              "(209, 23)"
            ]
          },
          "metadata": {},
          "execution_count": 2
        }
      ],
      "source": [
        "data_path = 'https://docs.google.com/spreadsheets/d/e/2PACX-1vRDSCmpZy7fFJuWES_WJDC1cAT1udsjzvbfbBJ8O-i4e5QIQ4HRSR3ixvp-V-JTmJr-5Y-ucXDs_b0f/pub?gid=2078209872&single=true&output=csv'\n",
        "df = pd.read_csv(data_path)\n",
        "df.shape"
      ]
    },
    {
      "cell_type": "code",
      "execution_count": null,
      "metadata": {
        "colab": {
          "base_uri": "https://localhost:8080/",
          "height": 664
        },
        "id": "Dqk8A3sdKgdF",
        "outputId": "bd1f1740-6890-4809-8471-ede27ecc3463"
      },
      "outputs": [
        {
          "output_type": "execute_result",
          "data": {
            "text/plain": [
              "   Unnamed: 0  book_id                                   book_name  \\\n",
              "0       45437      121  Health and Human Development Units 3 and 4   \n",
              "1       37718      130             Business Studies Preliminary 7e   \n",
              "2        3195      120                                    Accounts   \n",
              "3       17640      120                                    Accounts   \n",
              "4       28350      120                                    Accounts   \n",
              "\n",
              "                               chapters.chapter_name  \\\n",
              "0  c04 Variations In Health Status Population Groups   \n",
              "1                               Marketing strategies   \n",
              "2       Chapter 3: The Accounting Information System   \n",
              "3                   Chapter 14 Managerial Accounting   \n",
              "4   Chapter 24 Standard Costs and Balanced Scorecard   \n",
              "\n",
              "   chapters.chapter_content  \\\n",
              "0                       NaN   \n",
              "1                       NaN   \n",
              "2                       NaN   \n",
              "3                       NaN   \n",
              "4                       NaN   \n",
              "\n",
              "                                            question  \\\n",
              "0  Maternal tobacco, alcohol and drug use, and ma...   \n",
              "1  Publicity and  _____________   _____________  ...   \n",
              "2  A debit of $395 to  _____________  was posted ...   \n",
              "3  Here are some of the costs that your snowboard...   \n",
              "4  What is a possible scenario that would provide...   \n",
              "\n",
              "                                             choices               answer  \\\n",
              "0  ['Rural Areas', 'America', 'The United Nations...            Pregnancy   \n",
              "1  ['Global marketing', 'transnational corporatio...      Global Branding   \n",
              "2  ['The General Ledger', 'Service Revenue', 'Tem...  Advertising Expense   \n",
              "3  ['Illinois', 'Wisconsin', 'State Of Illinois',...              Terrain   \n",
              "4  ['Computation Of Cost Of Delivery Truck', 'Whe...          Unfavorable   \n",
              "\n",
              "                                                line  \\\n",
              "0  Maternal tobacco, alcohol and drug use, and ma...   \n",
              "1  Publicity and global branding Global branding ...   \n",
              "2  A debit of $395 to Advertising Expense was pos...   \n",
              "3  Here are some of the costs that your snowboard...   \n",
              "4  What is a possible scenario that would provide...   \n",
              "\n",
              "                                         showContext  ... saved.question  \\\n",
              "0  \\nPage 141 Every person is, in part, a product...  ...            NaN   \n",
              "1                                  content not found  ...            NaN   \n",
              "2                                  content not found  ...            NaN   \n",
              "3  \\nTo improve your understanding of cost concep...  ...            NaN   \n",
              "4                                  content not found  ...            NaN   \n",
              "\n",
              "  saved.choices saved.answer saved.showContext saved.heading_name saved.type  \\\n",
              "0           NaN          NaN               NaN                NaN        NaN   \n",
              "1           NaN          NaN               NaN                NaN        NaN   \n",
              "2           NaN          NaN               NaN                NaN        NaN   \n",
              "3           NaN          NaN               NaN                NaN        NaN   \n",
              "4           NaN          NaN               NaN                NaN        NaN   \n",
              "\n",
              "  chapters.keyphrase_saved_Question_count  \\\n",
              "0                                      31   \n",
              "1                                      35   \n",
              "2                                      58   \n",
              "3                                      46   \n",
              "4                                      41   \n",
              "\n",
              "  chapters.example_question_saved_count  \\\n",
              "0                                    27   \n",
              "1                                    34   \n",
              "2                                    22   \n",
              "3                                    30   \n",
              "4                                    27   \n",
              "\n",
              "  chapters.keyphrase_question_nonsaved_count  chapters.example_nonsaved_count  \n",
              "0                                        985                              154  \n",
              "1                                       1038                              230  \n",
              "2                                       1060                                0  \n",
              "3                                        727                                5  \n",
              "4                                       1586                               13  \n",
              "\n",
              "[5 rows x 23 columns]"
            ],
            "text/html": [
              "\n",
              "  <div id=\"df-3086d648-b8ff-4803-aec3-7201ecc09edd\">\n",
              "    <div class=\"colab-df-container\">\n",
              "      <div>\n",
              "<style scoped>\n",
              "    .dataframe tbody tr th:only-of-type {\n",
              "        vertical-align: middle;\n",
              "    }\n",
              "\n",
              "    .dataframe tbody tr th {\n",
              "        vertical-align: top;\n",
              "    }\n",
              "\n",
              "    .dataframe thead th {\n",
              "        text-align: right;\n",
              "    }\n",
              "</style>\n",
              "<table border=\"1\" class=\"dataframe\">\n",
              "  <thead>\n",
              "    <tr style=\"text-align: right;\">\n",
              "      <th></th>\n",
              "      <th>Unnamed: 0</th>\n",
              "      <th>book_id</th>\n",
              "      <th>book_name</th>\n",
              "      <th>chapters.chapter_name</th>\n",
              "      <th>chapters.chapter_content</th>\n",
              "      <th>question</th>\n",
              "      <th>choices</th>\n",
              "      <th>answer</th>\n",
              "      <th>line</th>\n",
              "      <th>showContext</th>\n",
              "      <th>...</th>\n",
              "      <th>saved.question</th>\n",
              "      <th>saved.choices</th>\n",
              "      <th>saved.answer</th>\n",
              "      <th>saved.showContext</th>\n",
              "      <th>saved.heading_name</th>\n",
              "      <th>saved.type</th>\n",
              "      <th>chapters.keyphrase_saved_Question_count</th>\n",
              "      <th>chapters.example_question_saved_count</th>\n",
              "      <th>chapters.keyphrase_question_nonsaved_count</th>\n",
              "      <th>chapters.example_nonsaved_count</th>\n",
              "    </tr>\n",
              "  </thead>\n",
              "  <tbody>\n",
              "    <tr>\n",
              "      <th>0</th>\n",
              "      <td>45437</td>\n",
              "      <td>121</td>\n",
              "      <td>Health and Human Development Units 3 and 4</td>\n",
              "      <td>c04 Variations In Health Status Population Groups</td>\n",
              "      <td>NaN</td>\n",
              "      <td>Maternal tobacco, alcohol and drug use, and ma...</td>\n",
              "      <td>['Rural Areas', 'America', 'The United Nations...</td>\n",
              "      <td>Pregnancy</td>\n",
              "      <td>Maternal tobacco, alcohol and drug use, and ma...</td>\n",
              "      <td>\\nPage 141 Every person is, in part, a product...</td>\n",
              "      <td>...</td>\n",
              "      <td>NaN</td>\n",
              "      <td>NaN</td>\n",
              "      <td>NaN</td>\n",
              "      <td>NaN</td>\n",
              "      <td>NaN</td>\n",
              "      <td>NaN</td>\n",
              "      <td>31</td>\n",
              "      <td>27</td>\n",
              "      <td>985</td>\n",
              "      <td>154</td>\n",
              "    </tr>\n",
              "    <tr>\n",
              "      <th>1</th>\n",
              "      <td>37718</td>\n",
              "      <td>130</td>\n",
              "      <td>Business Studies Preliminary 7e</td>\n",
              "      <td>Marketing strategies</td>\n",
              "      <td>NaN</td>\n",
              "      <td>Publicity and  _____________   _____________  ...</td>\n",
              "      <td>['Global marketing', 'transnational corporatio...</td>\n",
              "      <td>Global Branding</td>\n",
              "      <td>Publicity and global branding Global branding ...</td>\n",
              "      <td>content not found</td>\n",
              "      <td>...</td>\n",
              "      <td>NaN</td>\n",
              "      <td>NaN</td>\n",
              "      <td>NaN</td>\n",
              "      <td>NaN</td>\n",
              "      <td>NaN</td>\n",
              "      <td>NaN</td>\n",
              "      <td>35</td>\n",
              "      <td>34</td>\n",
              "      <td>1038</td>\n",
              "      <td>230</td>\n",
              "    </tr>\n",
              "    <tr>\n",
              "      <th>2</th>\n",
              "      <td>3195</td>\n",
              "      <td>120</td>\n",
              "      <td>Accounts</td>\n",
              "      <td>Chapter 3: The Accounting Information System</td>\n",
              "      <td>NaN</td>\n",
              "      <td>A debit of $395 to  _____________  was posted ...</td>\n",
              "      <td>['The General Ledger', 'Service Revenue', 'Tem...</td>\n",
              "      <td>Advertising Expense</td>\n",
              "      <td>A debit of $395 to Advertising Expense was pos...</td>\n",
              "      <td>content not found</td>\n",
              "      <td>...</td>\n",
              "      <td>NaN</td>\n",
              "      <td>NaN</td>\n",
              "      <td>NaN</td>\n",
              "      <td>NaN</td>\n",
              "      <td>NaN</td>\n",
              "      <td>NaN</td>\n",
              "      <td>58</td>\n",
              "      <td>22</td>\n",
              "      <td>1060</td>\n",
              "      <td>0</td>\n",
              "    </tr>\n",
              "    <tr>\n",
              "      <th>3</th>\n",
              "      <td>17640</td>\n",
              "      <td>120</td>\n",
              "      <td>Accounts</td>\n",
              "      <td>Chapter 14 Managerial Accounting</td>\n",
              "      <td>NaN</td>\n",
              "      <td>Here are some of the costs that your snowboard...</td>\n",
              "      <td>['Illinois', 'Wisconsin', 'State Of Illinois',...</td>\n",
              "      <td>Terrain</td>\n",
              "      <td>Here are some of the costs that your snowboard...</td>\n",
              "      <td>\\nTo improve your understanding of cost concep...</td>\n",
              "      <td>...</td>\n",
              "      <td>NaN</td>\n",
              "      <td>NaN</td>\n",
              "      <td>NaN</td>\n",
              "      <td>NaN</td>\n",
              "      <td>NaN</td>\n",
              "      <td>NaN</td>\n",
              "      <td>46</td>\n",
              "      <td>30</td>\n",
              "      <td>727</td>\n",
              "      <td>5</td>\n",
              "    </tr>\n",
              "    <tr>\n",
              "      <th>4</th>\n",
              "      <td>28350</td>\n",
              "      <td>120</td>\n",
              "      <td>Accounts</td>\n",
              "      <td>Chapter 24 Standard Costs and Balanced Scorecard</td>\n",
              "      <td>NaN</td>\n",
              "      <td>What is a possible scenario that would provide...</td>\n",
              "      <td>['Computation Of Cost Of Delivery Truck', 'Whe...</td>\n",
              "      <td>Unfavorable</td>\n",
              "      <td>What is a possible scenario that would provide...</td>\n",
              "      <td>content not found</td>\n",
              "      <td>...</td>\n",
              "      <td>NaN</td>\n",
              "      <td>NaN</td>\n",
              "      <td>NaN</td>\n",
              "      <td>NaN</td>\n",
              "      <td>NaN</td>\n",
              "      <td>NaN</td>\n",
              "      <td>41</td>\n",
              "      <td>27</td>\n",
              "      <td>1586</td>\n",
              "      <td>13</td>\n",
              "    </tr>\n",
              "  </tbody>\n",
              "</table>\n",
              "<p>5 rows × 23 columns</p>\n",
              "</div>\n",
              "      <button class=\"colab-df-convert\" onclick=\"convertToInteractive('df-3086d648-b8ff-4803-aec3-7201ecc09edd')\"\n",
              "              title=\"Convert this dataframe to an interactive table.\"\n",
              "              style=\"display:none;\">\n",
              "        \n",
              "  <svg xmlns=\"http://www.w3.org/2000/svg\" height=\"24px\"viewBox=\"0 0 24 24\"\n",
              "       width=\"24px\">\n",
              "    <path d=\"M0 0h24v24H0V0z\" fill=\"none\"/>\n",
              "    <path d=\"M18.56 5.44l.94 2.06.94-2.06 2.06-.94-2.06-.94-.94-2.06-.94 2.06-2.06.94zm-11 1L8.5 8.5l.94-2.06 2.06-.94-2.06-.94L8.5 2.5l-.94 2.06-2.06.94zm10 10l.94 2.06.94-2.06 2.06-.94-2.06-.94-.94-2.06-.94 2.06-2.06.94z\"/><path d=\"M17.41 7.96l-1.37-1.37c-.4-.4-.92-.59-1.43-.59-.52 0-1.04.2-1.43.59L10.3 9.45l-7.72 7.72c-.78.78-.78 2.05 0 2.83L4 21.41c.39.39.9.59 1.41.59.51 0 1.02-.2 1.41-.59l7.78-7.78 2.81-2.81c.8-.78.8-2.07 0-2.86zM5.41 20L4 18.59l7.72-7.72 1.47 1.35L5.41 20z\"/>\n",
              "  </svg>\n",
              "      </button>\n",
              "      \n",
              "  <style>\n",
              "    .colab-df-container {\n",
              "      display:flex;\n",
              "      flex-wrap:wrap;\n",
              "      gap: 12px;\n",
              "    }\n",
              "\n",
              "    .colab-df-convert {\n",
              "      background-color: #E8F0FE;\n",
              "      border: none;\n",
              "      border-radius: 50%;\n",
              "      cursor: pointer;\n",
              "      display: none;\n",
              "      fill: #1967D2;\n",
              "      height: 32px;\n",
              "      padding: 0 0 0 0;\n",
              "      width: 32px;\n",
              "    }\n",
              "\n",
              "    .colab-df-convert:hover {\n",
              "      background-color: #E2EBFA;\n",
              "      box-shadow: 0px 1px 2px rgba(60, 64, 67, 0.3), 0px 1px 3px 1px rgba(60, 64, 67, 0.15);\n",
              "      fill: #174EA6;\n",
              "    }\n",
              "\n",
              "    [theme=dark] .colab-df-convert {\n",
              "      background-color: #3B4455;\n",
              "      fill: #D2E3FC;\n",
              "    }\n",
              "\n",
              "    [theme=dark] .colab-df-convert:hover {\n",
              "      background-color: #434B5C;\n",
              "      box-shadow: 0px 1px 3px 1px rgba(0, 0, 0, 0.15);\n",
              "      filter: drop-shadow(0px 1px 2px rgba(0, 0, 0, 0.3));\n",
              "      fill: #FFFFFF;\n",
              "    }\n",
              "  </style>\n",
              "\n",
              "      <script>\n",
              "        const buttonEl =\n",
              "          document.querySelector('#df-3086d648-b8ff-4803-aec3-7201ecc09edd button.colab-df-convert');\n",
              "        buttonEl.style.display =\n",
              "          google.colab.kernel.accessAllowed ? 'block' : 'none';\n",
              "\n",
              "        async function convertToInteractive(key) {\n",
              "          const element = document.querySelector('#df-3086d648-b8ff-4803-aec3-7201ecc09edd');\n",
              "          const dataTable =\n",
              "            await google.colab.kernel.invokeFunction('convertToInteractive',\n",
              "                                                     [key], {});\n",
              "          if (!dataTable) return;\n",
              "\n",
              "          const docLinkHtml = 'Like what you see? Visit the ' +\n",
              "            '<a target=\"_blank\" href=https://colab.research.google.com/notebooks/data_table.ipynb>data table notebook</a>'\n",
              "            + ' to learn more about interactive tables.';\n",
              "          element.innerHTML = '';\n",
              "          dataTable['output_type'] = 'display_data';\n",
              "          await google.colab.output.renderOutput(dataTable, element);\n",
              "          const docLink = document.createElement('div');\n",
              "          docLink.innerHTML = docLinkHtml;\n",
              "          element.appendChild(docLink);\n",
              "        }\n",
              "      </script>\n",
              "    </div>\n",
              "  </div>\n",
              "  "
            ]
          },
          "metadata": {},
          "execution_count": 3
        }
      ],
      "source": [
        "df.head()"
      ]
    },
    {
      "cell_type": "code",
      "execution_count": null,
      "metadata": {
        "colab": {
          "base_uri": "https://localhost:8080/",
          "height": 53
        },
        "id": "KEqGZeqcCQhO",
        "outputId": "c7651508-a443-4fad-b01f-df24dfc7e98f"
      },
      "outputs": [
        {
          "output_type": "execute_result",
          "data": {
            "text/plain": [
              "'Maternal tobacco, alcohol and drug use, and maternal nutrition and exposure to certain chemicals, bacteria and viruses during pregnancy, can all have significant impacts on the individual after birth and into adulthood.'"
            ],
            "application/vnd.google.colaboratory.intrinsic+json": {
              "type": "string"
            }
          },
          "metadata": {},
          "execution_count": 4
        }
      ],
      "source": [
        "df.line[0]"
      ]
    },
    {
      "cell_type": "code",
      "execution_count": null,
      "metadata": {
        "colab": {
          "base_uri": "https://localhost:8080/",
          "height": 53
        },
        "id": "-l3o7JYpDO9o",
        "outputId": "3a3cbeec-426c-48bc-f762-421bbcca9d5c"
      },
      "outputs": [
        {
          "output_type": "execute_result",
          "data": {
            "text/plain": [
              "'Maternal tobacco, alcohol and drug use, and maternal nutrition and exposure to certain chemicals, bacteria and viruses during  _____________ , can all have significant impacts on the individual after birth and into adulthood.'"
            ],
            "application/vnd.google.colaboratory.intrinsic+json": {
              "type": "string"
            }
          },
          "metadata": {},
          "execution_count": 5
        }
      ],
      "source": [
        "df.question[0]"
      ]
    },
    {
      "cell_type": "markdown",
      "source": [
        "# Exploratory Data Anslysis (EDA)"
      ],
      "metadata": {
        "id": "Ja1PDjVLHwXU"
      }
    },
    {
      "cell_type": "markdown",
      "metadata": {
        "id": "eg3PwPmKXoMA"
      },
      "source": [
        "## EDA - Lu Liu & Anqiao Mai\n"
      ]
    },
    {
      "cell_type": "code",
      "execution_count": null,
      "metadata": {
        "colab": {
          "base_uri": "https://localhost:8080/"
        },
        "id": "Y9WOCroKBqm5",
        "outputId": "4bd14814-514f-4b23-ba6c-25c0d33343e9"
      },
      "outputs": [
        {
          "output_type": "stream",
          "name": "stdout",
          "text": [
            "<class 'pandas.core.frame.DataFrame'>\n",
            "RangeIndex: 209 entries, 0 to 208\n",
            "Data columns (total 23 columns):\n",
            " #   Column                                      Non-Null Count  Dtype  \n",
            "---  ------                                      --------------  -----  \n",
            " 0   Unnamed: 0                                  209 non-null    int64  \n",
            " 1   book_id                                     209 non-null    int64  \n",
            " 2   book_name                                   209 non-null    object \n",
            " 3   chapters.chapter_name                       209 non-null    object \n",
            " 4   chapters.chapter_content                    0 non-null      float64\n",
            " 5   question                                    209 non-null    object \n",
            " 6   choices                                     209 non-null    object \n",
            " 7   answer                                      208 non-null    object \n",
            " 8   line                                        209 non-null    object \n",
            " 9   showContext                                 209 non-null    object \n",
            " 10  heading_name                                209 non-null    object \n",
            " 11  saved                                       188 non-null    object \n",
            " 12  type                                        209 non-null    object \n",
            " 13  saved.question                              21 non-null     object \n",
            " 14  saved.choices                               21 non-null     object \n",
            " 15  saved.answer                                21 non-null     object \n",
            " 16  saved.showContext                           21 non-null     object \n",
            " 17  saved.heading_name                          21 non-null     object \n",
            " 18  saved.type                                  21 non-null     object \n",
            " 19  chapters.keyphrase_saved_Question_count     209 non-null    int64  \n",
            " 20  chapters.example_question_saved_count       209 non-null    int64  \n",
            " 21  chapters.keyphrase_question_nonsaved_count  209 non-null    int64  \n",
            " 22  chapters.example_nonsaved_count             209 non-null    int64  \n",
            "dtypes: float64(1), int64(6), object(16)\n",
            "memory usage: 37.7+ KB\n"
          ]
        }
      ],
      "source": [
        "df.info()"
      ]
    },
    {
      "cell_type": "code",
      "execution_count": null,
      "metadata": {
        "colab": {
          "base_uri": "https://localhost:8080/"
        },
        "id": "BQXtuYrkXqzJ",
        "outputId": "79eea2f2-2884-4290-e921-1bc065309ffe"
      },
      "outputs": [
        {
          "output_type": "execute_result",
          "data": {
            "text/plain": [
              "                                            book_name\n",
              "Accounts                                           77\n",
              "principle of life                                  66\n",
              "Health and Human Development Units 3 and 4         26\n",
              "Business Studies Preliminary 7e                    24\n",
              "Hockenbury Psychology                              16"
            ],
            "text/html": [
              "\n",
              "  <div id=\"df-8b7a18bf-e1ab-472f-8497-a68c537e2d2b\">\n",
              "    <div class=\"colab-df-container\">\n",
              "      <div>\n",
              "<style scoped>\n",
              "    .dataframe tbody tr th:only-of-type {\n",
              "        vertical-align: middle;\n",
              "    }\n",
              "\n",
              "    .dataframe tbody tr th {\n",
              "        vertical-align: top;\n",
              "    }\n",
              "\n",
              "    .dataframe thead th {\n",
              "        text-align: right;\n",
              "    }\n",
              "</style>\n",
              "<table border=\"1\" class=\"dataframe\">\n",
              "  <thead>\n",
              "    <tr style=\"text-align: right;\">\n",
              "      <th></th>\n",
              "      <th>book_name</th>\n",
              "    </tr>\n",
              "  </thead>\n",
              "  <tbody>\n",
              "    <tr>\n",
              "      <th>Accounts</th>\n",
              "      <td>77</td>\n",
              "    </tr>\n",
              "    <tr>\n",
              "      <th>principle of life</th>\n",
              "      <td>66</td>\n",
              "    </tr>\n",
              "    <tr>\n",
              "      <th>Health and Human Development Units 3 and 4</th>\n",
              "      <td>26</td>\n",
              "    </tr>\n",
              "    <tr>\n",
              "      <th>Business Studies Preliminary 7e</th>\n",
              "      <td>24</td>\n",
              "    </tr>\n",
              "    <tr>\n",
              "      <th>Hockenbury Psychology</th>\n",
              "      <td>16</td>\n",
              "    </tr>\n",
              "  </tbody>\n",
              "</table>\n",
              "</div>\n",
              "      <button class=\"colab-df-convert\" onclick=\"convertToInteractive('df-8b7a18bf-e1ab-472f-8497-a68c537e2d2b')\"\n",
              "              title=\"Convert this dataframe to an interactive table.\"\n",
              "              style=\"display:none;\">\n",
              "        \n",
              "  <svg xmlns=\"http://www.w3.org/2000/svg\" height=\"24px\"viewBox=\"0 0 24 24\"\n",
              "       width=\"24px\">\n",
              "    <path d=\"M0 0h24v24H0V0z\" fill=\"none\"/>\n",
              "    <path d=\"M18.56 5.44l.94 2.06.94-2.06 2.06-.94-2.06-.94-.94-2.06-.94 2.06-2.06.94zm-11 1L8.5 8.5l.94-2.06 2.06-.94-2.06-.94L8.5 2.5l-.94 2.06-2.06.94zm10 10l.94 2.06.94-2.06 2.06-.94-2.06-.94-.94-2.06-.94 2.06-2.06.94z\"/><path d=\"M17.41 7.96l-1.37-1.37c-.4-.4-.92-.59-1.43-.59-.52 0-1.04.2-1.43.59L10.3 9.45l-7.72 7.72c-.78.78-.78 2.05 0 2.83L4 21.41c.39.39.9.59 1.41.59.51 0 1.02-.2 1.41-.59l7.78-7.78 2.81-2.81c.8-.78.8-2.07 0-2.86zM5.41 20L4 18.59l7.72-7.72 1.47 1.35L5.41 20z\"/>\n",
              "  </svg>\n",
              "      </button>\n",
              "      \n",
              "  <style>\n",
              "    .colab-df-container {\n",
              "      display:flex;\n",
              "      flex-wrap:wrap;\n",
              "      gap: 12px;\n",
              "    }\n",
              "\n",
              "    .colab-df-convert {\n",
              "      background-color: #E8F0FE;\n",
              "      border: none;\n",
              "      border-radius: 50%;\n",
              "      cursor: pointer;\n",
              "      display: none;\n",
              "      fill: #1967D2;\n",
              "      height: 32px;\n",
              "      padding: 0 0 0 0;\n",
              "      width: 32px;\n",
              "    }\n",
              "\n",
              "    .colab-df-convert:hover {\n",
              "      background-color: #E2EBFA;\n",
              "      box-shadow: 0px 1px 2px rgba(60, 64, 67, 0.3), 0px 1px 3px 1px rgba(60, 64, 67, 0.15);\n",
              "      fill: #174EA6;\n",
              "    }\n",
              "\n",
              "    [theme=dark] .colab-df-convert {\n",
              "      background-color: #3B4455;\n",
              "      fill: #D2E3FC;\n",
              "    }\n",
              "\n",
              "    [theme=dark] .colab-df-convert:hover {\n",
              "      background-color: #434B5C;\n",
              "      box-shadow: 0px 1px 3px 1px rgba(0, 0, 0, 0.15);\n",
              "      filter: drop-shadow(0px 1px 2px rgba(0, 0, 0, 0.3));\n",
              "      fill: #FFFFFF;\n",
              "    }\n",
              "  </style>\n",
              "\n",
              "      <script>\n",
              "        const buttonEl =\n",
              "          document.querySelector('#df-8b7a18bf-e1ab-472f-8497-a68c537e2d2b button.colab-df-convert');\n",
              "        buttonEl.style.display =\n",
              "          google.colab.kernel.accessAllowed ? 'block' : 'none';\n",
              "\n",
              "        async function convertToInteractive(key) {\n",
              "          const element = document.querySelector('#df-8b7a18bf-e1ab-472f-8497-a68c537e2d2b');\n",
              "          const dataTable =\n",
              "            await google.colab.kernel.invokeFunction('convertToInteractive',\n",
              "                                                     [key], {});\n",
              "          if (!dataTable) return;\n",
              "\n",
              "          const docLinkHtml = 'Like what you see? Visit the ' +\n",
              "            '<a target=\"_blank\" href=https://colab.research.google.com/notebooks/data_table.ipynb>data table notebook</a>'\n",
              "            + ' to learn more about interactive tables.';\n",
              "          element.innerHTML = '';\n",
              "          dataTable['output_type'] = 'display_data';\n",
              "          await google.colab.output.renderOutput(dataTable, element);\n",
              "          const docLink = document.createElement('div');\n",
              "          docLink.innerHTML = docLinkHtml;\n",
              "          element.appendChild(docLink);\n",
              "        }\n",
              "      </script>\n",
              "    </div>\n",
              "  </div>\n",
              "  "
            ]
          },
          "metadata": {},
          "execution_count": 7
        }
      ],
      "source": [
        "a = df['book_name'].value_counts()\n",
        "a=pd.DataFrame(a)\n",
        "a"
      ]
    },
    {
      "cell_type": "code",
      "execution_count": null,
      "metadata": {
        "colab": {
          "base_uri": "https://localhost:8080/"
        },
        "id": "lLhWp2uQZBtq",
        "outputId": "5c7bd088-140d-4579-c107-9b29eacd37bc"
      },
      "outputs": [
        {
          "output_type": "execute_result",
          "data": {
            "text/plain": [
              "Text(0, 0.5, 'Frequency')"
            ]
          },
          "metadata": {},
          "execution_count": 8
        },
        {
          "output_type": "display_data",
          "data": {
            "text/plain": [
              "<Figure size 1440x360 with 1 Axes>"
            ],
            "image/png": "[encoded data removed]"
          },
          "metadata": {
            "needs_background": "light"
          }
        }
      ],
      "source": [
        "fig = plt.figure(figsize = (20, 5))\n",
        "sns.countplot(x='book_name',data=df)\n",
        "plt.xlabel('Book Name')\n",
        "plt.ylabel('Frequency')"
      ]
    },
    {
      "cell_type": "code",
      "execution_count": null,
      "metadata": {
        "colab": {
          "base_uri": "https://localhost:8080/"
        },
        "id": "Mzxkzo-rsibU",
        "outputId": "680b7a50-ec9e-4fc0-a817-48786ade5a98"
      },
      "outputs": [
        {
          "output_type": "display_data",
          "data": {
            "text/plain": [
              "<Figure size 1440x576 with 1 Axes>"
            ],
            "image/png": "[encoded data removed]"
          },
          "metadata": {
            "needs_background": "light"
          }
        }
      ],
      "source": [
        "total_freq = a.book_name.sum()\n",
        "# compute percentage of each format\n",
        "percentage = []\n",
        "for i in range(a.shape[0]):\n",
        "    pct = (a.book_name[i] / total_freq) * 100\n",
        "    percentage.append(round(pct,2))\n",
        "a['Percentage'] = percentage\n",
        " \n",
        "# depict illustration\n",
        "plt.figure(figsize=(20,8))\n",
        "graph = plt.bar(a.index,a.book_name)\n",
        "plt.title('Percentage of ')\n",
        " \n",
        "i = 0\n",
        "for p in graph:\n",
        "    width = p.get_width()\n",
        "    height = p.get_height()\n",
        "    x, y = p.get_xy()\n",
        "    plt.text(x+width/2,\n",
        "             y+height*1.01,\n",
        "             str(a.Percentage[i])+'%',\n",
        "             ha='center',\n",
        "             weight='bold')\n",
        "    i+=1\n",
        "plt.show()"
      ]
    },
    {
      "cell_type": "code",
      "execution_count": null,
      "metadata": {
        "id": "ormAoMm4gh3T"
      },
      "outputs": [],
      "source": [
        "from wordcloud import WordCloud, STOPWORDS, ImageColorGenerator"
      ]
    },
    {
      "cell_type": "code",
      "execution_count": null,
      "metadata": {
        "colab": {
          "base_uri": "https://localhost:8080/"
        },
        "id": "6TpwW8tyYwop",
        "outputId": "b2227a0c-fd85-4d51-f15a-ec26b88be993"
      },
      "outputs": [
        {
          "output_type": "display_data",
          "data": {
            "text/plain": [
              "<Figure size 432x288 with 1 Axes>"
            ],
            "image/png": "[encoded data removed]"
          },
          "metadata": {
            "needs_background": "light"
          }
        }
      ],
      "source": [
        "text = df.line[0]\n",
        "\n",
        "# Create and generate a word cloud image:\n",
        "wordcloud = WordCloud(max_font_size=50, max_words=100, background_color=\"white\").generate(text)\n",
        "\n",
        "# Display the generated image:\n",
        "plt.imshow(wordcloud, interpolation='bilinear')\n",
        "plt.axis(\"off\")\n",
        "plt.show()"
      ]
    },
    {
      "cell_type": "code",
      "execution_count": null,
      "metadata": {
        "id": "aYqPIwqfiwyv"
      },
      "outputs": [],
      "source": [
        "from sklearn.preprocessing import StandardScaler\n",
        "variables = ['chapters.keyphrase_saved_Question_count','chapters.example_question_saved_count','chapters.keyphrase_question_nonsaved_count','chapters.example_nonsaved_count']\n",
        "x = df.loc[:, variables].values\n",
        "y = df.loc[:,['book_name']].values\n",
        "x = StandardScaler().fit_transform(x)\n",
        "x = pd.DataFrame(x)"
      ]
    },
    {
      "cell_type": "code",
      "execution_count": null,
      "metadata": {
        "colab": {
          "base_uri": "https://localhost:8080/"
        },
        "id": "Wlk1-2fXjjl1",
        "outputId": "6282325f-5d45-49d6-ff78-403e17724811"
      },
      "outputs": [
        {
          "output_type": "execute_result",
          "data": {
            "text/plain": [
              "          0         1         2         3\n",
              "0  0.221463 -0.170424  0.731252 -0.672404\n",
              "1  1.020161 -0.031095  0.660456 -1.086047\n",
              "2 -0.867221  1.300005 -0.369971  0.380256\n",
              "3 -0.720024  0.281197 -0.277677  0.636409\n",
              "4 -0.768189  1.362943  1.164543  0.249650"
            ],
            "text/html": [
              "\n",
              "  <div id=\"df-4dde9aed-8806-4510-9a46-f2f5f3f69784\">\n",
              "    <div class=\"colab-df-container\">\n",
              "      <div>\n",
              "<style scoped>\n",
              "    .dataframe tbody tr th:only-of-type {\n",
              "        vertical-align: middle;\n",
              "    }\n",
              "\n",
              "    .dataframe tbody tr th {\n",
              "        vertical-align: top;\n",
              "    }\n",
              "\n",
              "    .dataframe thead th {\n",
              "        text-align: right;\n",
              "    }\n",
              "</style>\n",
              "<table border=\"1\" class=\"dataframe\">\n",
              "  <thead>\n",
              "    <tr style=\"text-align: right;\">\n",
              "      <th></th>\n",
              "      <th>0</th>\n",
              "      <th>1</th>\n",
              "      <th>2</th>\n",
              "      <th>3</th>\n",
              "    </tr>\n",
              "  </thead>\n",
              "  <tbody>\n",
              "    <tr>\n",
              "      <th>0</th>\n",
              "      <td>0.221463</td>\n",
              "      <td>-0.170424</td>\n",
              "      <td>0.731252</td>\n",
              "      <td>-0.672404</td>\n",
              "    </tr>\n",
              "    <tr>\n",
              "      <th>1</th>\n",
              "      <td>1.020161</td>\n",
              "      <td>-0.031095</td>\n",
              "      <td>0.660456</td>\n",
              "      <td>-1.086047</td>\n",
              "    </tr>\n",
              "    <tr>\n",
              "      <th>2</th>\n",
              "      <td>-0.867221</td>\n",
              "      <td>1.300005</td>\n",
              "      <td>-0.369971</td>\n",
              "      <td>0.380256</td>\n",
              "    </tr>\n",
              "    <tr>\n",
              "      <th>3</th>\n",
              "      <td>-0.720024</td>\n",
              "      <td>0.281197</td>\n",
              "      <td>-0.277677</td>\n",
              "      <td>0.636409</td>\n",
              "    </tr>\n",
              "    <tr>\n",
              "      <th>4</th>\n",
              "      <td>-0.768189</td>\n",
              "      <td>1.362943</td>\n",
              "      <td>1.164543</td>\n",
              "      <td>0.249650</td>\n",
              "    </tr>\n",
              "  </tbody>\n",
              "</table>\n",
              "</div>\n",
              "      <button class=\"colab-df-convert\" onclick=\"convertToInteractive('df-4dde9aed-8806-4510-9a46-f2f5f3f69784')\"\n",
              "              title=\"Convert this dataframe to an interactive table.\"\n",
              "              style=\"display:none;\">\n",
              "        \n",
              "  <svg xmlns=\"http://www.w3.org/2000/svg\" height=\"24px\"viewBox=\"0 0 24 24\"\n",
              "       width=\"24px\">\n",
              "    <path d=\"M0 0h24v24H0V0z\" fill=\"none\"/>\n",
              "    <path d=\"M18.56 5.44l.94 2.06.94-2.06 2.06-.94-2.06-.94-.94-2.06-.94 2.06-2.06.94zm-11 1L8.5 8.5l.94-2.06 2.06-.94-2.06-.94L8.5 2.5l-.94 2.06-2.06.94zm10 10l.94 2.06.94-2.06 2.06-.94-2.06-.94-.94-2.06-.94 2.06-2.06.94z\"/><path d=\"M17.41 7.96l-1.37-1.37c-.4-.4-.92-.59-1.43-.59-.52 0-1.04.2-1.43.59L10.3 9.45l-7.72 7.72c-.78.78-.78 2.05 0 2.83L4 21.41c.39.39.9.59 1.41.59.51 0 1.02-.2 1.41-.59l7.78-7.78 2.81-2.81c.8-.78.8-2.07 0-2.86zM5.41 20L4 18.59l7.72-7.72 1.47 1.35L5.41 20z\"/>\n",
              "  </svg>\n",
              "      </button>\n",
              "      \n",
              "  <style>\n",
              "    .colab-df-container {\n",
              "      display:flex;\n",
              "      flex-wrap:wrap;\n",
              "      gap: 12px;\n",
              "    }\n",
              "\n",
              "    .colab-df-convert {\n",
              "      background-color: #E8F0FE;\n",
              "      border: none;\n",
              "      border-radius: 50%;\n",
              "      cursor: pointer;\n",
              "      display: none;\n",
              "      fill: #1967D2;\n",
              "      height: 32px;\n",
              "      padding: 0 0 0 0;\n",
              "      width: 32px;\n",
              "    }\n",
              "\n",
              "    .colab-df-convert:hover {\n",
              "      background-color: #E2EBFA;\n",
              "      box-shadow: 0px 1px 2px rgba(60, 64, 67, 0.3), 0px 1px 3px 1px rgba(60, 64, 67, 0.15);\n",
              "      fill: #174EA6;\n",
              "    }\n",
              "\n",
              "    [theme=dark] .colab-df-convert {\n",
              "      background-color: #3B4455;\n",
              "      fill: #D2E3FC;\n",
              "    }\n",
              "\n",
              "    [theme=dark] .colab-df-convert:hover {\n",
              "      background-color: #434B5C;\n",
              "      box-shadow: 0px 1px 3px 1px rgba(0, 0, 0, 0.15);\n",
              "      filter: drop-shadow(0px 1px 2px rgba(0, 0, 0, 0.3));\n",
              "      fill: #FFFFFF;\n",
              "    }\n",
              "  </style>\n",
              "\n",
              "      <script>\n",
              "        const buttonEl =\n",
              "          document.querySelector('#df-4dde9aed-8806-4510-9a46-f2f5f3f69784 button.colab-df-convert');\n",
              "        buttonEl.style.display =\n",
              "          google.colab.kernel.accessAllowed ? 'block' : 'none';\n",
              "\n",
              "        async function convertToInteractive(key) {\n",
              "          const element = document.querySelector('#df-4dde9aed-8806-4510-9a46-f2f5f3f69784');\n",
              "          const dataTable =\n",
              "            await google.colab.kernel.invokeFunction('convertToInteractive',\n",
              "                                                     [key], {});\n",
              "          if (!dataTable) return;\n",
              "\n",
              "          const docLinkHtml = 'Like what you see? Visit the ' +\n",
              "            '<a target=\"_blank\" href=https://colab.research.google.com/notebooks/data_table.ipynb>data table notebook</a>'\n",
              "            + ' to learn more about interactive tables.';\n",
              "          element.innerHTML = '';\n",
              "          dataTable['output_type'] = 'display_data';\n",
              "          await google.colab.output.renderOutput(dataTable, element);\n",
              "          const docLink = document.createElement('div');\n",
              "          docLink.innerHTML = docLinkHtml;\n",
              "          element.appendChild(docLink);\n",
              "        }\n",
              "      </script>\n",
              "    </div>\n",
              "  </div>\n",
              "  "
            ]
          },
          "metadata": {},
          "execution_count": 13
        }
      ],
      "source": [
        "from sklearn.decomposition import PCA\n",
        "pca = PCA()\n",
        "x_pca = pca.fit_transform(x)\n",
        "x_pca = pd.DataFrame(x_pca)\n",
        "x_pca.head()"
      ]
    },
    {
      "cell_type": "code",
      "execution_count": null,
      "metadata": {
        "colab": {
          "base_uri": "https://localhost:8080/"
        },
        "id": "Agmxfrpdjuhe",
        "outputId": "f3de7bdf-5924-446f-c91a-1d6df27e893c"
      },
      "outputs": [
        {
          "output_type": "execute_result",
          "data": {
            "text/plain": [
              "array([0.41599891, 0.30805871, 0.19195164, 0.08399074])"
            ]
          },
          "metadata": {},
          "execution_count": 14
        }
      ],
      "source": [
        "explained_variance = pca.explained_variance_ratio_\n",
        "explained_variance"
      ]
    },
    {
      "cell_type": "code",
      "execution_count": null,
      "metadata": {
        "colab": {
          "base_uri": "https://localhost:8080/"
        },
        "id": "b-aUa9idjxVH",
        "outputId": "a96885ac-0dc9-496a-ece4-1511385de370"
      },
      "outputs": [
        {
          "output_type": "execute_result",
          "data": {
            "text/plain": [
              "        PC1       PC2       PC3       PC4  \\\n",
              "0  0.221463 -0.170424  0.731252 -0.672404   \n",
              "1  1.020161 -0.031095  0.660456 -1.086047   \n",
              "2 -0.867221  1.300005 -0.369971  0.380256   \n",
              "3 -0.720024  0.281197 -0.277677  0.636409   \n",
              "4 -0.768189  1.362943  1.164543  0.249650   \n",
              "\n",
              "                                    book_name  \n",
              "0  Health and Human Development Units 3 and 4  \n",
              "1             Business Studies Preliminary 7e  \n",
              "2                                    Accounts  \n",
              "3                                    Accounts  \n",
              "4                                    Accounts  "
            ],
            "text/html": [
              "\n",
              "  <div id=\"df-34b87fb8-eb1c-41cf-b00a-e9866d67fb8b\">\n",
              "    <div class=\"colab-df-container\">\n",
              "      <div>\n",
              "<style scoped>\n",
              "    .dataframe tbody tr th:only-of-type {\n",
              "        vertical-align: middle;\n",
              "    }\n",
              "\n",
              "    .dataframe tbody tr th {\n",
              "        vertical-align: top;\n",
              "    }\n",
              "\n",
              "    .dataframe thead th {\n",
              "        text-align: right;\n",
              "    }\n",
              "</style>\n",
              "<table border=\"1\" class=\"dataframe\">\n",
              "  <thead>\n",
              "    <tr style=\"text-align: right;\">\n",
              "      <th></th>\n",
              "      <th>PC1</th>\n",
              "      <th>PC2</th>\n",
              "      <th>PC3</th>\n",
              "      <th>PC4</th>\n",
              "      <th>book_name</th>\n",
              "    </tr>\n",
              "  </thead>\n",
              "  <tbody>\n",
              "    <tr>\n",
              "      <th>0</th>\n",
              "      <td>0.221463</td>\n",
              "      <td>-0.170424</td>\n",
              "      <td>0.731252</td>\n",
              "      <td>-0.672404</td>\n",
              "      <td>Health and Human Development Units 3 and 4</td>\n",
              "    </tr>\n",
              "    <tr>\n",
              "      <th>1</th>\n",
              "      <td>1.020161</td>\n",
              "      <td>-0.031095</td>\n",
              "      <td>0.660456</td>\n",
              "      <td>-1.086047</td>\n",
              "      <td>Business Studies Preliminary 7e</td>\n",
              "    </tr>\n",
              "    <tr>\n",
              "      <th>2</th>\n",
              "      <td>-0.867221</td>\n",
              "      <td>1.300005</td>\n",
              "      <td>-0.369971</td>\n",
              "      <td>0.380256</td>\n",
              "      <td>Accounts</td>\n",
              "    </tr>\n",
              "    <tr>\n",
              "      <th>3</th>\n",
              "      <td>-0.720024</td>\n",
              "      <td>0.281197</td>\n",
              "      <td>-0.277677</td>\n",
              "      <td>0.636409</td>\n",
              "      <td>Accounts</td>\n",
              "    </tr>\n",
              "    <tr>\n",
              "      <th>4</th>\n",
              "      <td>-0.768189</td>\n",
              "      <td>1.362943</td>\n",
              "      <td>1.164543</td>\n",
              "      <td>0.249650</td>\n",
              "      <td>Accounts</td>\n",
              "    </tr>\n",
              "  </tbody>\n",
              "</table>\n",
              "</div>\n",
              "      <button class=\"colab-df-convert\" onclick=\"convertToInteractive('df-34b87fb8-eb1c-41cf-b00a-e9866d67fb8b')\"\n",
              "              title=\"Convert this dataframe to an interactive table.\"\n",
              "              style=\"display:none;\">\n",
              "        \n",
              "  <svg xmlns=\"http://www.w3.org/2000/svg\" height=\"24px\"viewBox=\"0 0 24 24\"\n",
              "       width=\"24px\">\n",
              "    <path d=\"M0 0h24v24H0V0z\" fill=\"none\"/>\n",
              "    <path d=\"M18.56 5.44l.94 2.06.94-2.06 2.06-.94-2.06-.94-.94-2.06-.94 2.06-2.06.94zm-11 1L8.5 8.5l.94-2.06 2.06-.94-2.06-.94L8.5 2.5l-.94 2.06-2.06.94zm10 10l.94 2.06.94-2.06 2.06-.94-2.06-.94-.94-2.06-.94 2.06-2.06.94z\"/><path d=\"M17.41 7.96l-1.37-1.37c-.4-.4-.92-.59-1.43-.59-.52 0-1.04.2-1.43.59L10.3 9.45l-7.72 7.72c-.78.78-.78 2.05 0 2.83L4 21.41c.39.39.9.59 1.41.59.51 0 1.02-.2 1.41-.59l7.78-7.78 2.81-2.81c.8-.78.8-2.07 0-2.86zM5.41 20L4 18.59l7.72-7.72 1.47 1.35L5.41 20z\"/>\n",
              "  </svg>\n",
              "      </button>\n",
              "      \n",
              "  <style>\n",
              "    .colab-df-container {\n",
              "      display:flex;\n",
              "      flex-wrap:wrap;\n",
              "      gap: 12px;\n",
              "    }\n",
              "\n",
              "    .colab-df-convert {\n",
              "      background-color: #E8F0FE;\n",
              "      border: none;\n",
              "      border-radius: 50%;\n",
              "      cursor: pointer;\n",
              "      display: none;\n",
              "      fill: #1967D2;\n",
              "      height: 32px;\n",
              "      padding: 0 0 0 0;\n",
              "      width: 32px;\n",
              "    }\n",
              "\n",
              "    .colab-df-convert:hover {\n",
              "      background-color: #E2EBFA;\n",
              "      box-shadow: 0px 1px 2px rgba(60, 64, 67, 0.3), 0px 1px 3px 1px rgba(60, 64, 67, 0.15);\n",
              "      fill: #174EA6;\n",
              "    }\n",
              "\n",
              "    [theme=dark] .colab-df-convert {\n",
              "      background-color: #3B4455;\n",
              "      fill: #D2E3FC;\n",
              "    }\n",
              "\n",
              "    [theme=dark] .colab-df-convert:hover {\n",
              "      background-color: #434B5C;\n",
              "      box-shadow: 0px 1px 3px 1px rgba(0, 0, 0, 0.15);\n",
              "      filter: drop-shadow(0px 1px 2px rgba(0, 0, 0, 0.3));\n",
              "      fill: #FFFFFF;\n",
              "    }\n",
              "  </style>\n",
              "\n",
              "      <script>\n",
              "        const buttonEl =\n",
              "          document.querySelector('#df-34b87fb8-eb1c-41cf-b00a-e9866d67fb8b button.colab-df-convert');\n",
              "        buttonEl.style.display =\n",
              "          google.colab.kernel.accessAllowed ? 'block' : 'none';\n",
              "\n",
              "        async function convertToInteractive(key) {\n",
              "          const element = document.querySelector('#df-34b87fb8-eb1c-41cf-b00a-e9866d67fb8b');\n",
              "          const dataTable =\n",
              "            await google.colab.kernel.invokeFunction('convertToInteractive',\n",
              "                                                     [key], {});\n",
              "          if (!dataTable) return;\n",
              "\n",
              "          const docLinkHtml = 'Like what you see? Visit the ' +\n",
              "            '<a target=\"_blank\" href=https://colab.research.google.com/notebooks/data_table.ipynb>data table notebook</a>'\n",
              "            + ' to learn more about interactive tables.';\n",
              "          element.innerHTML = '';\n",
              "          dataTable['output_type'] = 'display_data';\n",
              "          await google.colab.output.renderOutput(dataTable, element);\n",
              "          const docLink = document.createElement('div');\n",
              "          docLink.innerHTML = docLinkHtml;\n",
              "          element.appendChild(docLink);\n",
              "        }\n",
              "      </script>\n",
              "    </div>\n",
              "  </div>\n",
              "  "
            ]
          },
          "metadata": {},
          "execution_count": 15
        }
      ],
      "source": [
        "x_pca['book_name']=y\n",
        "x_pca.columns = ['PC1','PC2','PC3','PC4','book_name']\n",
        "x_pca.head()"
      ]
    },
    {
      "cell_type": "code",
      "execution_count": null,
      "metadata": {
        "colab": {
          "base_uri": "https://localhost:8080/"
        },
        "id": "qQkTm2kgkDX7",
        "outputId": "0c92a121-a4e2-4636-dac5-c0f0d017d912"
      },
      "outputs": [
        {
          "output_type": "display_data",
          "data": {
            "text/plain": [
              "<Figure size 1080x576 with 1 Axes>"
            ],
            "image/png": "[encoded data removed]"
          },
          "metadata": {
            "needs_background": "light"
          }
        }
      ],
      "source": [
        "import matplotlib.pyplot as plt\n",
        "fig = plt.figure(figsize=(15,8))\n",
        "ax = fig.add_subplot(1,1,1) \n",
        "ax.set_xlabel('Principal Component 1') \n",
        "ax.set_ylabel('Principal Component 2') \n",
        "ax.set_title('2 component PCA') \n",
        "book_names = ['Accounts','principle of life','Business Studies Preliminnary 7e','Health and Human Development Units 3 and 4','Hockenbury Psychology']\n",
        "colors = ['r','g','b','orange','yellow']\n",
        "for book_name, color in zip(book_names,colors):\n",
        " indicesToKeep = x_pca['book_name'] == book_name\n",
        " ax.scatter(x_pca.loc[indicesToKeep, 'PC1']\n",
        " , x_pca.loc[indicesToKeep, 'PC2']\n",
        " , c = color\n",
        " , s = 50)\n",
        "ax.legend(book_names)\n",
        "ax.grid()"
      ]
    },
    {
      "cell_type": "code",
      "execution_count": null,
      "metadata": {
        "colab": {
          "base_uri": "https://localhost:8080/"
        },
        "id": "dZSGVZJ7SeKb",
        "outputId": "4196e86c-f24e-4e9e-da46-c433137af4e8"
      },
      "outputs": [
        {
          "output_type": "stream",
          "name": "stdout",
          "text": [
            "[t-SNE] Computing 91 nearest neighbors...\n",
            "[t-SNE] Indexed 209 samples in 0.001s...\n",
            "[t-SNE] Computed neighbors for 209 samples in 0.005s...\n",
            "[t-SNE] Computed conditional probabilities for sample 209 / 209\n",
            "[t-SNE] Mean sigma: 0.722355\n"
          ]
        },
        {
          "output_type": "stream",
          "name": "stderr",
          "text": [
            "/usr/local/lib/python3.7/dist-packages/sklearn/manifold/_t_sne.py:986: FutureWarning:\n",
            "\n",
            "The PCA initialization in TSNE will change to have the standard deviation of PC1 equal to 1e-4 in 1.2. This will ensure better convergence.\n",
            "\n"
          ]
        },
        {
          "output_type": "stream",
          "name": "stdout",
          "text": [
            "[t-SNE] KL divergence after 250 iterations with early exaggeration: 48.939663\n",
            "[t-SNE] KL divergence after 1000 iterations: -0.800068\n"
          ]
        }
      ],
      "source": [
        "tsne = TSNE(n_components=2, verbose=1, random_state=123, init='pca', learning_rate='auto')\n",
        "z = tsne.fit_transform(x) "
      ]
    },
    {
      "cell_type": "code",
      "execution_count": null,
      "metadata": {
        "colab": {
          "base_uri": "https://localhost:8080/"
        },
        "id": "ZXiWQMTiUStw",
        "outputId": "52e1ff82-f098-4389-d655-e815f4c27e88"
      },
      "outputs": [
        {
          "output_type": "execute_result",
          "data": {
            "text/plain": [
              "[Text(0.5, 1.0, 'T-SNE projection')]"
            ]
          },
          "metadata": {},
          "execution_count": 18
        },
        {
          "output_type": "display_data",
          "data": {
            "text/plain": [
              "<Figure size 1080x576 with 1 Axes>"
            ],
            "image/png": "[encoded data removed]"
          },
          "metadata": {
            "needs_background": "light"
          }
        }
      ],
      "source": [
        "df['y'] = df.book_name\n",
        "df['comp-1'] = z[:,0]\n",
        "df['comp-2'] = z[:,1]\n",
        "fig = plt.figure(figsize=(15,8))\n",
        "\n",
        "sns.scatterplot(x='comp-1', y='comp-2', hue=df.y.tolist(),\n",
        "                palette=sns.color_palette('hls', 5),\n",
        "                data=df).set(title='T-SNE projection') "
      ]
    },
    {
      "cell_type": "markdown",
      "metadata": {
        "id": "2NjxIuFXOlsd"
      },
      "source": [
        "##EDA - Danni\n"
      ]
    },
    {
      "cell_type": "code",
      "execution_count": null,
      "metadata": {
        "colab": {
          "base_uri": "https://localhost:8080/"
        },
        "id": "s5FS-xMuOkh7",
        "outputId": "50e0c183-4235-4905-80ff-11bdc6af4a78"
      },
      "outputs": [
        {
          "output_type": "execute_result",
          "data": {
            "text/plain": [
              "       saved\n",
              "False    188"
            ],
            "text/html": [
              "\n",
              "  <div id=\"df-f15398c4-94e9-4b8c-b186-f88bb98218d0\">\n",
              "    <div class=\"colab-df-container\">\n",
              "      <div>\n",
              "<style scoped>\n",
              "    .dataframe tbody tr th:only-of-type {\n",
              "        vertical-align: middle;\n",
              "    }\n",
              "\n",
              "    .dataframe tbody tr th {\n",
              "        vertical-align: top;\n",
              "    }\n",
              "\n",
              "    .dataframe thead th {\n",
              "        text-align: right;\n",
              "    }\n",
              "</style>\n",
              "<table border=\"1\" class=\"dataframe\">\n",
              "  <thead>\n",
              "    <tr style=\"text-align: right;\">\n",
              "      <th></th>\n",
              "      <th>saved</th>\n",
              "    </tr>\n",
              "  </thead>\n",
              "  <tbody>\n",
              "    <tr>\n",
              "      <th>False</th>\n",
              "      <td>188</td>\n",
              "    </tr>\n",
              "  </tbody>\n",
              "</table>\n",
              "</div>\n",
              "      <button class=\"colab-df-convert\" onclick=\"convertToInteractive('df-f15398c4-94e9-4b8c-b186-f88bb98218d0')\"\n",
              "              title=\"Convert this dataframe to an interactive table.\"\n",
              "              style=\"display:none;\">\n",
              "        \n",
              "  <svg xmlns=\"http://www.w3.org/2000/svg\" height=\"24px\"viewBox=\"0 0 24 24\"\n",
              "       width=\"24px\">\n",
              "    <path d=\"M0 0h24v24H0V0z\" fill=\"none\"/>\n",
              "    <path d=\"M18.56 5.44l.94 2.06.94-2.06 2.06-.94-2.06-.94-.94-2.06-.94 2.06-2.06.94zm-11 1L8.5 8.5l.94-2.06 2.06-.94-2.06-.94L8.5 2.5l-.94 2.06-2.06.94zm10 10l.94 2.06.94-2.06 2.06-.94-2.06-.94-.94-2.06-.94 2.06-2.06.94z\"/><path d=\"M17.41 7.96l-1.37-1.37c-.4-.4-.92-.59-1.43-.59-.52 0-1.04.2-1.43.59L10.3 9.45l-7.72 7.72c-.78.78-.78 2.05 0 2.83L4 21.41c.39.39.9.59 1.41.59.51 0 1.02-.2 1.41-.59l7.78-7.78 2.81-2.81c.8-.78.8-2.07 0-2.86zM5.41 20L4 18.59l7.72-7.72 1.47 1.35L5.41 20z\"/>\n",
              "  </svg>\n",
              "      </button>\n",
              "      \n",
              "  <style>\n",
              "    .colab-df-container {\n",
              "      display:flex;\n",
              "      flex-wrap:wrap;\n",
              "      gap: 12px;\n",
              "    }\n",
              "\n",
              "    .colab-df-convert {\n",
              "      background-color: #E8F0FE;\n",
              "      border: none;\n",
              "      border-radius: 50%;\n",
              "      cursor: pointer;\n",
              "      display: none;\n",
              "      fill: #1967D2;\n",
              "      height: 32px;\n",
              "      padding: 0 0 0 0;\n",
              "      width: 32px;\n",
              "    }\n",
              "\n",
              "    .colab-df-convert:hover {\n",
              "      background-color: #E2EBFA;\n",
              "      box-shadow: 0px 1px 2px rgba(60, 64, 67, 0.3), 0px 1px 3px 1px rgba(60, 64, 67, 0.15);\n",
              "      fill: #174EA6;\n",
              "    }\n",
              "\n",
              "    [theme=dark] .colab-df-convert {\n",
              "      background-color: #3B4455;\n",
              "      fill: #D2E3FC;\n",
              "    }\n",
              "\n",
              "    [theme=dark] .colab-df-convert:hover {\n",
              "      background-color: #434B5C;\n",
              "      box-shadow: 0px 1px 3px 1px rgba(0, 0, 0, 0.15);\n",
              "      filter: drop-shadow(0px 1px 2px rgba(0, 0, 0, 0.3));\n",
              "      fill: #FFFFFF;\n",
              "    }\n",
              "  </style>\n",
              "\n",
              "      <script>\n",
              "        const buttonEl =\n",
              "          document.querySelector('#df-f15398c4-94e9-4b8c-b186-f88bb98218d0 button.colab-df-convert');\n",
              "        buttonEl.style.display =\n",
              "          google.colab.kernel.accessAllowed ? 'block' : 'none';\n",
              "\n",
              "        async function convertToInteractive(key) {\n",
              "          const element = document.querySelector('#df-f15398c4-94e9-4b8c-b186-f88bb98218d0');\n",
              "          const dataTable =\n",
              "            await google.colab.kernel.invokeFunction('convertToInteractive',\n",
              "                                                     [key], {});\n",
              "          if (!dataTable) return;\n",
              "\n",
              "          const docLinkHtml = 'Like what you see? Visit the ' +\n",
              "            '<a target=\"_blank\" href=https://colab.research.google.com/notebooks/data_table.ipynb>data table notebook</a>'\n",
              "            + ' to learn more about interactive tables.';\n",
              "          element.innerHTML = '';\n",
              "          dataTable['output_type'] = 'display_data';\n",
              "          await google.colab.output.renderOutput(dataTable, element);\n",
              "          const docLink = document.createElement('div');\n",
              "          docLink.innerHTML = docLinkHtml;\n",
              "          element.appendChild(docLink);\n",
              "        }\n",
              "      </script>\n",
              "    </div>\n",
              "  </div>\n",
              "  "
            ]
          },
          "metadata": {},
          "execution_count": 19
        }
      ],
      "source": [
        "b = df['saved'].value_counts()\n",
        "b=pd.DataFrame(b)\n",
        "b"
      ]
    },
    {
      "cell_type": "code",
      "execution_count": null,
      "metadata": {
        "id": "8IzvaV5QRXZB"
      },
      "outputs": [],
      "source": [
        "#df.drop('Unnamed: 0', axis=1, inplace=True)\n",
        "\n",
        "df = df[~df['line'].isnull()]\n",
        "\n",
        "def preprocess(ReviewText):\n",
        "    ReviewText = ReviewText.str.replace(\"(<br/>)\", \"\", regex=True)\n",
        "    ReviewText = ReviewText.str.replace('(<a).*(>).*(</a>)', '',regex=True)\n",
        "    ReviewText = ReviewText.str.replace('(&amp)', '',regex=True)\n",
        "    ReviewText = ReviewText.str.replace('(&gt)', '',regex=True)\n",
        "    ReviewText = ReviewText.str.replace('(&lt)', '',regex=True)\n",
        "    ReviewText = ReviewText.str.replace('(\\xa0)', ' ',regex=True)  \n",
        "    return ReviewText\n",
        "df['line'] = preprocess(df['line'])\n",
        "\n",
        "df['line_len'] = df['line'].astype(str).apply(len)\n",
        "df['word_count'] = df['line'].apply(lambda x: len(str(x).split()))"
      ]
    },
    {
      "cell_type": "code",
      "execution_count": null,
      "metadata": {
        "colab": {
          "base_uri": "https://localhost:8080/"
        },
        "id": "a11mCsJVTn_W",
        "outputId": "590954e3-a72a-42c4-bdd2-03e24b0da455"
      },
      "outputs": [
        {
          "output_type": "execute_result",
          "data": {
            "text/plain": [
              "(array([ 6.,  6.,  4.,  7.,  6., 12., 17.,  8., 14.,  8., 12.,  6.,  5.,\n",
              "        15.,  6.,  9., 11.,  7., 11.,  3.,  6.,  6.,  6.,  4.,  0.,  2.,\n",
              "         4.,  0.,  0.,  2.,  0.,  2.,  0.,  1.,  1.,  0.,  0.,  0.,  1.,\n",
              "         0.,  0.,  0.,  0.,  0.,  0.,  0.,  0.,  0.,  0.,  1.]),\n",
              " array([ 40.  ,  48.04,  56.08,  64.12,  72.16,  80.2 ,  88.24,  96.28,\n",
              "        104.32, 112.36, 120.4 , 128.44, 136.48, 144.52, 152.56, 160.6 ,\n",
              "        168.64, 176.68, 184.72, 192.76, 200.8 , 208.84, 216.88, 224.92,\n",
              "        232.96, 241.  , 249.04, 257.08, 265.12, 273.16, 281.2 , 289.24,\n",
              "        297.28, 305.32, 313.36, 321.4 , 329.44, 337.48, 345.52, 353.56,\n",
              "        361.6 , 369.64, 377.68, 385.72, 393.76, 401.8 , 409.84, 417.88,\n",
              "        425.92, 433.96, 442.  ]),\n",
              " <a list of 50 Patch objects>)"
            ]
          },
          "metadata": {},
          "execution_count": 21
        },
        {
          "output_type": "display_data",
          "data": {
            "text/plain": [
              "<Figure size 432x288 with 1 Axes>"
            ],
            "image/png": "[encoded data removed]"
          },
          "metadata": {
            "needs_background": "light"
          }
        }
      ],
      "source": [
        "# The distribution text lengths\n",
        "plt.hist(df.line_len,bins=50)"
      ]
    },
    {
      "cell_type": "code",
      "execution_count": null,
      "metadata": {
        "colab": {
          "base_uri": "https://localhost:8080/"
        },
        "id": "S_wnuY_8UGqG",
        "outputId": "a0f02d34-0e66-4ba5-d8dd-bfa66cfe535e"
      },
      "outputs": [
        {
          "output_type": "execute_result",
          "data": {
            "text/plain": [
              "<seaborn.axisgrid.FacetGrid at 0x7f7f30c4d710>"
            ]
          },
          "metadata": {},
          "execution_count": 22
        },
        {
          "output_type": "display_data",
          "data": {
            "text/plain": [
              "<Figure size 360x360 with 1 Axes>"
            ],
            "image/png": "[encoded data removed]"
          },
          "metadata": {
            "needs_background": "light"
          }
        }
      ],
      "source": [
        "# The distribution of word count\n",
        "sns.displot(df, x=\"word_count\").set(title='word count distribution')"
      ]
    },
    {
      "cell_type": "code",
      "execution_count": null,
      "metadata": {
        "colab": {
          "base_uri": "https://localhost:8080/"
        },
        "id": "W112vclKG3b8",
        "outputId": "11c4eb6e-991d-49dd-c7dc-1f0425945cbe"
      },
      "outputs": [
        {
          "output_type": "execute_result",
          "data": {
            "text/plain": [
              "(array([ 6.,  4.,  7.,  1.,  6.,  7.,  6.,  0., 13., 11., 15.,  8.,  4.,\n",
              "         7.,  0.,  5., 11.,  8.,  8.,  4., 12.,  0.,  5.,  7.,  7.,  6.,\n",
              "         6.,  3.,  0.,  6.,  3.,  0.,  1.,  4.,  3.,  0.,  0.,  1.,  4.,\n",
              "         2.,  3.,  1.,  0.,  1.,  0.,  2.,  0.,  0.,  0.,  1.]),\n",
              " array([ 7.  ,  7.86,  8.72,  9.58, 10.44, 11.3 , 12.16, 13.02, 13.88,\n",
              "        14.74, 15.6 , 16.46, 17.32, 18.18, 19.04, 19.9 , 20.76, 21.62,\n",
              "        22.48, 23.34, 24.2 , 25.06, 25.92, 26.78, 27.64, 28.5 , 29.36,\n",
              "        30.22, 31.08, 31.94, 32.8 , 33.66, 34.52, 35.38, 36.24, 37.1 ,\n",
              "        37.96, 38.82, 39.68, 40.54, 41.4 , 42.26, 43.12, 43.98, 44.84,\n",
              "        45.7 , 46.56, 47.42, 48.28, 49.14, 50.  ]),\n",
              " <a list of 50 Patch objects>)"
            ]
          },
          "metadata": {},
          "execution_count": 23
        },
        {
          "output_type": "display_data",
          "data": {
            "text/plain": [
              "<Figure size 432x288 with 1 Axes>"
            ],
            "image/png": "[encoded data removed]"
          },
          "metadata": {
            "needs_background": "light"
          }
        }
      ],
      "source": [
        "plt.hist(df.word_count,bins=50)"
      ]
    },
    {
      "cell_type": "code",
      "execution_count": null,
      "metadata": {
        "colab": {
          "base_uri": "https://localhost:8080/"
        },
        "id": "Vdc9bnuNU79J",
        "outputId": "fa05794a-cddf-484d-aa92-a3971811854b"
      },
      "outputs": [
        {
          "output_type": "stream",
          "name": "stdout",
          "text": [
            "accounts receivable 4\n",
            "short term 4\n",
            "cash flow 4\n",
            "epub type 4\n",
            "type keyword 4\n",
            "keyword class 4\n",
            "class keyword 4\n",
            "000 accounts 4\n",
            "human resource 4\n",
            "human development 4\n",
            "000 cash 3\n",
            "income statement 3\n",
            "income taxes 3\n",
            "unit cost 3\n",
            "cash disbursements 3\n",
            "common stock 3\n",
            "30 000 3\n",
            "cost goods 3\n",
            "figure shows 3\n",
            "cash flows 3\n"
          ]
        }
      ],
      "source": [
        "#Top unigrams after removing stop words\n",
        "\n",
        "def get_top_n_bigram(corpus, n=None):\n",
        "    vec = CountVectorizer(ngram_range=(2, 2), stop_words='english').fit(corpus)\n",
        "    bag_of_words = vec.transform(corpus)\n",
        "    sum_words = bag_of_words.sum(axis=0) \n",
        "    words_freq = [(word, sum_words[0, idx]) for word, idx in vec.vocabulary_.items()]\n",
        "    words_freq =sorted(words_freq, key = lambda x: x[1], reverse=True)\n",
        "    return words_freq[:n]\n",
        "common_words = get_top_n_bigram(df['line'], 20)\n",
        "for word, freq in common_words:\n",
        "    print(word, freq)\n",
        "df4 = pd.DataFrame(common_words, columns = ['line' , 'count'])\n",
        "df4=df4.groupby('line').sum()['count'].sort_values(ascending=False)\n",
        "df4=pd.DataFrame(df4)"
      ]
    },
    {
      "cell_type": "code",
      "execution_count": null,
      "metadata": {
        "colab": {
          "base_uri": "https://localhost:8080/"
        },
        "id": "q6os1htSb1-C",
        "outputId": "61949eef-dd0d-4ce0-dff7-3d38eec1eaf0"
      },
      "outputs": [
        {
          "output_type": "execute_result",
          "data": {
            "text/plain": [
              "                   line  count\n",
              "0          000 accounts      4\n",
              "1         class keyword      4\n",
              "2          type keyword      4\n",
              "3            short term      4\n",
              "4         keyword class      4\n",
              "5        human resource      4\n",
              "6     human development      4\n",
              "7             epub type      4\n",
              "8             cash flow      4\n",
              "9   accounts receivable      4\n",
              "10         common stock      3\n",
              "11           cost goods      3\n",
              "12             000 cash      3\n",
              "13         figure shows      3\n",
              "14           cash flows      3\n",
              "15     income statement      3\n",
              "16         income taxes      3\n",
              "17   cash disbursements      3\n",
              "18               30 000      3\n",
              "19            unit cost      3"
            ],
            "text/html": [
              "\n",
              "  <div id=\"df-57214b2d-04ee-499f-97bf-b4f39fe3e73a\">\n",
              "    <div class=\"colab-df-container\">\n",
              "      <div>\n",
              "<style scoped>\n",
              "    .dataframe tbody tr th:only-of-type {\n",
              "        vertical-align: middle;\n",
              "    }\n",
              "\n",
              "    .dataframe tbody tr th {\n",
              "        vertical-align: top;\n",
              "    }\n",
              "\n",
              "    .dataframe thead th {\n",
              "        text-align: right;\n",
              "    }\n",
              "</style>\n",
              "<table border=\"1\" class=\"dataframe\">\n",
              "  <thead>\n",
              "    <tr style=\"text-align: right;\">\n",
              "      <th></th>\n",
              "      <th>line</th>\n",
              "      <th>count</th>\n",
              "    </tr>\n",
              "  </thead>\n",
              "  <tbody>\n",
              "    <tr>\n",
              "      <th>0</th>\n",
              "      <td>000 accounts</td>\n",
              "      <td>4</td>\n",
              "    </tr>\n",
              "    <tr>\n",
              "      <th>1</th>\n",
              "      <td>class keyword</td>\n",
              "      <td>4</td>\n",
              "    </tr>\n",
              "    <tr>\n",
              "      <th>2</th>\n",
              "      <td>type keyword</td>\n",
              "      <td>4</td>\n",
              "    </tr>\n",
              "    <tr>\n",
              "      <th>3</th>\n",
              "      <td>short term</td>\n",
              "      <td>4</td>\n",
              "    </tr>\n",
              "    <tr>\n",
              "      <th>4</th>\n",
              "      <td>keyword class</td>\n",
              "      <td>4</td>\n",
              "    </tr>\n",
              "    <tr>\n",
              "      <th>5</th>\n",
              "      <td>human resource</td>\n",
              "      <td>4</td>\n",
              "    </tr>\n",
              "    <tr>\n",
              "      <th>6</th>\n",
              "      <td>human development</td>\n",
              "      <td>4</td>\n",
              "    </tr>\n",
              "    <tr>\n",
              "      <th>7</th>\n",
              "      <td>epub type</td>\n",
              "      <td>4</td>\n",
              "    </tr>\n",
              "    <tr>\n",
              "      <th>8</th>\n",
              "      <td>cash flow</td>\n",
              "      <td>4</td>\n",
              "    </tr>\n",
              "    <tr>\n",
              "      <th>9</th>\n",
              "      <td>accounts receivable</td>\n",
              "      <td>4</td>\n",
              "    </tr>\n",
              "    <tr>\n",
              "      <th>10</th>\n",
              "      <td>common stock</td>\n",
              "      <td>3</td>\n",
              "    </tr>\n",
              "    <tr>\n",
              "      <th>11</th>\n",
              "      <td>cost goods</td>\n",
              "      <td>3</td>\n",
              "    </tr>\n",
              "    <tr>\n",
              "      <th>12</th>\n",
              "      <td>000 cash</td>\n",
              "      <td>3</td>\n",
              "    </tr>\n",
              "    <tr>\n",
              "      <th>13</th>\n",
              "      <td>figure shows</td>\n",
              "      <td>3</td>\n",
              "    </tr>\n",
              "    <tr>\n",
              "      <th>14</th>\n",
              "      <td>cash flows</td>\n",
              "      <td>3</td>\n",
              "    </tr>\n",
              "    <tr>\n",
              "      <th>15</th>\n",
              "      <td>income statement</td>\n",
              "      <td>3</td>\n",
              "    </tr>\n",
              "    <tr>\n",
              "      <th>16</th>\n",
              "      <td>income taxes</td>\n",
              "      <td>3</td>\n",
              "    </tr>\n",
              "    <tr>\n",
              "      <th>17</th>\n",
              "      <td>cash disbursements</td>\n",
              "      <td>3</td>\n",
              "    </tr>\n",
              "    <tr>\n",
              "      <th>18</th>\n",
              "      <td>30 000</td>\n",
              "      <td>3</td>\n",
              "    </tr>\n",
              "    <tr>\n",
              "      <th>19</th>\n",
              "      <td>unit cost</td>\n",
              "      <td>3</td>\n",
              "    </tr>\n",
              "  </tbody>\n",
              "</table>\n",
              "</div>\n",
              "      <button class=\"colab-df-convert\" onclick=\"convertToInteractive('df-57214b2d-04ee-499f-97bf-b4f39fe3e73a')\"\n",
              "              title=\"Convert this dataframe to an interactive table.\"\n",
              "              style=\"display:none;\">\n",
              "        \n",
              "  <svg xmlns=\"http://www.w3.org/2000/svg\" height=\"24px\"viewBox=\"0 0 24 24\"\n",
              "       width=\"24px\">\n",
              "    <path d=\"M0 0h24v24H0V0z\" fill=\"none\"/>\n",
              "    <path d=\"M18.56 5.44l.94 2.06.94-2.06 2.06-.94-2.06-.94-.94-2.06-.94 2.06-2.06.94zm-11 1L8.5 8.5l.94-2.06 2.06-.94-2.06-.94L8.5 2.5l-.94 2.06-2.06.94zm10 10l.94 2.06.94-2.06 2.06-.94-2.06-.94-.94-2.06-.94 2.06-2.06.94z\"/><path d=\"M17.41 7.96l-1.37-1.37c-.4-.4-.92-.59-1.43-.59-.52 0-1.04.2-1.43.59L10.3 9.45l-7.72 7.72c-.78.78-.78 2.05 0 2.83L4 21.41c.39.39.9.59 1.41.59.51 0 1.02-.2 1.41-.59l7.78-7.78 2.81-2.81c.8-.78.8-2.07 0-2.86zM5.41 20L4 18.59l7.72-7.72 1.47 1.35L5.41 20z\"/>\n",
              "  </svg>\n",
              "      </button>\n",
              "      \n",
              "  <style>\n",
              "    .colab-df-container {\n",
              "      display:flex;\n",
              "      flex-wrap:wrap;\n",
              "      gap: 12px;\n",
              "    }\n",
              "\n",
              "    .colab-df-convert {\n",
              "      background-color: #E8F0FE;\n",
              "      border: none;\n",
              "      border-radius: 50%;\n",
              "      cursor: pointer;\n",
              "      display: none;\n",
              "      fill: #1967D2;\n",
              "      height: 32px;\n",
              "      padding: 0 0 0 0;\n",
              "      width: 32px;\n",
              "    }\n",
              "\n",
              "    .colab-df-convert:hover {\n",
              "      background-color: #E2EBFA;\n",
              "      box-shadow: 0px 1px 2px rgba(60, 64, 67, 0.3), 0px 1px 3px 1px rgba(60, 64, 67, 0.15);\n",
              "      fill: #174EA6;\n",
              "    }\n",
              "\n",
              "    [theme=dark] .colab-df-convert {\n",
              "      background-color: #3B4455;\n",
              "      fill: #D2E3FC;\n",
              "    }\n",
              "\n",
              "    [theme=dark] .colab-df-convert:hover {\n",
              "      background-color: #434B5C;\n",
              "      box-shadow: 0px 1px 3px 1px rgba(0, 0, 0, 0.15);\n",
              "      filter: drop-shadow(0px 1px 2px rgba(0, 0, 0, 0.3));\n",
              "      fill: #FFFFFF;\n",
              "    }\n",
              "  </style>\n",
              "\n",
              "      <script>\n",
              "        const buttonEl =\n",
              "          document.querySelector('#df-57214b2d-04ee-499f-97bf-b4f39fe3e73a button.colab-df-convert');\n",
              "        buttonEl.style.display =\n",
              "          google.colab.kernel.accessAllowed ? 'block' : 'none';\n",
              "\n",
              "        async function convertToInteractive(key) {\n",
              "          const element = document.querySelector('#df-57214b2d-04ee-499f-97bf-b4f39fe3e73a');\n",
              "          const dataTable =\n",
              "            await google.colab.kernel.invokeFunction('convertToInteractive',\n",
              "                                                     [key], {});\n",
              "          if (!dataTable) return;\n",
              "\n",
              "          const docLinkHtml = 'Like what you see? Visit the ' +\n",
              "            '<a target=\"_blank\" href=https://colab.research.google.com/notebooks/data_table.ipynb>data table notebook</a>'\n",
              "            + ' to learn more about interactive tables.';\n",
              "          element.innerHTML = '';\n",
              "          dataTable['output_type'] = 'display_data';\n",
              "          await google.colab.output.renderOutput(dataTable, element);\n",
              "          const docLink = document.createElement('div');\n",
              "          docLink.innerHTML = docLinkHtml;\n",
              "          element.appendChild(docLink);\n",
              "        }\n",
              "      </script>\n",
              "    </div>\n",
              "  </div>\n",
              "  "
            ]
          },
          "metadata": {},
          "execution_count": 25
        }
      ],
      "source": [
        "df4=df4.reset_index()\n",
        "df4"
      ]
    },
    {
      "cell_type": "code",
      "execution_count": null,
      "metadata": {
        "colab": {
          "base_uri": "https://localhost:8080/"
        },
        "id": "-HtNPh44Ydir",
        "outputId": "81c3c24c-ecce-4109-f793-b227cadb69eb"
      },
      "outputs": [
        {
          "output_type": "display_data",
          "data": {
            "text/plain": [
              "<Figure size 1080x576 with 0 Axes>"
            ]
          },
          "metadata": {}
        },
        {
          "output_type": "display_data",
          "data": {
            "text/plain": [
              "<Figure size 432x288 with 1 Axes>"
            ],
            "image/png": "[encoded data removed]"
          },
          "metadata": {
            "needs_background": "light"
          }
        }
      ],
      "source": [
        "fig = plt.figure(figsize=(15,8))\n",
        "ax = df4.plot.bar(x='line', y='count')"
      ]
    },
    {
      "cell_type": "code",
      "execution_count": null,
      "metadata": {
        "colab": {
          "base_uri": "https://localhost:8080/"
        },
        "id": "bu_ICwtkZSRS",
        "outputId": "d816e916-dfb1-4733-bfb2-c562f8ab0dd3"
      },
      "outputs": [
        {
          "output_type": "execute_result",
          "data": {
            "text/plain": [
              "'\\nThe distribution text lengths\\nsns.displot(df, x=\"line_len\").set(title=\\'text length distribution\\')\\ndf.drop(\\'Unnamed: 0\\', axis=1, inplace=True)\\n\\ndf = df[~df[\\'line\\'].isnull()]\\n\\ndef preprocess(ReviewText):\\n    ReviewText = ReviewText.str.replace(\"(<br/>)\", \"\")\\n    ReviewText = ReviewText.str.replace(\\'(<a).*(>).*(</a>)\\', \\'\\')\\n    ReviewText = ReviewText.str.replace(\\'(&amp)\\', \\'\\')\\n    ReviewText = ReviewText.str.replace(\\'(&gt)\\', \\'\\')\\n    ReviewText = ReviewText.str.replace(\\'(&lt)\\', \\'\\')\\n    ReviewText = ReviewText.str.replace(\\'(\\xa0)\\', \\' \\')  \\n    return ReviewText\\ndf[\\'line\\'] = preprocess(df[\\'line\\'])\\n\\ndf[\\'line_len\\'] = df[\\'line\\'].astype(str).apply(len)\\ndf[\\'word_count\\'] = df[\\'line\\'].apply(lambda x: len(str(x).split()))\\nmanufacturing overhead 8\\nnet income 7\\nlong term 5\\nhealth wellbeing 5\\nfixed costs 5\\naccounts payable 5\\n000 cash 5\\ncommon stock 5\\nraw materials 4\\ncontribution margin 4\\nbalance sheet 4\\nwork process 4\\ntrial balance 4\\nnet cash 4\\ncash provided 4\\nprovided operating 4\\noperating activities 4\\nmental health 3\\npresent value 3\\nincome net 3\\n'"
            ],
            "application/vnd.google.colaboratory.intrinsic+json": {
              "type": "string"
            }
          },
          "metadata": {},
          "execution_count": 27
        }
      ],
      "source": [
        "'''\n",
        "The distribution text lengths\n",
        "sns.displot(df, x=\"line_len\").set(title='text length distribution')\n",
        "df.drop('Unnamed: 0', axis=1, inplace=True)\n",
        "\n",
        "df = df[~df['line'].isnull()]\n",
        "\n",
        "def preprocess(ReviewText):\n",
        "    ReviewText = ReviewText.str.replace(\"(<br/>)\", \"\")\n",
        "    ReviewText = ReviewText.str.replace('(<a).*(>).*(</a>)', '')\n",
        "    ReviewText = ReviewText.str.replace('(&amp)', '')\n",
        "    ReviewText = ReviewText.str.replace('(&gt)', '')\n",
        "    ReviewText = ReviewText.str.replace('(&lt)', '')\n",
        "    ReviewText = ReviewText.str.replace('(\\xa0)', ' ')  \n",
        "    return ReviewText\n",
        "df['line'] = preprocess(df['line'])\n",
        "\n",
        "df['line_len'] = df['line'].astype(str).apply(len)\n",
        "df['word_count'] = df['line'].apply(lambda x: len(str(x).split()))\n",
        "manufacturing overhead 8\n",
        "net income 7\n",
        "long term 5\n",
        "health wellbeing 5\n",
        "fixed costs 5\n",
        "accounts payable 5\n",
        "000 cash 5\n",
        "common stock 5\n",
        "raw materials 4\n",
        "contribution margin 4\n",
        "balance sheet 4\n",
        "work process 4\n",
        "trial balance 4\n",
        "net cash 4\n",
        "cash provided 4\n",
        "provided operating 4\n",
        "operating activities 4\n",
        "mental health 3\n",
        "present value 3\n",
        "income net 3\n",
        "'''"
      ]
    },
    {
      "cell_type": "markdown",
      "metadata": {
        "id": "4spSJhjAdPQq"
      },
      "source": [
        "## EDA - Christina Jin"
      ]
    },
    {
      "cell_type": "code",
      "execution_count": null,
      "metadata": {
        "colab": {
          "base_uri": "https://localhost:8080/"
        },
        "id": "W18NuzBtglFM",
        "outputId": "a2cfcb20-cca7-486c-b450-e5e9793ffc39"
      },
      "outputs": [
        {
          "output_type": "execute_result",
          "data": {
            "text/plain": [
              "'\\npip install    pandas matplotlib numpy    nltk seaborn sklearn gensim pyldavis    wordcloud textblob spacy textstat\\n'"
            ],
            "application/vnd.google.colaboratory.intrinsic+json": {
              "type": "string"
            }
          },
          "metadata": {},
          "execution_count": 28
        }
      ],
      "source": [
        "'''\n",
        "pip install \\\n",
        "   pandas matplotlib numpy \\\n",
        "   nltk seaborn sklearn gensim pyldavis \\\n",
        "   wordcloud textblob spacy textstat\n",
        "'''"
      ]
    },
    {
      "cell_type": "markdown",
      "metadata": {
        "id": "3wQXEaG5hw30"
      },
      "source": [
        "### 1. Text Statistics Analysis"
      ]
    },
    {
      "cell_type": "markdown",
      "metadata": {
        "id": "XP5DlULWihkt"
      },
      "source": [
        "> **1.1  Types of Questions**"
      ]
    },
    {
      "cell_type": "code",
      "execution_count": null,
      "metadata": {
        "colab": {
          "base_uri": "https://localhost:8080/"
        },
        "id": "4JS2giQJdmf6",
        "outputId": "8bdbb40d-11c1-47d6-fe8c-f7f41c0a5cb1"
      },
      "outputs": [
        {
          "output_type": "execute_result",
          "data": {
            "text/plain": [
              "           type\n",
              "Keyphrase   174\n",
              "Example      35"
            ],
            "text/html": [
              "\n",
              "  <div id=\"df-b520fd78-45df-4841-92d0-2f2105663140\">\n",
              "    <div class=\"colab-df-container\">\n",
              "      <div>\n",
              "<style scoped>\n",
              "    .dataframe tbody tr th:only-of-type {\n",
              "        vertical-align: middle;\n",
              "    }\n",
              "\n",
              "    .dataframe tbody tr th {\n",
              "        vertical-align: top;\n",
              "    }\n",
              "\n",
              "    .dataframe thead th {\n",
              "        text-align: right;\n",
              "    }\n",
              "</style>\n",
              "<table border=\"1\" class=\"dataframe\">\n",
              "  <thead>\n",
              "    <tr style=\"text-align: right;\">\n",
              "      <th></th>\n",
              "      <th>type</th>\n",
              "    </tr>\n",
              "  </thead>\n",
              "  <tbody>\n",
              "    <tr>\n",
              "      <th>Keyphrase</th>\n",
              "      <td>174</td>\n",
              "    </tr>\n",
              "    <tr>\n",
              "      <th>Example</th>\n",
              "      <td>35</td>\n",
              "    </tr>\n",
              "  </tbody>\n",
              "</table>\n",
              "</div>\n",
              "      <button class=\"colab-df-convert\" onclick=\"convertToInteractive('df-b520fd78-45df-4841-92d0-2f2105663140')\"\n",
              "              title=\"Convert this dataframe to an interactive table.\"\n",
              "              style=\"display:none;\">\n",
              "        \n",
              "  <svg xmlns=\"http://www.w3.org/2000/svg\" height=\"24px\"viewBox=\"0 0 24 24\"\n",
              "       width=\"24px\">\n",
              "    <path d=\"M0 0h24v24H0V0z\" fill=\"none\"/>\n",
              "    <path d=\"M18.56 5.44l.94 2.06.94-2.06 2.06-.94-2.06-.94-.94-2.06-.94 2.06-2.06.94zm-11 1L8.5 8.5l.94-2.06 2.06-.94-2.06-.94L8.5 2.5l-.94 2.06-2.06.94zm10 10l.94 2.06.94-2.06 2.06-.94-2.06-.94-.94-2.06-.94 2.06-2.06.94z\"/><path d=\"M17.41 7.96l-1.37-1.37c-.4-.4-.92-.59-1.43-.59-.52 0-1.04.2-1.43.59L10.3 9.45l-7.72 7.72c-.78.78-.78 2.05 0 2.83L4 21.41c.39.39.9.59 1.41.59.51 0 1.02-.2 1.41-.59l7.78-7.78 2.81-2.81c.8-.78.8-2.07 0-2.86zM5.41 20L4 18.59l7.72-7.72 1.47 1.35L5.41 20z\"/>\n",
              "  </svg>\n",
              "      </button>\n",
              "      \n",
              "  <style>\n",
              "    .colab-df-container {\n",
              "      display:flex;\n",
              "      flex-wrap:wrap;\n",
              "      gap: 12px;\n",
              "    }\n",
              "\n",
              "    .colab-df-convert {\n",
              "      background-color: #E8F0FE;\n",
              "      border: none;\n",
              "      border-radius: 50%;\n",
              "      cursor: pointer;\n",
              "      display: none;\n",
              "      fill: #1967D2;\n",
              "      height: 32px;\n",
              "      padding: 0 0 0 0;\n",
              "      width: 32px;\n",
              "    }\n",
              "\n",
              "    .colab-df-convert:hover {\n",
              "      background-color: #E2EBFA;\n",
              "      box-shadow: 0px 1px 2px rgba(60, 64, 67, 0.3), 0px 1px 3px 1px rgba(60, 64, 67, 0.15);\n",
              "      fill: #174EA6;\n",
              "    }\n",
              "\n",
              "    [theme=dark] .colab-df-convert {\n",
              "      background-color: #3B4455;\n",
              "      fill: #D2E3FC;\n",
              "    }\n",
              "\n",
              "    [theme=dark] .colab-df-convert:hover {\n",
              "      background-color: #434B5C;\n",
              "      box-shadow: 0px 1px 3px 1px rgba(0, 0, 0, 0.15);\n",
              "      filter: drop-shadow(0px 1px 2px rgba(0, 0, 0, 0.3));\n",
              "      fill: #FFFFFF;\n",
              "    }\n",
              "  </style>\n",
              "\n",
              "      <script>\n",
              "        const buttonEl =\n",
              "          document.querySelector('#df-b520fd78-45df-4841-92d0-2f2105663140 button.colab-df-convert');\n",
              "        buttonEl.style.display =\n",
              "          google.colab.kernel.accessAllowed ? 'block' : 'none';\n",
              "\n",
              "        async function convertToInteractive(key) {\n",
              "          const element = document.querySelector('#df-b520fd78-45df-4841-92d0-2f2105663140');\n",
              "          const dataTable =\n",
              "            await google.colab.kernel.invokeFunction('convertToInteractive',\n",
              "                                                     [key], {});\n",
              "          if (!dataTable) return;\n",
              "\n",
              "          const docLinkHtml = 'Like what you see? Visit the ' +\n",
              "            '<a target=\"_blank\" href=https://colab.research.google.com/notebooks/data_table.ipynb>data table notebook</a>'\n",
              "            + ' to learn more about interactive tables.';\n",
              "          element.innerHTML = '';\n",
              "          dataTable['output_type'] = 'display_data';\n",
              "          await google.colab.output.renderOutput(dataTable, element);\n",
              "          const docLink = document.createElement('div');\n",
              "          docLink.innerHTML = docLinkHtml;\n",
              "          element.appendChild(docLink);\n",
              "        }\n",
              "      </script>\n",
              "    </div>\n",
              "  </div>\n",
              "  "
            ]
          },
          "metadata": {},
          "execution_count": 29
        }
      ],
      "source": [
        "q_type = pd.DataFrame(df['type'].value_counts())\n",
        "q_type"
      ]
    },
    {
      "cell_type": "code",
      "execution_count": null,
      "metadata": {
        "colab": {
          "base_uri": "https://localhost:8080/"
        },
        "id": "KLXHqYdOdTmK",
        "outputId": "27c2c34b-2638-4008-8939-48ed4b643ffa"
      },
      "outputs": [
        {
          "output_type": "execute_result",
          "data": {
            "text/plain": [
              "Text(0.5, 1.0, 'Distribution of Question Types \\n')"
            ]
          },
          "metadata": {},
          "execution_count": 30
        },
        {
          "output_type": "display_data",
          "data": {
            "text/plain": [
              "<Figure size 432x576 with 1 Axes>"
            ],
            "image/png": "[encoded data removed]"
          },
          "metadata": {
            "needs_background": "light"
          }
        }
      ],
      "source": [
        "fig = plt.figure(figsize = (6,8))\n",
        "\n",
        "graph = sns.countplot(x='type',data=df,palette = \"bone_r\")\n",
        "graph.set_xticklabels(graph.get_xticklabels(),rotation=90)\n",
        "for p in graph.patches:\n",
        "    height = p.get_height()\n",
        "    graph.text(p.get_x()+p.get_width()/2., height + 1.1,height ,ha=\"center\")\n",
        "plt.xlabel('Question Type', size=12)\n",
        "plt.ylabel('Count', size = 12)\n",
        "plt.title('Distribution of Question Types \\n', size=16)"
      ]
    },
    {
      "cell_type": "markdown",
      "metadata": {
        "id": "n9gTubg5io0l"
      },
      "source": [
        "> **1.2 Question Content Length - Number of Words**"
      ]
    },
    {
      "cell_type": "code",
      "execution_count": null,
      "metadata": {
        "colab": {
          "base_uri": "https://localhost:8080/"
        },
        "id": "_jHeaWIHi-eO",
        "outputId": "45dc5c76-d2ef-49b9-ebac-298894af97bd"
      },
      "outputs": [
        {
          "output_type": "execute_result",
          "data": {
            "text/plain": [
              "Text(0.5, 1.0, 'Qusetion Word Count Distribution \\n')"
            ]
          },
          "metadata": {},
          "execution_count": 31
        },
        {
          "output_type": "display_data",
          "data": {
            "text/plain": [
              "<Figure size 1008x576 with 1 Axes>"
            ],
            "image/png": "[encoded data removed]"
          },
          "metadata": {
            "needs_background": "light"
          }
        }
      ],
      "source": [
        "def word_number_plot(text):\n",
        "    text.str.split().\\\n",
        "        map(lambda x: len(x)).\\\n",
        "        hist(grid=False, alpha = 0.75, bins=40, rwidth=0.9,\n",
        "             color='#607c8e',figsize=(14,8))\n",
        "\n",
        "word_number_plot(df['line'])\n",
        "plt.xlabel('Number of Words', size=12)\n",
        "plt.ylabel('Count', size = 12)\n",
        "plt.title('Qusetion Word Count Distribution \\n', size=16)"
      ]
    },
    {
      "cell_type": "markdown",
      "metadata": {
        "id": "wzE39NxJvevr"
      },
      "source": [
        "> **Text Preprocessing + Identify and Remove Stopwords**"
      ]
    },
    {
      "cell_type": "code",
      "execution_count": null,
      "metadata": {
        "colab": {
          "base_uri": "https://localhost:8080/"
        },
        "id": "a54L_IQevduv",
        "outputId": "36a163dd-cb9a-4e6a-a350-5c32b6e15d0f"
      },
      "outputs": [
        {
          "output_type": "stream",
          "name": "stdout",
          "text": [
            "[nltk_data] Downloading package stopwords to /root/nltk_data...\n",
            "[nltk_data]   Unzipping corpora/stopwords.zip.\n",
            "[nltk_data] Downloading package punkt to /root/nltk_data...\n",
            "[nltk_data]   Unzipping tokenizers/punkt.zip.\n"
          ]
        }
      ],
      "source": [
        "# load packages\n",
        "import nltk\n",
        "nltk.download('stopwords')\n",
        "nltk.download('punkt')\n",
        "stop=set(stopwords.words('english'))\n",
        "from nltk import word_tokenize\n",
        "import string\n",
        "from nltk.corpus import stopwords\n",
        "from collections import  Counter\n",
        "from collections import defaultdict"
      ]
    },
    {
      "cell_type": "code",
      "execution_count": null,
      "metadata": {
        "id": "kSlN_4o81RkW"
      },
      "outputs": [],
      "source": [
        "# remove punctuation\n",
        "def remove_punc(text):\n",
        "    for punctuation in string.punctuation:\n",
        "        text = text.replace(punctuation, '')\n",
        "    return text\n",
        "\n",
        "df['cleanedLine'] = df['line'].apply(remove_punc)"
      ]
    },
    {
      "cell_type": "code",
      "execution_count": null,
      "metadata": {
        "id": "R34nOp2azHc-"
      },
      "outputs": [],
      "source": [
        "# further pre-processing\n",
        "def preprocess(text):\n",
        "    text = text.str.replace('(&amp)', '',regex=True)\n",
        "    text = text.str.replace('(&gt)', '',regex=True)    \n",
        "    text = text.str.replace(\"(<br/>)\", \"\",regex=True)\n",
        "    text = text.str.replace('(<a).*(>).*(</a>)', '',regex=True)\n",
        "    text = text.str.replace('(&lt)', '', regex=True)\n",
        "    text = text.str.replace('(\\xa0)', ' ', regex=True)  \n",
        "    return text\n",
        "\n",
        "df['cleanedLine'] = preprocess(df['cleanedLine'])"
      ]
    },
    {
      "cell_type": "code",
      "execution_count": null,
      "metadata": {
        "id": "XWXJ79jo2Dg7"
      },
      "outputs": [],
      "source": [
        "# lower case\n",
        "df['cleanedLine'] =df['cleanedLine'].apply(lambda x:str(x).lower())"
      ]
    },
    {
      "cell_type": "code",
      "execution_count": null,
      "metadata": {
        "id": "AphAoyPRv9dg"
      },
      "outputs": [],
      "source": [
        "# create corpus of stopwords\n",
        "corpus=[]\n",
        "line = df['cleanedLine'].str.split()\n",
        "line = line.values.tolist()\n",
        "corpus=[word for i in line for word in i]\n",
        "\n",
        "from collections import defaultdict\n",
        "dic = defaultdict(int)\n",
        "for word in corpus:\n",
        "    if word in stop:\n",
        "        dic[word]+=1"
      ]
    },
    {
      "cell_type": "code",
      "execution_count": null,
      "metadata": {
        "id": "e-_cUAkX2a43"
      },
      "outputs": [],
      "source": [
        "# split into tokens\n",
        "df['processedLine'] =df['cleanedLine'].apply(lambda x:word_tokenize(x))"
      ]
    },
    {
      "cell_type": "code",
      "execution_count": null,
      "metadata": {
        "colab": {
          "base_uri": "https://localhost:8080/"
        },
        "id": "dgbFipDt21WP",
        "outputId": "6b1940a5-e703-4873-cb13-0a9507e4fdc4"
      },
      "outputs": [
        {
          "output_type": "execute_result",
          "data": {
            "text/plain": [
              "<pandas.io.formats.style.Styler at 0x7f7f2ddc6c90>"
            ],
            "text/html": [
              "<style type=\"text/css\">\n",
              "#T_2bedd_row0_col1 {\n",
              "  background-color: #000000;\n",
              "  color: #f1f1f1;\n",
              "}\n",
              "#T_2bedd_row1_col1 {\n",
              "  background-color: #666e86;\n",
              "  color: #f1f1f1;\n",
              "}\n",
              "#T_2bedd_row2_col1 {\n",
              "  background-color: #6a738a;\n",
              "  color: #f1f1f1;\n",
              "}\n",
              "#T_2bedd_row3_col1 {\n",
              "  background-color: #90a7af;\n",
              "  color: #f1f1f1;\n",
              "}\n",
              "#T_2bedd_row4_col1 {\n",
              "  background-color: #a3c1c3;\n",
              "  color: #000000;\n",
              "}\n",
              "#T_2bedd_row5_col1 {\n",
              "  background-color: #a6c6c6;\n",
              "  color: #000000;\n",
              "}\n",
              "#T_2bedd_row6_col1 {\n",
              "  background-color: #d2e2e2;\n",
              "  color: #000000;\n",
              "}\n",
              "#T_2bedd_row7_col1 {\n",
              "  background-color: #d7e6e6;\n",
              "  color: #000000;\n",
              "}\n",
              "#T_2bedd_row8_col1 {\n",
              "  background-color: #e1ecec;\n",
              "  color: #000000;\n",
              "}\n",
              "#T_2bedd_row9_col1 {\n",
              "  background-color: #e2eded;\n",
              "  color: #000000;\n",
              "}\n",
              "#T_2bedd_row10_col1 {\n",
              "  background-color: #e6efef;\n",
              "  color: #000000;\n",
              "}\n",
              "#T_2bedd_row11_col1 {\n",
              "  background-color: #fafcfb;\n",
              "  color: #000000;\n",
              "}\n",
              "#T_2bedd_row12_col1 {\n",
              "  background-color: #fefefe;\n",
              "  color: #000000;\n",
              "}\n",
              "#T_2bedd_row13_col1, #T_2bedd_row14_col1 {\n",
              "  background-color: #ffffff;\n",
              "  color: #000000;\n",
              "}\n",
              "</style>\n",
              "<table id=\"T_2bedd_\" class=\"dataframe\">\n",
              "  <thead>\n",
              "    <tr>\n",
              "      <th class=\"blank level0\" >&nbsp;</th>\n",
              "      <th class=\"col_heading level0 col0\" >top_words</th>\n",
              "      <th class=\"col_heading level0 col1\" >count</th>\n",
              "    </tr>\n",
              "  </thead>\n",
              "  <tbody>\n",
              "    <tr>\n",
              "      <th id=\"T_2bedd_level0_row0\" class=\"row_heading level0 row0\" >0</th>\n",
              "      <td id=\"T_2bedd_row0_col0\" class=\"data row0 col0\" >the</td>\n",
              "      <td id=\"T_2bedd_row0_col1\" class=\"data row0 col1\" >262</td>\n",
              "    </tr>\n",
              "    <tr>\n",
              "      <th id=\"T_2bedd_level0_row1\" class=\"row_heading level0 row1\" >1</th>\n",
              "      <td id=\"T_2bedd_row1_col0\" class=\"data row1 col0\" >and</td>\n",
              "      <td id=\"T_2bedd_row1_col1\" class=\"data row1 col1\" >152</td>\n",
              "    </tr>\n",
              "    <tr>\n",
              "      <th id=\"T_2bedd_level0_row2\" class=\"row_heading level0 row2\" >2</th>\n",
              "      <td id=\"T_2bedd_row2_col0\" class=\"data row2 col0\" >of</td>\n",
              "      <td id=\"T_2bedd_row2_col1\" class=\"data row2 col1\" >148</td>\n",
              "    </tr>\n",
              "    <tr>\n",
              "      <th id=\"T_2bedd_level0_row3\" class=\"row_heading level0 row3\" >3</th>\n",
              "      <td id=\"T_2bedd_row3_col0\" class=\"data row3 col0\" >in</td>\n",
              "      <td id=\"T_2bedd_row3_col1\" class=\"data row3 col1\" >108</td>\n",
              "    </tr>\n",
              "    <tr>\n",
              "      <th id=\"T_2bedd_level0_row4\" class=\"row_heading level0 row4\" >4</th>\n",
              "      <td id=\"T_2bedd_row4_col0\" class=\"data row4 col0\" >a</td>\n",
              "      <td id=\"T_2bedd_row4_col1\" class=\"data row4 col1\" >87</td>\n",
              "    </tr>\n",
              "    <tr>\n",
              "      <th id=\"T_2bedd_level0_row5\" class=\"row_heading level0 row5\" >5</th>\n",
              "      <td id=\"T_2bedd_row5_col0\" class=\"data row5 col0\" >to</td>\n",
              "      <td id=\"T_2bedd_row5_col1\" class=\"data row5 col1\" >83</td>\n",
              "    </tr>\n",
              "    <tr>\n",
              "      <th id=\"T_2bedd_level0_row6\" class=\"row_heading level0 row6\" >6</th>\n",
              "      <td id=\"T_2bedd_row6_col0\" class=\"data row6 col0\" >is</td>\n",
              "      <td id=\"T_2bedd_row6_col1\" class=\"data row6 col1\" >53</td>\n",
              "    </tr>\n",
              "    <tr>\n",
              "      <th id=\"T_2bedd_level0_row7\" class=\"row_heading level0 row7\" >7</th>\n",
              "      <td id=\"T_2bedd_row7_col0\" class=\"data row7 col0\" >for</td>\n",
              "      <td id=\"T_2bedd_row7_col1\" class=\"data row7 col1\" >50</td>\n",
              "    </tr>\n",
              "    <tr>\n",
              "      <th id=\"T_2bedd_level0_row8\" class=\"row_heading level0 row8\" >8</th>\n",
              "      <td id=\"T_2bedd_row8_col0\" class=\"data row8 col0\" >as</td>\n",
              "      <td id=\"T_2bedd_row8_col1\" class=\"data row8 col1\" >43</td>\n",
              "    </tr>\n",
              "    <tr>\n",
              "      <th id=\"T_2bedd_level0_row9\" class=\"row_heading level0 row9\" >9</th>\n",
              "      <td id=\"T_2bedd_row9_col0\" class=\"data row9 col0\" >are</td>\n",
              "      <td id=\"T_2bedd_row9_col1\" class=\"data row9 col1\" >42</td>\n",
              "    </tr>\n",
              "    <tr>\n",
              "      <th id=\"T_2bedd_level0_row10\" class=\"row_heading level0 row10\" >10</th>\n",
              "      <td id=\"T_2bedd_row10_col0\" class=\"data row10 col0\" >that</td>\n",
              "      <td id=\"T_2bedd_row10_col1\" class=\"data row10 col1\" >39</td>\n",
              "    </tr>\n",
              "    <tr>\n",
              "      <th id=\"T_2bedd_level0_row11\" class=\"row_heading level0 row11\" >11</th>\n",
              "      <td id=\"T_2bedd_row11_col0\" class=\"data row11 col0\" >cash</td>\n",
              "      <td id=\"T_2bedd_row11_col1\" class=\"data row11 col1\" >26</td>\n",
              "    </tr>\n",
              "    <tr>\n",
              "      <th id=\"T_2bedd_level0_row12\" class=\"row_heading level0 row12\" >12</th>\n",
              "      <td id=\"T_2bedd_row12_col0\" class=\"data row12 col0\" >from</td>\n",
              "      <td id=\"T_2bedd_row12_col1\" class=\"data row12 col1\" >23</td>\n",
              "    </tr>\n",
              "    <tr>\n",
              "      <th id=\"T_2bedd_level0_row13\" class=\"row_heading level0 row13\" >13</th>\n",
              "      <td id=\"T_2bedd_row13_col0\" class=\"data row13 col0\" >on</td>\n",
              "      <td id=\"T_2bedd_row13_col1\" class=\"data row13 col1\" >22</td>\n",
              "    </tr>\n",
              "    <tr>\n",
              "      <th id=\"T_2bedd_level0_row14\" class=\"row_heading level0 row14\" >14</th>\n",
              "      <td id=\"T_2bedd_row14_col0\" class=\"data row14 col0\" >by</td>\n",
              "      <td id=\"T_2bedd_row14_col1\" class=\"data row14 col1\" >22</td>\n",
              "    </tr>\n",
              "  </tbody>\n",
              "</table>\n"
            ]
          },
          "metadata": {},
          "execution_count": 38
        }
      ],
      "source": [
        "# inspect words with top occurency\n",
        "\n",
        "top = Counter([item for sublist in df['processedLine'] for item in sublist])\n",
        "top_temp = pd.DataFrame(top.most_common(15))\n",
        "top_temp.columns = ['top_words','count']\n",
        "top_temp.style.background_gradient(cmap='bone_r')"
      ]
    },
    {
      "cell_type": "code",
      "execution_count": null,
      "metadata": {
        "id": "0m3LT0wN3irK"
      },
      "outputs": [],
      "source": [
        "# remove stopwords\n",
        "def remove_stopword(context):\n",
        "    return [word for word in context if word not in stopwords.words('english')]\n",
        "\n",
        "df['processedLine'] = df['processedLine'].apply(lambda x:remove_stopword(x))"
      ]
    },
    {
      "cell_type": "markdown",
      "metadata": {
        "id": "iU_EpM4wxnJi"
      },
      "source": [
        "> **1.3 Most Frequent Words (Non-stopwords)**"
      ]
    },
    {
      "cell_type": "code",
      "execution_count": null,
      "metadata": {
        "colab": {
          "base_uri": "https://localhost:8080/"
        },
        "id": "p2E3hSFd5PfT",
        "outputId": "3a69f744-d052-4e47-8c75-796f9a0fce86"
      },
      "outputs": [
        {
          "output_type": "execute_result",
          "data": {
            "text/plain": [
              "<pandas.io.formats.style.Styler at 0x7f7f2ddc46d0>"
            ],
            "text/html": [
              "<style type=\"text/css\">\n",
              "#T_46bd5_row0_col1 {\n",
              "  background-color: #2c3172;\n",
              "  color: #f1f1f1;\n",
              "}\n",
              "#T_46bd5_row1_col1 {\n",
              "  background-color: #25788c;\n",
              "  color: #f1f1f1;\n",
              "}\n",
              "#T_46bd5_row2_col1 {\n",
              "  background-color: #57a490;\n",
              "  color: #f1f1f1;\n",
              "}\n",
              "#T_46bd5_row3_col1, #T_46bd5_row4_col1, #T_46bd5_row5_col1, #T_46bd5_row6_col1 {\n",
              "  background-color: #73b590;\n",
              "  color: #f1f1f1;\n",
              "}\n",
              "#T_46bd5_row7_col1 {\n",
              "  background-color: #84bd91;\n",
              "  color: #000000;\n",
              "}\n",
              "#T_46bd5_row8_col1, #T_46bd5_row9_col1, #T_46bd5_row10_col1, #T_46bd5_row11_col1, #T_46bd5_row12_col1, #T_46bd5_row13_col1 {\n",
              "  background-color: #94c591;\n",
              "  color: #000000;\n",
              "}\n",
              "#T_46bd5_row14_col1, #T_46bd5_row15_col1, #T_46bd5_row16_col1, #T_46bd5_row17_col1, #T_46bd5_row18_col1, #T_46bd5_row19_col1 {\n",
              "  background-color: #a5cd90;\n",
              "  color: #000000;\n",
              "}\n",
              "</style>\n",
              "<table id=\"T_46bd5_\" class=\"dataframe\">\n",
              "  <thead>\n",
              "    <tr>\n",
              "      <th class=\"blank level0\" >&nbsp;</th>\n",
              "      <th class=\"col_heading level0 col0\" >top_words</th>\n",
              "      <th class=\"col_heading level0 col1\" >count</th>\n",
              "    </tr>\n",
              "  </thead>\n",
              "  <tbody>\n",
              "    <tr>\n",
              "      <th id=\"T_46bd5_level0_row0\" class=\"row_heading level0 row0\" >0</th>\n",
              "      <td id=\"T_46bd5_row0_col0\" class=\"data row0 col0\" >cash</td>\n",
              "      <td id=\"T_46bd5_row0_col1\" class=\"data row0 col1\" >26</td>\n",
              "    </tr>\n",
              "    <tr>\n",
              "      <th id=\"T_46bd5_level0_row1\" class=\"row_heading level0 row1\" >1</th>\n",
              "      <td id=\"T_46bd5_row1_col0\" class=\"data row1 col0\" >figure</td>\n",
              "      <td id=\"T_46bd5_row1_col1\" class=\"data row1 col1\" >19</td>\n",
              "    </tr>\n",
              "    <tr>\n",
              "      <th id=\"T_46bd5_level0_row2\" class=\"row_heading level0 row2\" >2</th>\n",
              "      <td id=\"T_46bd5_row2_col0\" class=\"data row2 col0\" >cost</td>\n",
              "      <td id=\"T_46bd5_row2_col1\" class=\"data row2 col1\" >14</td>\n",
              "    </tr>\n",
              "    <tr>\n",
              "      <th id=\"T_46bd5_level0_row3\" class=\"row_heading level0 row3\" >3</th>\n",
              "      <td id=\"T_46bd5_row3_col0\" class=\"data row3 col0\" >costs</td>\n",
              "      <td id=\"T_46bd5_row3_col1\" class=\"data row3 col1\" >12</td>\n",
              "    </tr>\n",
              "    <tr>\n",
              "      <th id=\"T_46bd5_level0_row4\" class=\"row_heading level0 row4\" >4</th>\n",
              "      <td id=\"T_46bd5_row4_col0\" class=\"data row4 col0\" >two</td>\n",
              "      <td id=\"T_46bd5_row4_col1\" class=\"data row4 col1\" >12</td>\n",
              "    </tr>\n",
              "    <tr>\n",
              "      <th id=\"T_46bd5_level0_row5\" class=\"row_heading level0 row5\" >5</th>\n",
              "      <td id=\"T_46bd5_row5_col0\" class=\"data row5 col0\" >accounts</td>\n",
              "      <td id=\"T_46bd5_row5_col1\" class=\"data row5 col1\" >12</td>\n",
              "    </tr>\n",
              "    <tr>\n",
              "      <th id=\"T_46bd5_level0_row6\" class=\"row_heading level0 row6\" >6</th>\n",
              "      <td id=\"T_46bd5_row6_col0\" class=\"data row6 col0\" >system</td>\n",
              "      <td id=\"T_46bd5_row6_col1\" class=\"data row6 col1\" >12</td>\n",
              "    </tr>\n",
              "    <tr>\n",
              "      <th id=\"T_46bd5_level0_row7\" class=\"row_heading level0 row7\" >7</th>\n",
              "      <td id=\"T_46bd5_row7_col0\" class=\"data row7 col0\" >’</td>\n",
              "      <td id=\"T_46bd5_row7_col1\" class=\"data row7 col1\" >11</td>\n",
              "    </tr>\n",
              "    <tr>\n",
              "      <th id=\"T_46bd5_level0_row8\" class=\"row_heading level0 row8\" >8</th>\n",
              "      <td id=\"T_46bd5_row8_col0\" class=\"data row8 col0\" >expense</td>\n",
              "      <td id=\"T_46bd5_row8_col1\" class=\"data row8 col1\" >10</td>\n",
              "    </tr>\n",
              "    <tr>\n",
              "      <th id=\"T_46bd5_level0_row9\" class=\"row_heading level0 row9\" >9</th>\n",
              "      <td id=\"T_46bd5_row9_col0\" class=\"data row9 col0\" >process</td>\n",
              "      <td id=\"T_46bd5_row9_col1\" class=\"data row9 col1\" >10</td>\n",
              "    </tr>\n",
              "    <tr>\n",
              "      <th id=\"T_46bd5_level0_row10\" class=\"row_heading level0 row10\" >10</th>\n",
              "      <td id=\"T_46bd5_row10_col0\" class=\"data row10 col0\" >illustration</td>\n",
              "      <td id=\"T_46bd5_row10_col1\" class=\"data row10 col1\" >10</td>\n",
              "    </tr>\n",
              "    <tr>\n",
              "      <th id=\"T_46bd5_level0_row11\" class=\"row_heading level0 row11\" >11</th>\n",
              "      <td id=\"T_46bd5_row11_col0\" class=\"data row11 col0\" >income</td>\n",
              "      <td id=\"T_46bd5_row11_col1\" class=\"data row11 col1\" >10</td>\n",
              "    </tr>\n",
              "    <tr>\n",
              "      <th id=\"T_46bd5_level0_row12\" class=\"row_heading level0 row12\" >12</th>\n",
              "      <td id=\"T_46bd5_row12_col0\" class=\"data row12 col0\" >2</td>\n",
              "      <td id=\"T_46bd5_row12_col1\" class=\"data row12 col1\" >10</td>\n",
              "    </tr>\n",
              "    <tr>\n",
              "      <th id=\"T_46bd5_level0_row13\" class=\"row_heading level0 row13\" >13</th>\n",
              "      <td id=\"T_46bd5_row13_col0\" class=\"data row13 col0\" >human</td>\n",
              "      <td id=\"T_46bd5_row13_col1\" class=\"data row13 col1\" >10</td>\n",
              "    </tr>\n",
              "    <tr>\n",
              "      <th id=\"T_46bd5_level0_row14\" class=\"row_heading level0 row14\" >14</th>\n",
              "      <td id=\"T_46bd5_row14_col0\" class=\"data row14 col0\" >1</td>\n",
              "      <td id=\"T_46bd5_row14_col1\" class=\"data row14 col1\" >9</td>\n",
              "    </tr>\n",
              "    <tr>\n",
              "      <th id=\"T_46bd5_level0_row15\" class=\"row_heading level0 row15\" >15</th>\n",
              "      <td id=\"T_46bd5_row15_col0\" class=\"data row15 col0\" >following</td>\n",
              "      <td id=\"T_46bd5_row15_col1\" class=\"data row15 col1\" >9</td>\n",
              "    </tr>\n",
              "    <tr>\n",
              "      <th id=\"T_46bd5_level0_row16\" class=\"row_heading level0 row16\" >16</th>\n",
              "      <td id=\"T_46bd5_row16_col0\" class=\"data row16 col0\" >cells</td>\n",
              "      <td id=\"T_46bd5_row16_col1\" class=\"data row16 col1\" >9</td>\n",
              "    </tr>\n",
              "    <tr>\n",
              "      <th id=\"T_46bd5_level0_row17\" class=\"row_heading level0 row17\" >17</th>\n",
              "      <td id=\"T_46bd5_row17_col0\" class=\"data row17 col0\" >shows</td>\n",
              "      <td id=\"T_46bd5_row17_col1\" class=\"data row17 col1\" >9</td>\n",
              "    </tr>\n",
              "    <tr>\n",
              "      <th id=\"T_46bd5_level0_row18\" class=\"row_heading level0 row18\" >18</th>\n",
              "      <td id=\"T_46bd5_row18_col0\" class=\"data row18 col0\" >company</td>\n",
              "      <td id=\"T_46bd5_row18_col1\" class=\"data row18 col1\" >9</td>\n",
              "    </tr>\n",
              "    <tr>\n",
              "      <th id=\"T_46bd5_level0_row19\" class=\"row_heading level0 row19\" >19</th>\n",
              "      <td id=\"T_46bd5_row19_col0\" class=\"data row19 col0\" >development</td>\n",
              "      <td id=\"T_46bd5_row19_col1\" class=\"data row19 col1\" >9</td>\n",
              "    </tr>\n",
              "  </tbody>\n",
              "</table>\n"
            ]
          },
          "metadata": {},
          "execution_count": 40
        }
      ],
      "source": [
        "# inspect words with top occurency AFTER removing stopwords\n",
        "\n",
        "top = Counter([item for sublist in df['processedLine'] for item in sublist])\n",
        "top_temp = pd.DataFrame(top.most_common(20))\n",
        "top_temp.columns = ['top_words','count']\n",
        "top_temp.style.background_gradient(cmap='crest')"
      ]
    },
    {
      "cell_type": "code",
      "execution_count": null,
      "metadata": {
        "colab": {
          "base_uri": "https://localhost:8080/"
        },
        "id": "eRo8QOEoCQSM",
        "outputId": "fca120bb-cef0-4c95-e8dc-753267e8537c"
      },
      "outputs": [
        {
          "output_type": "execute_result",
          "data": {
            "text/plain": [
              "Text(0.5, 1.0, 'Most Frequent Words Among Question \\n')"
            ]
          },
          "metadata": {},
          "execution_count": 41
        },
        {
          "output_type": "display_data",
          "data": {
            "text/plain": [
              "<Figure size 1008x720 with 1 Axes>"
            ],
            "image/png": "[encoded data removed]"
          },
          "metadata": {
            "needs_background": "light"
          }
        }
      ],
      "source": [
        "from matplotlib import rcParams\n",
        "\n",
        "rcParams['figure.figsize'] = 14,10\n",
        "ax = sns.barplot(x=\"count\", y=\"top_words\", data=top_temp) #palette=\"ch:.25_r\", edgecolor=\".6\"\n",
        "\n",
        "\n",
        "def show_value_on_bars(ax, space=0.4):\n",
        "        for p in ax.patches:\n",
        "            _x = p.get_x() + p.get_width() + float(space)\n",
        "            _y = p.get_y() + p.get_height() / 1.4\n",
        "            value = int(p.get_width())\n",
        "            ax.text(_x, _y, value, ha=\"center\")\n",
        "\n",
        "show_value_on_bars(ax, 0.4)\n",
        "\n",
        "plt.xlabel('Count', size=12)\n",
        "plt.ylabel('Top Words', size = 12)\n",
        "plt.title('Most Frequent Words Among Question \\n', size=16)"
      ]
    },
    {
      "cell_type": "markdown",
      "metadata": {
        "id": "T5B92RalGeGR"
      },
      "source": [
        "### 2. N-gram Exploration"
      ]
    },
    {
      "cell_type": "code",
      "execution_count": null,
      "metadata": {
        "id": "UZTluZtvGiIK"
      },
      "outputs": [],
      "source": [
        "# load packages\n",
        "from nltk.util import ngrams\n",
        "from sklearn.feature_extraction.text import CountVectorizer\n",
        "from collections import  Counter"
      ]
    },
    {
      "cell_type": "code",
      "execution_count": null,
      "metadata": {
        "id": "WMIJkEuEGu3L"
      },
      "outputs": [],
      "source": [
        "def plot_top_ngrams(text, n=2, pal=\"ch:s=-.2,r=.6_r\"):\n",
        "    stop=set(stopwords.words('english'))\n",
        "\n",
        "    line = text.str.split()\n",
        "    line = line.values.tolist()\n",
        "    corpus=[word for i in line for word in i if word not in stop ]\n",
        "\n",
        "    def _get_top_ngram(corpus, n=None):\n",
        "        vec = CountVectorizer(ngram_range=(n, n)).fit(corpus)\n",
        "        bag_of_words = vec.transform(corpus)\n",
        "        sum_words = bag_of_words.sum(axis=0) \n",
        "        words_freq = [(word, sum_words[0, idx]) \n",
        "                      for word, idx in vec.vocabulary_.items()]\n",
        "        words_freq =sorted(words_freq, key = lambda x: x[1], reverse=True)\n",
        "        return words_freq[:10]\n",
        "\n",
        "    top_ngrams=_get_top_ngram(text,n)[:10]\n",
        "    x,y=map(list,zip(*top_ngrams))\n",
        "    sns.barplot(x=y,y=x,palette=pal)"
      ]
    },
    {
      "cell_type": "code",
      "execution_count": null,
      "metadata": {
        "colab": {
          "base_uri": "https://localhost:8080/"
        },
        "id": "dETKvOBrJigG",
        "outputId": "53a18ffc-b4a0-41af-ee92-1e48616bec60"
      },
      "outputs": [
        {
          "output_type": "execute_result",
          "data": {
            "text/plain": [
              "Text(0.5, 1.0, 'Most Frequent Trigrams Among Question \\n')"
            ]
          },
          "metadata": {},
          "execution_count": 44
        },
        {
          "output_type": "display_data",
          "data": {
            "text/plain": [
              "<Figure size 864x576 with 1 Axes>"
            ],
            "image/png": "[encoded data removed]"
          },
          "metadata": {
            "needs_background": "light"
          }
        }
      ],
      "source": [
        "# plot top trigrams\n",
        "\n",
        "rcParams['figure.figsize'] = 12,8\n",
        "top_trigram = plot_top_ngrams(df['cleanedLine'],3)\n",
        "\n",
        "def show_value_on_bars(top_trigram, space=0.4):\n",
        "        for p in ax.patches:\n",
        "            _x = p.get_x() + p.get_width() + float(space)\n",
        "            _y = p.get_y() + p.get_height() / 1.4\n",
        "            value = int(p.get_width())\n",
        "            ax.text(_x, _y, value, ha=\"center\")\n",
        "\n",
        "show_value_on_bars(ax, 0.4)\n",
        "\n",
        "plt.xlabel('Count', size=12)\n",
        "plt.ylabel('Top Trigrams', size = 12)\n",
        "plt.title('Most Frequent Trigrams Among Question \\n', size=16)"
      ]
    },
    {
      "cell_type": "markdown",
      "source": [
        "####ner"
      ],
      "metadata": {
        "id": "Fb4IBZidZFKA"
      }
    },
    {
      "cell_type": "code",
      "source": [
        "import spacy\n",
        "nlp = spacy.load(\"en_core_web_sm\")"
      ],
      "metadata": {
        "id": "TkM_uXh1ZNf6"
      },
      "execution_count": null,
      "outputs": []
    },
    {
      "cell_type": "code",
      "source": [
        "def ner(text):\n",
        "    doc=nlp(text)\n",
        "    return [X.label_ for X in doc.ents]\n",
        "\n",
        "ent=df['cleanedLine'].\\\n",
        "    apply(lambda x : ner(x))\n",
        "ent=[x for sub in ent for x in sub]\n",
        "\n",
        "counter=Counter(ent)\n",
        "count=counter.most_common()"
      ],
      "metadata": {
        "id": "weQaoaalZ8C0"
      },
      "execution_count": null,
      "outputs": []
    },
    {
      "cell_type": "code",
      "source": [
        "'''\n",
        "x,y=map(list,zip(*count))\n",
        "sns.barplot(x=y,y=x)\n",
        "'''"
      ],
      "metadata": {
        "colab": {
          "base_uri": "https://localhost:8080/"
        },
        "id": "ft_obhwLaNAF",
        "outputId": "ffc1d6ca-357e-46b4-86ac-b05dff017cbf"
      },
      "execution_count": null,
      "outputs": [
        {
          "output_type": "execute_result",
          "data": {
            "text/plain": [
              "'\\nx,y=map(list,zip(*count))\\nsns.barplot(x=y,y=x)\\n'"
            ],
            "application/vnd.google.colaboratory.intrinsic+json": {
              "type": "string"
            }
          },
          "metadata": {},
          "execution_count": 47
        }
      ]
    },
    {
      "cell_type": "markdown",
      "metadata": {
        "id": "MI1m3pRSsQ6u"
      },
      "source": [
        "##EDA-Rajvi\n"
      ]
    },
    {
      "cell_type": "code",
      "execution_count": null,
      "metadata": {
        "colab": {
          "base_uri": "https://localhost:8080/"
        },
        "id": "-0mhLnHesP55",
        "outputId": "49ab5754-b8ad-4cbb-be14-d372a69d48d8"
      },
      "outputs": [
        {
          "output_type": "execute_result",
          "data": {
            "text/plain": [
              "Text(0.5, 0, 'Chapter name')"
            ]
          },
          "metadata": {},
          "execution_count": 48
        },
        {
          "output_type": "display_data",
          "data": {
            "text/plain": [
              "<Figure size 720x360 with 1 Axes>"
            ],
            "image/png": "[encoded data removed]"
          },
          "metadata": {
            "needs_background": "light"
          }
        }
      ],
      "source": [
        "df['chapters.chapter_name'].value_counts().nlargest(50).plot(kind='bar',color= 'yellow',figsize=(10,5))\n",
        "plt.title('Frequency of Chapter name')\n",
        "plt.ylabel('Counts of Chapter name')\n",
        "plt.xlabel('Chapter name')"
      ]
    },
    {
      "cell_type": "markdown",
      "metadata": {
        "id": "d82p6CwClDhT"
      },
      "source": [
        "#CNN_Model_Danni\n"
      ]
    },
    {
      "cell_type": "markdown",
      "metadata": {
        "id": "RjPwxI3am4qu"
      },
      "source": [
        "##pre"
      ]
    },
    {
      "cell_type": "code",
      "execution_count": null,
      "metadata": {
        "id": "XWBJdnTElLxk"
      },
      "outputs": [],
      "source": [
        "data=df[['line','saved']]"
      ]
    },
    {
      "cell_type": "code",
      "source": [
        "data[\"saved\"] = data[\"saved\"]*1"
      ],
      "metadata": {
        "id": "LQdYnSOPyKq0"
      },
      "execution_count": null,
      "outputs": []
    },
    {
      "cell_type": "code",
      "execution_count": null,
      "metadata": {
        "id": "NrkuHGfZlicr"
      },
      "outputs": [],
      "source": [
        "data=data.fillna(\"1\")"
      ]
    },
    {
      "cell_type": "code",
      "source": [
        "data.saved = np.asarray(data.saved).astype('float32')"
      ],
      "metadata": {
        "id": "0hNIHY0VyjA_"
      },
      "execution_count": null,
      "outputs": []
    },
    {
      "cell_type": "code",
      "execution_count": null,
      "metadata": {
        "colab": {
          "base_uri": "https://localhost:8080/"
        },
        "id": "NumvytmOl_NT",
        "outputId": "4f2996b6-c874-4dde-9f8d-f4fb0de53fe1"
      },
      "outputs": [
        {
          "output_type": "execute_result",
          "data": {
            "text/plain": [
              "                                                  line  saved\n",
              "0    Maternal tobacco, alcohol and drug use, and ma...    0.0\n",
              "1    Publicity and global branding Global branding ...    0.0\n",
              "2    A debit of $395 to Advertising Expense was pos...    0.0\n",
              "3    Here are some of the costs that your snowboard...    0.0\n",
              "4    What is a possible scenario that would provide...    0.0\n",
              "..                                                 ...    ...\n",
              "204  Animation 10.1 Transcription PoL3e.com/a10.1  ...    1.0\n",
              "205  Growth of a plant cell is restricted by the ce...    1.0\n",
              "206  <p><img src=\"http://d1q3p76q2qt5dz.cloudfront....    1.0\n",
              "207  For example, Eysenck proposed that an introver...    1.0\n",
              "208  <p><img src=\"http://d1q3p76q2qt5dz.cloudfront....    1.0\n",
              "\n",
              "[209 rows x 2 columns]"
            ],
            "text/html": [
              "\n",
              "  <div id=\"df-2a6439f3-20c0-4db7-96f6-09a858be1326\">\n",
              "    <div class=\"colab-df-container\">\n",
              "      <div>\n",
              "<style scoped>\n",
              "    .dataframe tbody tr th:only-of-type {\n",
              "        vertical-align: middle;\n",
              "    }\n",
              "\n",
              "    .dataframe tbody tr th {\n",
              "        vertical-align: top;\n",
              "    }\n",
              "\n",
              "    .dataframe thead th {\n",
              "        text-align: right;\n",
              "    }\n",
              "</style>\n",
              "<table border=\"1\" class=\"dataframe\">\n",
              "  <thead>\n",
              "    <tr style=\"text-align: right;\">\n",
              "      <th></th>\n",
              "      <th>line</th>\n",
              "      <th>saved</th>\n",
              "    </tr>\n",
              "  </thead>\n",
              "  <tbody>\n",
              "    <tr>\n",
              "      <th>0</th>\n",
              "      <td>Maternal tobacco, alcohol and drug use, and ma...</td>\n",
              "      <td>0.0</td>\n",
              "    </tr>\n",
              "    <tr>\n",
              "      <th>1</th>\n",
              "      <td>Publicity and global branding Global branding ...</td>\n",
              "      <td>0.0</td>\n",
              "    </tr>\n",
              "    <tr>\n",
              "      <th>2</th>\n",
              "      <td>A debit of $395 to Advertising Expense was pos...</td>\n",
              "      <td>0.0</td>\n",
              "    </tr>\n",
              "    <tr>\n",
              "      <th>3</th>\n",
              "      <td>Here are some of the costs that your snowboard...</td>\n",
              "      <td>0.0</td>\n",
              "    </tr>\n",
              "    <tr>\n",
              "      <th>4</th>\n",
              "      <td>What is a possible scenario that would provide...</td>\n",
              "      <td>0.0</td>\n",
              "    </tr>\n",
              "    <tr>\n",
              "      <th>...</th>\n",
              "      <td>...</td>\n",
              "      <td>...</td>\n",
              "    </tr>\n",
              "    <tr>\n",
              "      <th>204</th>\n",
              "      <td>Animation 10.1 Transcription PoL3e.com/a10.1  ...</td>\n",
              "      <td>1.0</td>\n",
              "    </tr>\n",
              "    <tr>\n",
              "      <th>205</th>\n",
              "      <td>Growth of a plant cell is restricted by the ce...</td>\n",
              "      <td>1.0</td>\n",
              "    </tr>\n",
              "    <tr>\n",
              "      <th>206</th>\n",
              "      <td>&lt;p&gt;&lt;img src=\"http://d1q3p76q2qt5dz.cloudfront....</td>\n",
              "      <td>1.0</td>\n",
              "    </tr>\n",
              "    <tr>\n",
              "      <th>207</th>\n",
              "      <td>For example, Eysenck proposed that an introver...</td>\n",
              "      <td>1.0</td>\n",
              "    </tr>\n",
              "    <tr>\n",
              "      <th>208</th>\n",
              "      <td>&lt;p&gt;&lt;img src=\"http://d1q3p76q2qt5dz.cloudfront....</td>\n",
              "      <td>1.0</td>\n",
              "    </tr>\n",
              "  </tbody>\n",
              "</table>\n",
              "<p>209 rows × 2 columns</p>\n",
              "</div>\n",
              "      <button class=\"colab-df-convert\" onclick=\"convertToInteractive('df-2a6439f3-20c0-4db7-96f6-09a858be1326')\"\n",
              "              title=\"Convert this dataframe to an interactive table.\"\n",
              "              style=\"display:none;\">\n",
              "        \n",
              "  <svg xmlns=\"http://www.w3.org/2000/svg\" height=\"24px\"viewBox=\"0 0 24 24\"\n",
              "       width=\"24px\">\n",
              "    <path d=\"M0 0h24v24H0V0z\" fill=\"none\"/>\n",
              "    <path d=\"M18.56 5.44l.94 2.06.94-2.06 2.06-.94-2.06-.94-.94-2.06-.94 2.06-2.06.94zm-11 1L8.5 8.5l.94-2.06 2.06-.94-2.06-.94L8.5 2.5l-.94 2.06-2.06.94zm10 10l.94 2.06.94-2.06 2.06-.94-2.06-.94-.94-2.06-.94 2.06-2.06.94z\"/><path d=\"M17.41 7.96l-1.37-1.37c-.4-.4-.92-.59-1.43-.59-.52 0-1.04.2-1.43.59L10.3 9.45l-7.72 7.72c-.78.78-.78 2.05 0 2.83L4 21.41c.39.39.9.59 1.41.59.51 0 1.02-.2 1.41-.59l7.78-7.78 2.81-2.81c.8-.78.8-2.07 0-2.86zM5.41 20L4 18.59l7.72-7.72 1.47 1.35L5.41 20z\"/>\n",
              "  </svg>\n",
              "      </button>\n",
              "      \n",
              "  <style>\n",
              "    .colab-df-container {\n",
              "      display:flex;\n",
              "      flex-wrap:wrap;\n",
              "      gap: 12px;\n",
              "    }\n",
              "\n",
              "    .colab-df-convert {\n",
              "      background-color: #E8F0FE;\n",
              "      border: none;\n",
              "      border-radius: 50%;\n",
              "      cursor: pointer;\n",
              "      display: none;\n",
              "      fill: #1967D2;\n",
              "      height: 32px;\n",
              "      padding: 0 0 0 0;\n",
              "      width: 32px;\n",
              "    }\n",
              "\n",
              "    .colab-df-convert:hover {\n",
              "      background-color: #E2EBFA;\n",
              "      box-shadow: 0px 1px 2px rgba(60, 64, 67, 0.3), 0px 1px 3px 1px rgba(60, 64, 67, 0.15);\n",
              "      fill: #174EA6;\n",
              "    }\n",
              "\n",
              "    [theme=dark] .colab-df-convert {\n",
              "      background-color: #3B4455;\n",
              "      fill: #D2E3FC;\n",
              "    }\n",
              "\n",
              "    [theme=dark] .colab-df-convert:hover {\n",
              "      background-color: #434B5C;\n",
              "      box-shadow: 0px 1px 3px 1px rgba(0, 0, 0, 0.15);\n",
              "      filter: drop-shadow(0px 1px 2px rgba(0, 0, 0, 0.3));\n",
              "      fill: #FFFFFF;\n",
              "    }\n",
              "  </style>\n",
              "\n",
              "      <script>\n",
              "        const buttonEl =\n",
              "          document.querySelector('#df-2a6439f3-20c0-4db7-96f6-09a858be1326 button.colab-df-convert');\n",
              "        buttonEl.style.display =\n",
              "          google.colab.kernel.accessAllowed ? 'block' : 'none';\n",
              "\n",
              "        async function convertToInteractive(key) {\n",
              "          const element = document.querySelector('#df-2a6439f3-20c0-4db7-96f6-09a858be1326');\n",
              "          const dataTable =\n",
              "            await google.colab.kernel.invokeFunction('convertToInteractive',\n",
              "                                                     [key], {});\n",
              "          if (!dataTable) return;\n",
              "\n",
              "          const docLinkHtml = 'Like what you see? Visit the ' +\n",
              "            '<a target=\"_blank\" href=https://colab.research.google.com/notebooks/data_table.ipynb>data table notebook</a>'\n",
              "            + ' to learn more about interactive tables.';\n",
              "          element.innerHTML = '';\n",
              "          dataTable['output_type'] = 'display_data';\n",
              "          await google.colab.output.renderOutput(dataTable, element);\n",
              "          const docLink = document.createElement('div');\n",
              "          docLink.innerHTML = docLinkHtml;\n",
              "          element.appendChild(docLink);\n",
              "        }\n",
              "      </script>\n",
              "    </div>\n",
              "  </div>\n",
              "  "
            ]
          },
          "metadata": {},
          "execution_count": 53
        }
      ],
      "source": [
        "data"
      ]
    },
    {
      "cell_type": "markdown",
      "metadata": {
        "id": "i0W2bdWcm720"
      },
      "source": [
        "##model"
      ]
    },
    {
      "cell_type": "code",
      "execution_count": null,
      "metadata": {
        "id": "wvr_rJ-pnAxs"
      },
      "outputs": [],
      "source": [
        "#split train and test\n",
        "from sklearn.model_selection import train_test_split\n",
        "review = data['line'].values\n",
        "label = data['saved'].values\n",
        "review_train, review_test, label_train, label_test = train_test_split(review, label, test_size=0.25, random_state=1000) \n"
      ]
    },
    {
      "cell_type": "code",
      "execution_count": null,
      "metadata": {
        "colab": {
          "base_uri": "https://localhost:8080/"
        },
        "id": "Eb-4747CnymP",
        "outputId": "e8d8cb95-b094-4a49-f46d-5df69e2f0297"
      },
      "outputs": [
        {
          "output_type": "execute_result",
          "data": {
            "text/plain": [
              "<156x1439 sparse matrix of type '<class 'numpy.int64'>'\n",
              "\twith 2940 stored elements in Compressed Sparse Row format>"
            ]
          },
          "metadata": {},
          "execution_count": 55
        }
      ],
      "source": [
        "#Vectorizing the split data\n",
        "from sklearn.feature_extraction.text import CountVectorizer\n",
        "review_vectorizer = CountVectorizer()\n",
        "review_vectorizer.fit(review_train)\n",
        "Xlr_train = review_vectorizer.transform(review_train)\n",
        "Xlr_test  = review_vectorizer.transform(review_test)\n",
        "Xlr_train "
      ]
    },
    {
      "cell_type": "code",
      "execution_count": null,
      "metadata": {
        "colab": {
          "base_uri": "https://localhost:8080/"
        },
        "id": "l8_aUW7_oPdY",
        "outputId": "924a8df2-d379-4fa5-ca6e-e2373074fcea"
      },
      "outputs": [
        {
          "output_type": "stream",
          "name": "stdout",
          "text": [
            "FIGURE 14.6 Development Reveals the Evolutionary Relationship between Sea Squirts and Vertebrates All chordates—a taxonomic group that includes sea squirts and frogs—have a notochord at some stage of their development.\n",
            "[19, 496, 89, 34, 497, 1, 246, 119, 44, 247, 248, 2, 164, 27, 498, 499, 249, 9, 250, 247, 248, 2, 500, 5, 501, 21, 28, 502, 3, 35, 34]\n"
          ]
        }
      ],
      "source": [
        "#word embeddings for the model\n",
        "from keras.preprocessing.text import Tokenizer\n",
        "tokenizer = Tokenizer(num_words=5000)\n",
        "tokenizer.fit_on_texts(review_train)\n",
        "Xcnn_train = tokenizer.texts_to_sequences(review_train)\n",
        "Xcnn_test = tokenizer.texts_to_sequences(review_test)\n",
        "vocab_size = len(tokenizer.word_index) + 1  \n",
        "print(review_train[1])\n",
        "print(Xcnn_train[1]) "
      ]
    },
    {
      "cell_type": "code",
      "source": [
        "#provide a mexlen parameter\n",
        "from keras.preprocessing.sequence import pad_sequences\n",
        "maxlen = 100\n",
        "Xcnn_train = pad_sequences(Xcnn_train, padding='post', maxlen=maxlen)\n",
        "Xcnn_test = pad_sequences(Xcnn_test, padding='post', maxlen=maxlen)\n",
        "print(Xcnn_train[0, :])"
      ],
      "metadata": {
        "colab": {
          "base_uri": "https://localhost:8080/"
        },
        "id": "CkxmR8dispc4",
        "outputId": "b00ac751-2a08-49f7-d799-7a37c7e0b222"
      },
      "execution_count": null,
      "outputs": [
        {
          "output_type": "stream",
          "name": "stdout",
          "text": [
            "[486   2 487  15 488 489  87  70  24 117  13 163 241   9  70 242   2 490\n",
            "   1  87 163 491  88 163 492 493 118 494  71   1  87  12 243  13 244   2\n",
            " 495  72   2 245   0   0   0   0   0   0   0   0   0   0   0   0   0   0\n",
            "   0   0   0   0   0   0   0   0   0   0   0   0   0   0   0   0   0   0\n",
            "   0   0   0   0   0   0   0   0   0   0   0   0   0   0   0   0   0   0\n",
            "   0   0   0   0   0   0   0   0   0   0]\n"
          ]
        }
      ]
    },
    {
      "cell_type": "code",
      "source": [
        "#fit CNN Model\n",
        "from keras.models import Sequential\n",
        "from keras import layers \n",
        "\n",
        "embedding_dim = 200\n",
        "textcnnmodel = Sequential()\n",
        "textcnnmodel.add(layers.Embedding(vocab_size, embedding_dim, input_length=maxlen))\n",
        "textcnnmodel.add(layers.Conv1D(128, 5, activation='relu'))\n",
        "textcnnmodel.add(layers.GlobalMaxPooling1D())\n",
        "textcnnmodel.add(layers.Dense(10, activation='relu'))\n",
        "textcnnmodel.add(layers.Dense(1, activation='sigmoid'))\n",
        "textcnnmodel.compile(optimizer='adam',\n",
        "               loss='binary_crossentropy',\n",
        "               metrics=['accuracy'])\n",
        "textcnnmodel.summary() "
      ],
      "metadata": {
        "colab": {
          "base_uri": "https://localhost:8080/"
        },
        "id": "AmWC1Kl7s7lY",
        "outputId": "f3154fab-8ade-4e23-e7f6-3b4c16c05655"
      },
      "execution_count": null,
      "outputs": [
        {
          "output_type": "stream",
          "name": "stdout",
          "text": [
            "Model: \"sequential\"\n",
            "_________________________________________________________________\n",
            " Layer (type)                Output Shape              Param #   \n",
            "=================================================================\n",
            " embedding (Embedding)       (None, 100, 200)          294200    \n",
            "                                                                 \n",
            " conv1d (Conv1D)             (None, 96, 128)           128128    \n",
            "                                                                 \n",
            " global_max_pooling1d (Globa  (None, 128)              0         \n",
            " lMaxPooling1D)                                                  \n",
            "                                                                 \n",
            " dense (Dense)               (None, 10)                1290      \n",
            "                                                                 \n",
            " dense_1 (Dense)             (None, 1)                 11        \n",
            "                                                                 \n",
            "=================================================================\n",
            "Total params: 423,629\n",
            "Trainable params: 423,629\n",
            "Non-trainable params: 0\n",
            "_________________________________________________________________\n"
          ]
        }
      ]
    },
    {
      "cell_type": "code",
      "source": [
        "#check accuracy\n",
        "textcnnmodel.fit(Xcnn_train, label_train,epochs=10,\n",
        "                     verbose=False,\n",
        "                     validation_data=(Xcnn_test, label_test),\n",
        "                     batch_size=10)\n",
        "loss, accuracy = textcnnmodel.evaluate(Xcnn_train, label_train, verbose=False)\n",
        "print(\"Training Accuracy: {:.4f}\".format(accuracy))\n",
        "loss, accuracy = textcnnmodel.evaluate(Xcnn_test, label_test, verbose=False)\n",
        "print(\"Testing Accuracy:  {:.4f}\".format(accuracy)) "
      ],
      "metadata": {
        "colab": {
          "base_uri": "https://localhost:8080/"
        },
        "id": "maGxlmI5wk42",
        "outputId": "a5367754-f46e-459c-964e-92ddf5cc2c30"
      },
      "execution_count": null,
      "outputs": [
        {
          "output_type": "stream",
          "name": "stdout",
          "text": [
            "Training Accuracy: 0.8846\n",
            "Testing Accuracy:  0.9434\n"
          ]
        }
      ]
    },
    {
      "cell_type": "markdown",
      "source": [
        "#RNN Model (LSTM) - Jin, Liu, An"
      ],
      "metadata": {
        "id": "cSRYCvRRQUK0"
      }
    },
    {
      "cell_type": "markdown",
      "source": [
        "## 1. Import Libraries"
      ],
      "metadata": {
        "id": "LBAoM89CSsZA"
      }
    },
    {
      "cell_type": "code",
      "source": [
        "import tensorflow as tf\n",
        "from keras.preprocessing.text import Tokenizer\n",
        "from keras.preprocessing.sequence import pad_sequences\n",
        "import ast\n",
        "import os\n",
        "import json\n",
        "import matplotlib.pyplot as plt\n",
        "from nltk import tokenize\n",
        "import seaborn as sns\n",
        "from sklearn.model_selection import train_test_split\n",
        "from sklearn.feature_extraction.text import CountVectorizer"
      ],
      "metadata": {
        "id": "CYoq9KWLRI1H"
      },
      "execution_count": null,
      "outputs": []
    },
    {
      "cell_type": "markdown",
      "source": [
        "## 2. Data Preprocessing"
      ],
      "metadata": {
        "id": "ctOMnRYF0KHT"
      }
    },
    {
      "cell_type": "code",
      "source": [
        "# clean dataset for modeling\n",
        "\n",
        "df_cleaned = df[['cleanedLine','saved']]\n",
        "df_cleaned[\"saved\"] = (df_cleaned[\"saved\"]*1).fillna(\"1\").astype('float32')\n",
        "\n",
        "df_cleaned"
      ],
      "metadata": {
        "colab": {
          "base_uri": "https://localhost:8080/"
        },
        "id": "zq3dJVilyi12",
        "outputId": "58ecf609-b64f-4b05-b4b2-938b963e0d39"
      },
      "execution_count": null,
      "outputs": [
        {
          "output_type": "execute_result",
          "data": {
            "text/plain": [
              "                                           cleanedLine  saved\n",
              "0    maternal tobacco alcohol and drug use and mate...    0.0\n",
              "1    publicity and global branding global branding ...    0.0\n",
              "2    a debit of 395 to advertising expense was post...    0.0\n",
              "3    here are some of the costs that your snowboard...    0.0\n",
              "4    what is a possible scenario that would provide...    0.0\n",
              "..                                                 ...    ...\n",
              "204  animation 101 transcription pol3ecoma101  the ...    1.0\n",
              "205  growth of a plant cell is restricted by the ce...    1.0\n",
              "206  pimg srchttpd1q3p76q2qt5dzcloudfrontnetprincip...    1.0\n",
              "207  for example eysenck proposed that an introvert...    1.0\n",
              "208  pimg srchttpd1q3p76q2qt5dzcloudfrontnetprincip...    1.0\n",
              "\n",
              "[209 rows x 2 columns]"
            ],
            "text/html": [
              "\n",
              "  <div id=\"df-0775801d-65fc-4a7b-9ac7-7f20712c564d\">\n",
              "    <div class=\"colab-df-container\">\n",
              "      <div>\n",
              "<style scoped>\n",
              "    .dataframe tbody tr th:only-of-type {\n",
              "        vertical-align: middle;\n",
              "    }\n",
              "\n",
              "    .dataframe tbody tr th {\n",
              "        vertical-align: top;\n",
              "    }\n",
              "\n",
              "    .dataframe thead th {\n",
              "        text-align: right;\n",
              "    }\n",
              "</style>\n",
              "<table border=\"1\" class=\"dataframe\">\n",
              "  <thead>\n",
              "    <tr style=\"text-align: right;\">\n",
              "      <th></th>\n",
              "      <th>cleanedLine</th>\n",
              "      <th>saved</th>\n",
              "    </tr>\n",
              "  </thead>\n",
              "  <tbody>\n",
              "    <tr>\n",
              "      <th>0</th>\n",
              "      <td>maternal tobacco alcohol and drug use and mate...</td>\n",
              "      <td>0.0</td>\n",
              "    </tr>\n",
              "    <tr>\n",
              "      <th>1</th>\n",
              "      <td>publicity and global branding global branding ...</td>\n",
              "      <td>0.0</td>\n",
              "    </tr>\n",
              "    <tr>\n",
              "      <th>2</th>\n",
              "      <td>a debit of 395 to advertising expense was post...</td>\n",
              "      <td>0.0</td>\n",
              "    </tr>\n",
              "    <tr>\n",
              "      <th>3</th>\n",
              "      <td>here are some of the costs that your snowboard...</td>\n",
              "      <td>0.0</td>\n",
              "    </tr>\n",
              "    <tr>\n",
              "      <th>4</th>\n",
              "      <td>what is a possible scenario that would provide...</td>\n",
              "      <td>0.0</td>\n",
              "    </tr>\n",
              "    <tr>\n",
              "      <th>...</th>\n",
              "      <td>...</td>\n",
              "      <td>...</td>\n",
              "    </tr>\n",
              "    <tr>\n",
              "      <th>204</th>\n",
              "      <td>animation 101 transcription pol3ecoma101  the ...</td>\n",
              "      <td>1.0</td>\n",
              "    </tr>\n",
              "    <tr>\n",
              "      <th>205</th>\n",
              "      <td>growth of a plant cell is restricted by the ce...</td>\n",
              "      <td>1.0</td>\n",
              "    </tr>\n",
              "    <tr>\n",
              "      <th>206</th>\n",
              "      <td>pimg srchttpd1q3p76q2qt5dzcloudfrontnetprincip...</td>\n",
              "      <td>1.0</td>\n",
              "    </tr>\n",
              "    <tr>\n",
              "      <th>207</th>\n",
              "      <td>for example eysenck proposed that an introvert...</td>\n",
              "      <td>1.0</td>\n",
              "    </tr>\n",
              "    <tr>\n",
              "      <th>208</th>\n",
              "      <td>pimg srchttpd1q3p76q2qt5dzcloudfrontnetprincip...</td>\n",
              "      <td>1.0</td>\n",
              "    </tr>\n",
              "  </tbody>\n",
              "</table>\n",
              "<p>209 rows × 2 columns</p>\n",
              "</div>\n",
              "      <button class=\"colab-df-convert\" onclick=\"convertToInteractive('df-0775801d-65fc-4a7b-9ac7-7f20712c564d')\"\n",
              "              title=\"Convert this dataframe to an interactive table.\"\n",
              "              style=\"display:none;\">\n",
              "        \n",
              "  <svg xmlns=\"http://www.w3.org/2000/svg\" height=\"24px\"viewBox=\"0 0 24 24\"\n",
              "       width=\"24px\">\n",
              "    <path d=\"M0 0h24v24H0V0z\" fill=\"none\"/>\n",
              "    <path d=\"M18.56 5.44l.94 2.06.94-2.06 2.06-.94-2.06-.94-.94-2.06-.94 2.06-2.06.94zm-11 1L8.5 8.5l.94-2.06 2.06-.94-2.06-.94L8.5 2.5l-.94 2.06-2.06.94zm10 10l.94 2.06.94-2.06 2.06-.94-2.06-.94-.94-2.06-.94 2.06-2.06.94z\"/><path d=\"M17.41 7.96l-1.37-1.37c-.4-.4-.92-.59-1.43-.59-.52 0-1.04.2-1.43.59L10.3 9.45l-7.72 7.72c-.78.78-.78 2.05 0 2.83L4 21.41c.39.39.9.59 1.41.59.51 0 1.02-.2 1.41-.59l7.78-7.78 2.81-2.81c.8-.78.8-2.07 0-2.86zM5.41 20L4 18.59l7.72-7.72 1.47 1.35L5.41 20z\"/>\n",
              "  </svg>\n",
              "      </button>\n",
              "      \n",
              "  <style>\n",
              "    .colab-df-container {\n",
              "      display:flex;\n",
              "      flex-wrap:wrap;\n",
              "      gap: 12px;\n",
              "    }\n",
              "\n",
              "    .colab-df-convert {\n",
              "      background-color: #E8F0FE;\n",
              "      border: none;\n",
              "      border-radius: 50%;\n",
              "      cursor: pointer;\n",
              "      display: none;\n",
              "      fill: #1967D2;\n",
              "      height: 32px;\n",
              "      padding: 0 0 0 0;\n",
              "      width: 32px;\n",
              "    }\n",
              "\n",
              "    .colab-df-convert:hover {\n",
              "      background-color: #E2EBFA;\n",
              "      box-shadow: 0px 1px 2px rgba(60, 64, 67, 0.3), 0px 1px 3px 1px rgba(60, 64, 67, 0.15);\n",
              "      fill: #174EA6;\n",
              "    }\n",
              "\n",
              "    [theme=dark] .colab-df-convert {\n",
              "      background-color: #3B4455;\n",
              "      fill: #D2E3FC;\n",
              "    }\n",
              "\n",
              "    [theme=dark] .colab-df-convert:hover {\n",
              "      background-color: #434B5C;\n",
              "      box-shadow: 0px 1px 3px 1px rgba(0, 0, 0, 0.15);\n",
              "      filter: drop-shadow(0px 1px 2px rgba(0, 0, 0, 0.3));\n",
              "      fill: #FFFFFF;\n",
              "    }\n",
              "  </style>\n",
              "\n",
              "      <script>\n",
              "        const buttonEl =\n",
              "          document.querySelector('#df-0775801d-65fc-4a7b-9ac7-7f20712c564d button.colab-df-convert');\n",
              "        buttonEl.style.display =\n",
              "          google.colab.kernel.accessAllowed ? 'block' : 'none';\n",
              "\n",
              "        async function convertToInteractive(key) {\n",
              "          const element = document.querySelector('#df-0775801d-65fc-4a7b-9ac7-7f20712c564d');\n",
              "          const dataTable =\n",
              "            await google.colab.kernel.invokeFunction('convertToInteractive',\n",
              "                                                     [key], {});\n",
              "          if (!dataTable) return;\n",
              "\n",
              "          const docLinkHtml = 'Like what you see? Visit the ' +\n",
              "            '<a target=\"_blank\" href=https://colab.research.google.com/notebooks/data_table.ipynb>data table notebook</a>'\n",
              "            + ' to learn more about interactive tables.';\n",
              "          element.innerHTML = '';\n",
              "          dataTable['output_type'] = 'display_data';\n",
              "          await google.colab.output.renderOutput(dataTable, element);\n",
              "          const docLink = document.createElement('div');\n",
              "          docLink.innerHTML = docLinkHtml;\n",
              "          element.appendChild(docLink);\n",
              "        }\n",
              "      </script>\n",
              "    </div>\n",
              "  </div>\n",
              "  "
            ]
          },
          "metadata": {},
          "execution_count": 61
        }
      ]
    },
    {
      "cell_type": "code",
      "source": [
        "# Split train and test datasets\n",
        "\n",
        "x = df_cleaned['cleanedLine'].values\n",
        "y = df_cleaned['saved'].values\n",
        "x_train, x_test, y_train, y_test = train_test_split(x, y, test_size=0.3, random_state=100) "
      ],
      "metadata": {
        "id": "Pp-Kelfh2USq"
      },
      "execution_count": null,
      "outputs": []
    },
    {
      "cell_type": "code",
      "source": [
        "# Vectorize train and test sets\n",
        "\n",
        "x_vectorizer = CountVectorizer()\n",
        "x_vectorizer.fit(x_train)\n",
        "x_train_vec = x_vectorizer.transform(x_train)\n",
        "x_test_vec  = x_vectorizer.transform(x_test)\n",
        "x_train_vec"
      ],
      "metadata": {
        "colab": {
          "base_uri": "https://localhost:8080/"
        },
        "id": "gWkdxopL5gi1",
        "outputId": "e213f45f-c70f-46a7-fa7b-88a681719546"
      },
      "execution_count": null,
      "outputs": [
        {
          "output_type": "execute_result",
          "data": {
            "text/plain": [
              "<146x1429 sparse matrix of type '<class 'numpy.int64'>'\n",
              "\twith 2723 stored elements in Compressed Sparse Row format>"
            ]
          },
          "metadata": {},
          "execution_count": 63
        }
      ]
    },
    {
      "cell_type": "code",
      "source": [
        "# words embedding\n",
        "\n",
        "words=20000\n",
        "max_length=100\n",
        "\n",
        "tokenizer = Tokenizer(num_words=words)\n",
        "tokenizer.fit_on_texts(x_train)\n",
        "x_train_RNN = tokenizer.texts_to_sequences(x_train)\n",
        "x_test_RNN = tokenizer.texts_to_sequences(x_test)"
      ],
      "metadata": {
        "id": "rtbtJFDa6CuS"
      },
      "execution_count": null,
      "outputs": []
    },
    {
      "cell_type": "code",
      "source": [
        "# Padding the Text\n",
        "\n",
        "x_train_RNN = tf.keras.preprocessing.sequence.pad_sequences(x_train_RNN, maxlen=max_length)\n",
        "x_test_RNN = tf.keras.preprocessing.sequence.pad_sequences(x_test_RNN, maxlen=max_length)"
      ],
      "metadata": {
        "id": "CqXLEr-r1_HL"
      },
      "execution_count": null,
      "outputs": []
    },
    {
      "cell_type": "markdown",
      "source": [
        "## 3. Building & Traning Recurrent Neural Network Model (RNN)\n"
      ],
      "metadata": {
        "id": "yZPvZbsm9vGq"
      }
    },
    {
      "cell_type": "code",
      "source": [
        "# Initiate model\n",
        "\n",
        "question_RNN_model=tf.keras.Sequential()"
      ],
      "metadata": {
        "id": "PuBGP1M73bmd"
      },
      "execution_count": null,
      "outputs": []
    },
    {
      "cell_type": "code",
      "source": [
        "# Embedding Layer\n",
        "\n",
        "word_size = len(tokenizer.word_index) + 1  \n",
        "word_size\n",
        "embed_size=128\n",
        "\n",
        "question_RNN_model.add(tf.keras.layers.Embedding(word_size, embed_size, input_shape=(x_train_RNN.shape[1],)))"
      ],
      "metadata": {
        "id": "6HOxGlpz9p0Y"
      },
      "execution_count": null,
      "outputs": []
    },
    {
      "cell_type": "code",
      "source": [
        "# LSTM Layer\n",
        "\n",
        "question_RNN_model.add(tf.keras.layers.LSTM(units=128, activation='tanh'))"
      ],
      "metadata": {
        "id": "VYxyBR07-TeL"
      },
      "execution_count": null,
      "outputs": []
    },
    {
      "cell_type": "code",
      "source": [
        "# Output Layer\n",
        "\n",
        "question_RNN_model.add(tf.keras.layers.Dense(units=1, activation='sigmoid'))\n",
        "question_RNN_model.summary()"
      ],
      "metadata": {
        "colab": {
          "base_uri": "https://localhost:8080/"
        },
        "id": "IWnsh6tq-fhB",
        "outputId": "4fc1d076-e215-40a6-d1db-321e6132b527"
      },
      "execution_count": null,
      "outputs": [
        {
          "output_type": "stream",
          "name": "stdout",
          "text": [
            "Model: \"sequential_1\"\n",
            "_________________________________________________________________\n",
            " Layer (type)                Output Shape              Param #   \n",
            "=================================================================\n",
            " embedding_1 (Embedding)     (None, 100, 128)          187392    \n",
            "                                                                 \n",
            " lstm (LSTM)                 (None, 128)               131584    \n",
            "                                                                 \n",
            " dense_2 (Dense)             (None, 1)                 129       \n",
            "                                                                 \n",
            "=================================================================\n",
            "Total params: 319,105\n",
            "Trainable params: 319,105\n",
            "Non-trainable params: 0\n",
            "_________________________________________________________________\n"
          ]
        }
      ]
    },
    {
      "cell_type": "code",
      "source": [
        "# Compiling the model\n",
        "\n",
        "question_RNN_model.compile(optimizer='rmsprop', loss='binary_crossentropy', metrics=['accuracy'])"
      ],
      "metadata": {
        "id": "VmcK7W54_Ehn"
      },
      "execution_count": null,
      "outputs": []
    },
    {
      "cell_type": "code",
      "source": [
        "# Fitting and training the model\n",
        "\n",
        "question_RNN_model.fit(x_train_RNN, y_train, epochs=5, verbose = False,\n",
        "                       validation_data = (x_test_RNN, y_test), batch_size=128)\n",
        "\n",
        "# Check model accuracy on train and test set\n",
        "train_loss, train_accuracy = question_RNN_model.evaluate(x_train_RNN, y_train, verbose = False)\n",
        "print(\"RNN Model Train Accuracy: {:.3f}\".format(train_accuracy))\n",
        "test_loss, test_acurracy = question_RNN_model.evaluate(x_test_RNN, y_test, verbose = False)\n",
        "print(\"RNN Model Test accuracy: {:.3f}\".format(test_acurracy))"
      ],
      "metadata": {
        "colab": {
          "base_uri": "https://localhost:8080/"
        },
        "id": "yxjjs8bK_MUl",
        "outputId": "2bc0a30f-0538-4dfe-a804-64b42404bc49"
      },
      "execution_count": null,
      "outputs": [
        {
          "output_type": "stream",
          "name": "stdout",
          "text": [
            "RNN Model Train Accuracy: 0.911\n",
            "RNN Model Test accuracy: 0.873\n"
          ]
        }
      ]
    },
    {
      "cell_type": "code",
      "source": [
        "# Visualize model training and validation history\n",
        "\n",
        "plt.style.use('ggplot')\n",
        "\n",
        "def plot_history(history):\n",
        "    acc = history.history['accuracy']\n",
        "    val_acc = history.history['val_accuracy']\n",
        "    loss = history.history['loss']\n",
        "    val_loss = history.history['val_loss']\n",
        "    x = range(1, len(acc) + 1)\n",
        "\n",
        "    plt.figure(figsize=(12, 5))\n",
        "\n",
        "    plt.subplot(1, 2, 1)\n",
        "    plt.plot(x, acc, 'purple', label='Training acc')\n",
        "    plt.plot(x, val_acc, 'orange', label='Validation acc')\n",
        "    plt.ylabel('Accuracy')\n",
        "    plt.xlabel('Epoch')\n",
        "    plt.title('Training and validation accuracy \\n')\n",
        "    plt.legend()\n",
        "\n",
        "    plt.subplot(1, 2, 2)\n",
        "    plt.plot(x, loss, 'purple', label='Training loss')\n",
        "    plt.plot(x, val_loss, 'orange', label='Validation loss')\n",
        "    plt.ylabel('Loss')\n",
        "    plt.xlabel('Epoch')\n",
        "    plt.title('Training and validation loss \\n')\n",
        "    plt.legend()"
      ],
      "metadata": {
        "id": "vvT6UGWlCdMQ"
      },
      "execution_count": null,
      "outputs": []
    },
    {
      "cell_type": "code",
      "source": [
        "history = question_RNN_model.fit(x_train_RNN, y_train, epochs=20, verbose = False,\n",
        "                                           validation_data=(x_test_RNN, y_test), \n",
        "                                           batch_size=128)\n",
        "\n",
        "plot_history(history)"
      ],
      "metadata": {
        "colab": {
          "base_uri": "https://localhost:8080/"
        },
        "id": "yJ6uhgM4AgLq",
        "outputId": "8319f714-5933-4b16-fd76-7c52cfb5f027"
      },
      "execution_count": null,
      "outputs": [
        {
          "output_type": "display_data",
          "data": {
            "text/plain": [
              "<Figure size 864x360 with 2 Axes>"
            ],
            "image/png": "[encoded data removed]"
          },
          "metadata": {}
        }
      ]
    },
    {
      "cell_type": "markdown",
      "source": [
        "# Bidirectional LSTM - Rajvi\n"
      ],
      "metadata": {
        "id": "pFBVnlxpuhSJ"
      }
    },
    {
      "cell_type": "code",
      "source": [
        "import tensorflow as tf\n",
        "from keras.preprocessing.text import Tokenizer\n",
        "from keras.preprocessing.sequence import pad_sequences\n",
        "import ast\n",
        "import os\n",
        "import json\n",
        "import matplotlib.pyplot as plt\n",
        "from nltk import tokenize\n",
        "import seaborn as sns\n",
        "from sklearn.model_selection import train_test_split\n",
        "from sklearn.feature_extraction.text import CountVectorizer"
      ],
      "metadata": {
        "id": "C4gifNzoumT0"
      },
      "execution_count": null,
      "outputs": []
    },
    {
      "cell_type": "code",
      "source": [
        "df_cleaned = df[['line','saved']]\n",
        "df_cleaned[\"saved\"] = (df_cleaned[\"saved\"]*1).fillna(\"1\").astype('float32')\n",
        "\n",
        "df_cleaned"
      ],
      "metadata": {
        "colab": {
          "base_uri": "https://localhost:8080/"
        },
        "id": "5ptOFiPevhAb",
        "outputId": "16641cc1-4eee-4958-da2d-97616b9f261c"
      },
      "execution_count": null,
      "outputs": [
        {
          "output_type": "execute_result",
          "data": {
            "text/plain": [
              "                                                  line  saved\n",
              "0    Maternal tobacco, alcohol and drug use, and ma...    0.0\n",
              "1    Publicity and global branding Global branding ...    0.0\n",
              "2    A debit of $395 to Advertising Expense was pos...    0.0\n",
              "3    Here are some of the costs that your snowboard...    0.0\n",
              "4    What is a possible scenario that would provide...    0.0\n",
              "..                                                 ...    ...\n",
              "204  Animation 10.1 Transcription PoL3e.com/a10.1  ...    1.0\n",
              "205  Growth of a plant cell is restricted by the ce...    1.0\n",
              "206  <p><img src=\"http://d1q3p76q2qt5dz.cloudfront....    1.0\n",
              "207  For example, Eysenck proposed that an introver...    1.0\n",
              "208  <p><img src=\"http://d1q3p76q2qt5dz.cloudfront....    1.0\n",
              "\n",
              "[209 rows x 2 columns]"
            ],
            "text/html": [
              "\n",
              "  <div id=\"df-93588d50-6128-48f8-a860-5784c9824695\">\n",
              "    <div class=\"colab-df-container\">\n",
              "      <div>\n",
              "<style scoped>\n",
              "    .dataframe tbody tr th:only-of-type {\n",
              "        vertical-align: middle;\n",
              "    }\n",
              "\n",
              "    .dataframe tbody tr th {\n",
              "        vertical-align: top;\n",
              "    }\n",
              "\n",
              "    .dataframe thead th {\n",
              "        text-align: right;\n",
              "    }\n",
              "</style>\n",
              "<table border=\"1\" class=\"dataframe\">\n",
              "  <thead>\n",
              "    <tr style=\"text-align: right;\">\n",
              "      <th></th>\n",
              "      <th>line</th>\n",
              "      <th>saved</th>\n",
              "    </tr>\n",
              "  </thead>\n",
              "  <tbody>\n",
              "    <tr>\n",
              "      <th>0</th>\n",
              "      <td>Maternal tobacco, alcohol and drug use, and ma...</td>\n",
              "      <td>0.0</td>\n",
              "    </tr>\n",
              "    <tr>\n",
              "      <th>1</th>\n",
              "      <td>Publicity and global branding Global branding ...</td>\n",
              "      <td>0.0</td>\n",
              "    </tr>\n",
              "    <tr>\n",
              "      <th>2</th>\n",
              "      <td>A debit of $395 to Advertising Expense was pos...</td>\n",
              "      <td>0.0</td>\n",
              "    </tr>\n",
              "    <tr>\n",
              "      <th>3</th>\n",
              "      <td>Here are some of the costs that your snowboard...</td>\n",
              "      <td>0.0</td>\n",
              "    </tr>\n",
              "    <tr>\n",
              "      <th>4</th>\n",
              "      <td>What is a possible scenario that would provide...</td>\n",
              "      <td>0.0</td>\n",
              "    </tr>\n",
              "    <tr>\n",
              "      <th>...</th>\n",
              "      <td>...</td>\n",
              "      <td>...</td>\n",
              "    </tr>\n",
              "    <tr>\n",
              "      <th>204</th>\n",
              "      <td>Animation 10.1 Transcription PoL3e.com/a10.1  ...</td>\n",
              "      <td>1.0</td>\n",
              "    </tr>\n",
              "    <tr>\n",
              "      <th>205</th>\n",
              "      <td>Growth of a plant cell is restricted by the ce...</td>\n",
              "      <td>1.0</td>\n",
              "    </tr>\n",
              "    <tr>\n",
              "      <th>206</th>\n",
              "      <td>&lt;p&gt;&lt;img src=\"http://d1q3p76q2qt5dz.cloudfront....</td>\n",
              "      <td>1.0</td>\n",
              "    </tr>\n",
              "    <tr>\n",
              "      <th>207</th>\n",
              "      <td>For example, Eysenck proposed that an introver...</td>\n",
              "      <td>1.0</td>\n",
              "    </tr>\n",
              "    <tr>\n",
              "      <th>208</th>\n",
              "      <td>&lt;p&gt;&lt;img src=\"http://d1q3p76q2qt5dz.cloudfront....</td>\n",
              "      <td>1.0</td>\n",
              "    </tr>\n",
              "  </tbody>\n",
              "</table>\n",
              "<p>209 rows × 2 columns</p>\n",
              "</div>\n",
              "      <button class=\"colab-df-convert\" onclick=\"convertToInteractive('df-93588d50-6128-48f8-a860-5784c9824695')\"\n",
              "              title=\"Convert this dataframe to an interactive table.\"\n",
              "              style=\"display:none;\">\n",
              "        \n",
              "  <svg xmlns=\"http://www.w3.org/2000/svg\" height=\"24px\"viewBox=\"0 0 24 24\"\n",
              "       width=\"24px\">\n",
              "    <path d=\"M0 0h24v24H0V0z\" fill=\"none\"/>\n",
              "    <path d=\"M18.56 5.44l.94 2.06.94-2.06 2.06-.94-2.06-.94-.94-2.06-.94 2.06-2.06.94zm-11 1L8.5 8.5l.94-2.06 2.06-.94-2.06-.94L8.5 2.5l-.94 2.06-2.06.94zm10 10l.94 2.06.94-2.06 2.06-.94-2.06-.94-.94-2.06-.94 2.06-2.06.94z\"/><path d=\"M17.41 7.96l-1.37-1.37c-.4-.4-.92-.59-1.43-.59-.52 0-1.04.2-1.43.59L10.3 9.45l-7.72 7.72c-.78.78-.78 2.05 0 2.83L4 21.41c.39.39.9.59 1.41.59.51 0 1.02-.2 1.41-.59l7.78-7.78 2.81-2.81c.8-.78.8-2.07 0-2.86zM5.41 20L4 18.59l7.72-7.72 1.47 1.35L5.41 20z\"/>\n",
              "  </svg>\n",
              "      </button>\n",
              "      \n",
              "  <style>\n",
              "    .colab-df-container {\n",
              "      display:flex;\n",
              "      flex-wrap:wrap;\n",
              "      gap: 12px;\n",
              "    }\n",
              "\n",
              "    .colab-df-convert {\n",
              "      background-color: #E8F0FE;\n",
              "      border: none;\n",
              "      border-radius: 50%;\n",
              "      cursor: pointer;\n",
              "      display: none;\n",
              "      fill: #1967D2;\n",
              "      height: 32px;\n",
              "      padding: 0 0 0 0;\n",
              "      width: 32px;\n",
              "    }\n",
              "\n",
              "    .colab-df-convert:hover {\n",
              "      background-color: #E2EBFA;\n",
              "      box-shadow: 0px 1px 2px rgba(60, 64, 67, 0.3), 0px 1px 3px 1px rgba(60, 64, 67, 0.15);\n",
              "      fill: #174EA6;\n",
              "    }\n",
              "\n",
              "    [theme=dark] .colab-df-convert {\n",
              "      background-color: #3B4455;\n",
              "      fill: #D2E3FC;\n",
              "    }\n",
              "\n",
              "    [theme=dark] .colab-df-convert:hover {\n",
              "      background-color: #434B5C;\n",
              "      box-shadow: 0px 1px 3px 1px rgba(0, 0, 0, 0.15);\n",
              "      filter: drop-shadow(0px 1px 2px rgba(0, 0, 0, 0.3));\n",
              "      fill: #FFFFFF;\n",
              "    }\n",
              "  </style>\n",
              "\n",
              "      <script>\n",
              "        const buttonEl =\n",
              "          document.querySelector('#df-93588d50-6128-48f8-a860-5784c9824695 button.colab-df-convert');\n",
              "        buttonEl.style.display =\n",
              "          google.colab.kernel.accessAllowed ? 'block' : 'none';\n",
              "\n",
              "        async function convertToInteractive(key) {\n",
              "          const element = document.querySelector('#df-93588d50-6128-48f8-a860-5784c9824695');\n",
              "          const dataTable =\n",
              "            await google.colab.kernel.invokeFunction('convertToInteractive',\n",
              "                                                     [key], {});\n",
              "          if (!dataTable) return;\n",
              "\n",
              "          const docLinkHtml = 'Like what you see? Visit the ' +\n",
              "            '<a target=\"_blank\" href=https://colab.research.google.com/notebooks/data_table.ipynb>data table notebook</a>'\n",
              "            + ' to learn more about interactive tables.';\n",
              "          element.innerHTML = '';\n",
              "          dataTable['output_type'] = 'display_data';\n",
              "          await google.colab.output.renderOutput(dataTable, element);\n",
              "          const docLink = document.createElement('div');\n",
              "          docLink.innerHTML = docLinkHtml;\n",
              "          element.appendChild(docLink);\n",
              "        }\n",
              "      </script>\n",
              "    </div>\n",
              "  </div>\n",
              "  "
            ]
          },
          "metadata": {},
          "execution_count": 75
        }
      ]
    },
    {
      "cell_type": "code",
      "source": [
        "x = df_cleaned['line'].values\n",
        "y = df_cleaned['saved'].values\n",
        "x_train, x_test, y_train, y_test = train_test_split(x, y, test_size=0.3, random_state=100) "
      ],
      "metadata": {
        "id": "PBT2uMjUvk0O"
      },
      "execution_count": null,
      "outputs": []
    },
    {
      "cell_type": "code",
      "source": [
        "x_vectorizer = CountVectorizer()\n",
        "x_vectorizer.fit(x_train)\n",
        "x_train_vec = x_vectorizer.transform(x_train)\n",
        "x_test_vec  = x_vectorizer.transform(x_test)\n",
        "x_train_vec"
      ],
      "metadata": {
        "colab": {
          "base_uri": "https://localhost:8080/"
        },
        "id": "FThXFsU-vnyL",
        "outputId": "ba5324f4-3824-4b88-faa3-2b365a109784"
      },
      "execution_count": null,
      "outputs": [
        {
          "output_type": "execute_result",
          "data": {
            "text/plain": [
              "<146x1414 sparse matrix of type '<class 'numpy.int64'>'\n",
              "\twith 2793 stored elements in Compressed Sparse Row format>"
            ]
          },
          "metadata": {},
          "execution_count": 77
        }
      ]
    },
    {
      "cell_type": "code",
      "source": [
        "words=20000\n",
        "max_length=100\n",
        "\n",
        "tokenizer = Tokenizer(num_words=words)\n",
        "tokenizer.fit_on_texts(x_train)\n",
        "x_train_bi = tokenizer.texts_to_sequences(x_train)\n",
        "x_test_bi = tokenizer.texts_to_sequences(x_test)"
      ],
      "metadata": {
        "id": "pm_gV1n-vqbc"
      },
      "execution_count": null,
      "outputs": []
    },
    {
      "cell_type": "code",
      "source": [
        "x_train_bi = tf.keras.preprocessing.sequence.pad_sequences(x_train_bi, maxlen=max_length)\n",
        "x_test_bi = tf.keras.preprocessing.sequence.pad_sequences(x_test_bi, maxlen=max_length)"
      ],
      "metadata": {
        "id": "ynNc1hZkvscA"
      },
      "execution_count": null,
      "outputs": []
    },
    {
      "cell_type": "code",
      "source": [
        "from keras.layers import Bidirectional"
      ],
      "metadata": {
        "id": "FA54yIvZyjCl"
      },
      "execution_count": null,
      "outputs": []
    },
    {
      "cell_type": "code",
      "source": [
        "word_size = len(tokenizer.word_index) + 1  \n",
        "word_size\n",
        "embed_size=128\n",
        "\n",
        "model = Sequential()\n",
        "model.add(Embedding(word_size, embed_size, input_shape=(x_train_bi.shape[1],)))\n",
        "model.add(Bidirectional(LSTM(10, return_sequences=True)))\n",
        "model.add(Bidirectional(LSTM(10)))\n",
        "model.add(Dense(1))\n",
        "model.add(Activation('softmax'))\n",
        "model.compile(loss='categorical_crossentropy', optimizer='rmsprop')"
      ],
      "metadata": {
        "id": "bmTmz9zsyHIK"
      },
      "execution_count": null,
      "outputs": []
    },
    {
      "cell_type": "code",
      "source": [
        "model.summary()"
      ],
      "metadata": {
        "colab": {
          "base_uri": "https://localhost:8080/"
        },
        "id": "qg0OmSnizAmy",
        "outputId": "259e69f7-f280-4036-8e49-8e9e0e5b1f98"
      },
      "execution_count": null,
      "outputs": [
        {
          "output_type": "stream",
          "name": "stdout",
          "text": [
            "Model: \"sequential_2\"\n",
            "_________________________________________________________________\n",
            " Layer (type)                Output Shape              Param #   \n",
            "=================================================================\n",
            " embedding_2 (Embedding)     (None, 100, 128)          186624    \n",
            "                                                                 \n",
            " bidirectional (Bidirectiona  (None, 100, 20)          11120     \n",
            " l)                                                              \n",
            "                                                                 \n",
            " bidirectional_1 (Bidirectio  (None, 20)               2480      \n",
            " nal)                                                            \n",
            "                                                                 \n",
            " dense_3 (Dense)             (None, 1)                 21        \n",
            "                                                                 \n",
            " activation (Activation)     (None, 1)                 0         \n",
            "                                                                 \n",
            "=================================================================\n",
            "Total params: 200,245\n",
            "Trainable params: 200,245\n",
            "Non-trainable params: 0\n",
            "_________________________________________________________________\n"
          ]
        }
      ]
    },
    {
      "cell_type": "code",
      "source": [
        "model.fit(x_train_bi, y_train, epochs=5, verbose = False,\n",
        "                       validation_data = (x_test_bi, y_test), batch_size=128)\n",
        "\n",
        "train_loss, train_accuracy = question_RNN_model.evaluate(x_train_bi, y_train, verbose = False)\n",
        "print(\"Model Train Accuracy: {:.3f}\".format(train_accuracy))\n",
        "test_loss, test_acurracy = question_RNN_model.evaluate(x_test_bi, y_test, verbose = False)\n",
        "print(\"Model Test accuracy: {:.3f}\".format(test_acurracy))"
      ],
      "metadata": {
        "colab": {
          "base_uri": "https://localhost:8080/"
        },
        "id": "8_lwQsk8ysmJ",
        "outputId": "63b8e9d7-18ba-4265-b33b-753f7ff0e20f"
      },
      "execution_count": null,
      "outputs": [
        {
          "output_type": "stream",
          "name": "stdout",
          "text": [
            "Model Train Accuracy: 0.884\n",
            "Model Test accuracy: 0.873\n"
          ]
        }
      ]
    },
    {
      "cell_type": "code",
      "source": [
        ""
      ],
      "metadata": {
        "id": "e0j4D6kwDOWF"
      },
      "execution_count": null,
      "outputs": []
    },
    {
      "cell_type": "markdown",
      "source": [
        "# SME"
      ],
      "metadata": {
        "id": "2iigyNUaDQqm"
      }
    },
    {
      "cell_type": "code",
      "source": [
        "df['saved'] = df['saved'].fillna(value='true')"
      ],
      "metadata": {
        "id": "wiJbEFv2DToH"
      },
      "execution_count": null,
      "outputs": []
    },
    {
      "cell_type": "code",
      "source": [
        "c = df['saved'].value_counts()\n",
        "c = pd.DataFrame(c)\n",
        "c"
      ],
      "metadata": {
        "colab": {
          "base_uri": "https://localhost:8080/"
        },
        "id": "Lj8qSw3KDjOj",
        "outputId": "d57242f9-7f9b-4959-956b-8de2d9b4b39a"
      },
      "execution_count": null,
      "outputs": [
        {
          "output_type": "execute_result",
          "data": {
            "text/plain": [
              "       saved\n",
              "False    188\n",
              "true      21"
            ],
            "text/html": [
              "\n",
              "  <div id=\"df-33ee073a-b391-4ea3-b0e8-9cb3867cafb8\">\n",
              "    <div class=\"colab-df-container\">\n",
              "      <div>\n",
              "<style scoped>\n",
              "    .dataframe tbody tr th:only-of-type {\n",
              "        vertical-align: middle;\n",
              "    }\n",
              "\n",
              "    .dataframe tbody tr th {\n",
              "        vertical-align: top;\n",
              "    }\n",
              "\n",
              "    .dataframe thead th {\n",
              "        text-align: right;\n",
              "    }\n",
              "</style>\n",
              "<table border=\"1\" class=\"dataframe\">\n",
              "  <thead>\n",
              "    <tr style=\"text-align: right;\">\n",
              "      <th></th>\n",
              "      <th>saved</th>\n",
              "    </tr>\n",
              "  </thead>\n",
              "  <tbody>\n",
              "    <tr>\n",
              "      <th>False</th>\n",
              "      <td>188</td>\n",
              "    </tr>\n",
              "    <tr>\n",
              "      <th>true</th>\n",
              "      <td>21</td>\n",
              "    </tr>\n",
              "  </tbody>\n",
              "</table>\n",
              "</div>\n",
              "      <button class=\"colab-df-convert\" onclick=\"convertToInteractive('df-33ee073a-b391-4ea3-b0e8-9cb3867cafb8')\"\n",
              "              title=\"Convert this dataframe to an interactive table.\"\n",
              "              style=\"display:none;\">\n",
              "        \n",
              "  <svg xmlns=\"http://www.w3.org/2000/svg\" height=\"24px\"viewBox=\"0 0 24 24\"\n",
              "       width=\"24px\">\n",
              "    <path d=\"M0 0h24v24H0V0z\" fill=\"none\"/>\n",
              "    <path d=\"M18.56 5.44l.94 2.06.94-2.06 2.06-.94-2.06-.94-.94-2.06-.94 2.06-2.06.94zm-11 1L8.5 8.5l.94-2.06 2.06-.94-2.06-.94L8.5 2.5l-.94 2.06-2.06.94zm10 10l.94 2.06.94-2.06 2.06-.94-2.06-.94-.94-2.06-.94 2.06-2.06.94z\"/><path d=\"M17.41 7.96l-1.37-1.37c-.4-.4-.92-.59-1.43-.59-.52 0-1.04.2-1.43.59L10.3 9.45l-7.72 7.72c-.78.78-.78 2.05 0 2.83L4 21.41c.39.39.9.59 1.41.59.51 0 1.02-.2 1.41-.59l7.78-7.78 2.81-2.81c.8-.78.8-2.07 0-2.86zM5.41 20L4 18.59l7.72-7.72 1.47 1.35L5.41 20z\"/>\n",
              "  </svg>\n",
              "      </button>\n",
              "      \n",
              "  <style>\n",
              "    .colab-df-container {\n",
              "      display:flex;\n",
              "      flex-wrap:wrap;\n",
              "      gap: 12px;\n",
              "    }\n",
              "\n",
              "    .colab-df-convert {\n",
              "      background-color: #E8F0FE;\n",
              "      border: none;\n",
              "      border-radius: 50%;\n",
              "      cursor: pointer;\n",
              "      display: none;\n",
              "      fill: #1967D2;\n",
              "      height: 32px;\n",
              "      padding: 0 0 0 0;\n",
              "      width: 32px;\n",
              "    }\n",
              "\n",
              "    .colab-df-convert:hover {\n",
              "      background-color: #E2EBFA;\n",
              "      box-shadow: 0px 1px 2px rgba(60, 64, 67, 0.3), 0px 1px 3px 1px rgba(60, 64, 67, 0.15);\n",
              "      fill: #174EA6;\n",
              "    }\n",
              "\n",
              "    [theme=dark] .colab-df-convert {\n",
              "      background-color: #3B4455;\n",
              "      fill: #D2E3FC;\n",
              "    }\n",
              "\n",
              "    [theme=dark] .colab-df-convert:hover {\n",
              "      background-color: #434B5C;\n",
              "      box-shadow: 0px 1px 3px 1px rgba(0, 0, 0, 0.15);\n",
              "      filter: drop-shadow(0px 1px 2px rgba(0, 0, 0, 0.3));\n",
              "      fill: #FFFFFF;\n",
              "    }\n",
              "  </style>\n",
              "\n",
              "      <script>\n",
              "        const buttonEl =\n",
              "          document.querySelector('#df-33ee073a-b391-4ea3-b0e8-9cb3867cafb8 button.colab-df-convert');\n",
              "        buttonEl.style.display =\n",
              "          google.colab.kernel.accessAllowed ? 'block' : 'none';\n",
              "\n",
              "        async function convertToInteractive(key) {\n",
              "          const element = document.querySelector('#df-33ee073a-b391-4ea3-b0e8-9cb3867cafb8');\n",
              "          const dataTable =\n",
              "            await google.colab.kernel.invokeFunction('convertToInteractive',\n",
              "                                                     [key], {});\n",
              "          if (!dataTable) return;\n",
              "\n",
              "          const docLinkHtml = 'Like what you see? Visit the ' +\n",
              "            '<a target=\"_blank\" href=https://colab.research.google.com/notebooks/data_table.ipynb>data table notebook</a>'\n",
              "            + ' to learn more about interactive tables.';\n",
              "          element.innerHTML = '';\n",
              "          dataTable['output_type'] = 'display_data';\n",
              "          await google.colab.output.renderOutput(dataTable, element);\n",
              "          const docLink = document.createElement('div');\n",
              "          docLink.innerHTML = docLinkHtml;\n",
              "          element.appendChild(docLink);\n",
              "        }\n",
              "      </script>\n",
              "    </div>\n",
              "  </div>\n",
              "  "
            ]
          },
          "metadata": {},
          "execution_count": 85
        }
      ]
    },
    {
      "cell_type": "code",
      "source": [
        "grouped = df.groupby(df.saved)\n",
        "df_true = grouped.get_group(\"true\")\n",
        "df_true"
      ],
      "metadata": {
        "colab": {
          "base_uri": "https://localhost:8080/"
        },
        "id": "6nj0iGHRD8TH",
        "outputId": "8bb2fa80-9a6e-4091-886f-468b1eb9cd27"
      },
      "execution_count": null,
      "outputs": [
        {
          "output_type": "execute_result",
          "data": {
            "text/plain": [
              "     Unnamed: 0  book_id                                   book_name  \\\n",
              "188       58160      134                       Hockenbury Psychology   \n",
              "189       69857      133                           principle of life   \n",
              "190       40265      130             Business Studies Preliminary 7e   \n",
              "191       74264      133                           principle of life   \n",
              "192       41177      130             Business Studies Preliminary 7e   \n",
              "193        1386      120                                    Accounts   \n",
              "194       63107      133                           principle of life   \n",
              "195       60242      133                           principle of life   \n",
              "196       83071      133                           principle of life   \n",
              "197       66369      133                           principle of life   \n",
              "198       64244      133                           principle of life   \n",
              "199       48891      121  Health and Human Development Units 3 and 4   \n",
              "200       55622      134                       Hockenbury Psychology   \n",
              "201       66968      133                           principle of life   \n",
              "202       82798      133                           principle of life   \n",
              "203       52711      134                       Hockenbury Psychology   \n",
              "204       65086      133                           principle of life   \n",
              "205       72669      133                           principle of life   \n",
              "206       68620      133                           principle of life   \n",
              "207       55643      134                       Hockenbury Psychology   \n",
              "208       74560      133                           principle of life   \n",
              "\n",
              "                                 chapters.chapter_name  \\\n",
              "188                               Chapter 15 Therapies   \n",
              "189    Chapter 21 The Evolution and Diversity of Fungi   \n",
              "190                  Role of human resource management   \n",
              "191           Chapter 29 Animals in Their Environments   \n",
              "192             Processes of human resource management   \n",
              "193  Chapter 2: A Further Look at Financial Statements   \n",
              "194         Chapter 7 The Cell Cycle and Cell Division   \n",
              "195                           Chapter 3 Macromolecules   \n",
              "196   Chapter 42 Interactions within and among Species   \n",
              "197    Chapter 14 Reconstructing and Using Phylogenies   \n",
              "198      Chapter 8 Inheritance, Genes, and Chromosomes   \n",
              "199  c11 Sustainable Development Goals And The Worl...   \n",
              "200                             Chapter 11 Personality   \n",
              "201                              Chapter 16 Speciation   \n",
              "202                  Chapter 41 Ecological Communities   \n",
              "203                                   Chapter 6 Memory   \n",
              "204    Chapter 10 From DNA to Protein: Gene Expression   \n",
              "205            Chapter 25 Plant Growth and Development   \n",
              "206                 Chapter 20 The Evolution of Plants   \n",
              "207                             Chapter 11 Personality   \n",
              "208               Chapter 30 Breathing and Circulation   \n",
              "\n",
              "     chapters.chapter_content  \\\n",
              "188                       NaN   \n",
              "189                       NaN   \n",
              "190                       NaN   \n",
              "191                       NaN   \n",
              "192                       NaN   \n",
              "193                       NaN   \n",
              "194                       NaN   \n",
              "195                       NaN   \n",
              "196                       NaN   \n",
              "197                       NaN   \n",
              "198                       NaN   \n",
              "199                       NaN   \n",
              "200                       NaN   \n",
              "201                       NaN   \n",
              "202                       NaN   \n",
              "203                       NaN   \n",
              "204                       NaN   \n",
              "205                       NaN   \n",
              "206                       NaN   \n",
              "207                       NaN   \n",
              "208                       NaN   \n",
              "\n",
              "                                              question  \\\n",
              "188  Exposure therapy that focuses on habituation r...   \n",
              "189  In mushroom-forming club fungi, the basidia ty...   \n",
              "190  Although there are many successful examples of...   \n",
              "191  Circannual clocks are known to control annual ...   \n",
              "192  A strategic approach to human resource managem...   \n",
              "193  Principles in Financial Reporting  Measurement...   \n",
              "194  A dividing cell first grows in size and replic...   \n",
              "195  When the concentration of the competitive inhi...   \n",
              "196  If runoff increases, the fluxes of all water-s...   \n",
              "197  FIGURE 14.6  _____________  Reveals the Evolut...   \n",
              "198  A key difference between Mendel’s and Morgan’s...   \n",
              "199  There is currently no vaccine that is effectiv...   \n",
              "200  Perhaps recognizing that his explanation of fe...   \n",
              "201  A  _____________  allows biologists to conside...   \n",
              "202  One is simply the number of species in the com...   \n",
              "203  If you engage the new acquaintance in conversa...   \n",
              "204  Animation 10.1 Transcription PoL3e.com/a10.1  ...   \n",
              "205  _____________  of a plant cell is restricted b...   \n",
              "206  <p><img src=\"http://d1q3p76q2qt5dz.cloudfront....   \n",
              "207  For example, Eysenck proposed that an introver...   \n",
              "208  <p><img src=\"http://d1q3p76q2qt5dz.cloudfront....   \n",
              "\n",
              "                                               choices  \\\n",
              "188  ['observational learning', 'inhibitory learnin...   \n",
              "189  ['Soredia', 'Conidia', 'mating types', 'Zygosp...   \n",
              "190  ['Process outsourcing', 'Domestic subcontracti...   \n",
              "191  ['regional hypothermia', 'countercurrent heat ...   \n",
              "192  ['Employee selection', 'Recruitment', 'Acquisi...   \n",
              "193  ['Apple Inc', 'Answers To Ifrs Self-Test Quest...   \n",
              "194  ['Crossing Over', 'necrosis', 'Meiosis', 'cell...   \n",
              "195  ['Ligand', 'Substrates', 'active site', 'Inhib...   \n",
              "196  ['ecosystem function', 'global warming', 'gree...   \n",
              "197  ['Phylogeny', 'phylogenetic tree', 'Lineage', ...   \n",
              "198  ['sex chromosomes', 'Autosomes', 'Hemizygous',...   \n",
              "199  ['Commonwealth Of Australia', 'Australia', 'Au...   \n",
              "200  ['womb envy', 'penis envy', 'repression', 'dis...   \n",
              "201  ['reproductive isolation', 'morphological spec...   \n",
              "202  ['species composition', 'habitat structure', '...   \n",
              "203  ['Short-term memory', 'memory trace', 'Decay t...   \n",
              "204  ['Messenger RNAs', 'Polypeptide', 'tRNAs', 'ri...   \n",
              "205  ['Development', 'Growth', 'Differentiation', '...   \n",
              "206                              ['20', '8', '5', '4']   \n",
              "207  ['low-level narcissism', 'low-level psychopath...   \n",
              "208                               ['2', '1', '5', '3']   \n",
              "\n",
              "                      answer  \\\n",
              "188      Inhibitory Learning   \n",
              "189              Basidiomata   \n",
              "190              contractors   \n",
              "191              Hibernation   \n",
              "192              acquisition   \n",
              "193     Fair Value Principle   \n",
              "194           binary fission   \n",
              "195              Active Site   \n",
              "196             Compartments   \n",
              "197              Development   \n",
              "198          Sex Chromosomes   \n",
              "199                       TB   \n",
              "200               Penis Envy   \n",
              "201  Lineage Species Concept   \n",
              "202         Species Richness   \n",
              "203        Short-Term Memory   \n",
              "204            transcription   \n",
              "205                   Growth   \n",
              "206                        5   \n",
              "207             Psychoticism   \n",
              "208                        1   \n",
              "\n",
              "                                                  line  \\\n",
              "188  Exposure therapy that focuses on habituation r...   \n",
              "189  In mushroom-forming club fungi, the basidia ty...   \n",
              "190  Although there are many successful examples of...   \n",
              "191  Circannual clocks are known to control annual ...   \n",
              "192  A strategic approach to human resource managem...   \n",
              "193  Principles in Financial Reporting  Measurement...   \n",
              "194  A dividing cell first grows in size and replic...   \n",
              "195  When the concentration of the competitive inhi...   \n",
              "196  If runoff increases, the fluxes of all water-s...   \n",
              "197  FIGURE 14.6 Development Reveals the Evolutiona...   \n",
              "198  A key difference between Mendel’s and Morgan’s...   \n",
              "199  There is currently no vaccine that is effectiv...   \n",
              "200  Perhaps recognizing that his explanation of fe...   \n",
              "201  A lineage species concept allows biologists to...   \n",
              "202  One is simply the number of species in the com...   \n",
              "203  If you engage the new acquaintance in conversa...   \n",
              "204  Animation 10.1 Transcription PoL3e.com/a10.1  ...   \n",
              "205  Growth of a plant cell is restricted by the ce...   \n",
              "206  <p><img src=\"http://d1q3p76q2qt5dz.cloudfront....   \n",
              "207  For example, Eysenck proposed that an introver...   \n",
              "208  <p><img src=\"http://d1q3p76q2qt5dz.cloudfront....   \n",
              "\n",
              "                                           showContext  ...  \\\n",
              "188  <p><b>Excerpt from Chapter: Chapter 15 Therapi...  ...   \n",
              "189  <p><b>Excerpt from Chapter: Chapter 21 The Evo...  ...   \n",
              "190  <p><b>Excerpt from Chapter: Role of human reso...  ...   \n",
              "191  <p><b>Excerpt from Chapter: Chapter 29 Animals...  ...   \n",
              "192  <p><b>Excerpt from Chapter: Processes of human...  ...   \n",
              "193  <p><b>Excerpt from Chapter: Chapter 2: A Furth...  ...   \n",
              "194  <p><b>Excerpt from Chapter: Chapter 7 The Cell...  ...   \n",
              "195  <p><b>Excerpt from Chapter: Chapter 3 Macromol...  ...   \n",
              "196  <p><b>Excerpt from Chapter: Chapter 42 Interac...  ...   \n",
              "197  <p><b>Excerpt from Chapter: Chapter 14 Reconst...  ...   \n",
              "198  <p><b>Excerpt from Chapter: Chapter 8 Inherita...  ...   \n",
              "199  <p><b>Excerpt from Chapter: c11 Sustainable De...  ...   \n",
              "200  <p><b>Excerpt from Chapter: Chapter 11 Persona...  ...   \n",
              "201  <p><b>Excerpt from Chapter: Chapter 16 Speciat...  ...   \n",
              "202  <p><b>Excerpt from Chapter: Chapter 41 Ecologi...  ...   \n",
              "203  <p><b>Excerpt from Chapter: Chapter 6 Memory:<...  ...   \n",
              "204  <p><b>Excerpt from Chapter: Chapter 10 From DN...  ...   \n",
              "205  <p><b>Excerpt from Chapter: Chapter 25 Plant G...  ...   \n",
              "206  <p><img src=\"http://d1q3p76q2qt5dz.cloudfront....  ...   \n",
              "207  <p><b>Excerpt from Chapter: Chapter 11 Persona...  ...   \n",
              "208  <p><img src=\"http://d1q3p76q2qt5dz.cloudfront....  ...   \n",
              "\n",
              "    chapters.example_question_saved_count  \\\n",
              "188                                    34   \n",
              "189                                    55   \n",
              "190                                     8   \n",
              "191                                    39   \n",
              "192                                    27   \n",
              "193                                    21   \n",
              "194                                    26   \n",
              "195                                    61   \n",
              "196                                    35   \n",
              "197                                    18   \n",
              "198                                    27   \n",
              "199                                    17   \n",
              "200                                    40   \n",
              "201                                    32   \n",
              "202                                    29   \n",
              "203                                    40   \n",
              "204                                    30   \n",
              "205                                    38   \n",
              "206                                    63   \n",
              "207                                    40   \n",
              "208                                    94   \n",
              "\n",
              "    chapters.keyphrase_question_nonsaved_count  \\\n",
              "188                                        136   \n",
              "189                                        341   \n",
              "190                                         68   \n",
              "191                                        106   \n",
              "192                                        227   \n",
              "193                                        656   \n",
              "194                                        963   \n",
              "195                                        707   \n",
              "196                                         45   \n",
              "197                                        255   \n",
              "198                                        365   \n",
              "199                                        551   \n",
              "200                                         90   \n",
              "201                                        439   \n",
              "202                                        170   \n",
              "203                                        229   \n",
              "204                                        405   \n",
              "205                                        222   \n",
              "206                                        968   \n",
              "207                                         90   \n",
              "208                                       1038   \n",
              "\n",
              "    chapters.example_nonsaved_count  \\\n",
              "188                             130   \n",
              "189                              56   \n",
              "190                              10   \n",
              "191                              67   \n",
              "192                              15   \n",
              "193                               0   \n",
              "194                             141   \n",
              "195                             274   \n",
              "196                              41   \n",
              "197                              75   \n",
              "198                              92   \n",
              "199                             129   \n",
              "200                             129   \n",
              "201                             106   \n",
              "202                              64   \n",
              "203                             246   \n",
              "204                              97   \n",
              "205                              10   \n",
              "206                             186   \n",
              "207                             129   \n",
              "208                             232   \n",
              "\n",
              "                                              y      comp-1      comp-2  \\\n",
              "188                       Hockenbury Psychology  151.630157  -98.593758   \n",
              "189                           principle of life  193.173904    2.711045   \n",
              "190             Business Studies Preliminary 7e  149.104218  147.097397   \n",
              "191                           principle of life  162.729553   32.739674   \n",
              "192             Business Studies Preliminary 7e  154.221054  103.018082   \n",
              "193                                    Accounts -185.802414  -28.544687   \n",
              "194                           principle of life  -24.122713 -133.847580   \n",
              "195                           principle of life   66.831573 -203.623016   \n",
              "196                           principle of life  169.594940   56.643410   \n",
              "197                           principle of life   97.967377   79.838707   \n",
              "198                           principle of life   97.370277   36.810406   \n",
              "199  Health and Human Development Units 3 and 4 -191.628693 -100.884560   \n",
              "200                       Hockenbury Psychology  143.321869  -39.833061   \n",
              "201                           principle of life   74.584358   -2.670474   \n",
              "202                           principle of life  123.304619   61.076283   \n",
              "203                       Hockenbury Psychology   86.049202 -128.509888   \n",
              "204                           principle of life   95.197327    6.401883   \n",
              "205                           principle of life  192.970840   78.370018   \n",
              "206                           principle of life  133.198288 -178.001175   \n",
              "207                       Hockenbury Psychology  143.321869  -39.833061   \n",
              "208                           principle of life  113.114525 -235.371872   \n",
              "\n",
              "    line_len word_count                                        cleanedLine  \\\n",
              "188      274         41  exposure therapy that focuses on habituation r...   \n",
              "189      119         17  in mushroomforming club fungi the basidia typi...   \n",
              "190      148         22  although there are many successful examples of...   \n",
              "191      170         26  circannual clocks are known to control annual ...   \n",
              "192      226         33  a strategic approach to human resource managem...   \n",
              "193      171         23  principles in financial reporting  measurement...   \n",
              "194      191         36  a dividing cell first grows in size and replic...   \n",
              "195      160         26  when the concentration of the competitive inhi...   \n",
              "196      118         16  if runoff increases the fluxes of all watersol...   \n",
              "197      218         30  figure 146 development reveals the evolutionar...   \n",
              "198      164         25  a key difference between mendel’s and morgan’s...   \n",
              "199      124         21  there is currently no vaccine that is effectiv...   \n",
              "200      188         29  perhaps recognizing that his explanation of fe...   \n",
              "201       87         12  a lineage species concept allows biologists to...   \n",
              "202       79         14  one is simply the number of species in the com...   \n",
              "203      158         24  if you engage the new acquaintance in conversa...   \n",
              "204      149         21  animation 101 transcription pol3ecoma101  the ...   \n",
              "205       85         16  growth of a plant cell is restricted by the ce...   \n",
              "206      166         13  pimg srchttpd1q3p76q2qt5dzcloudfrontnetprincip...   \n",
              "207      126         19  for example eysenck proposed that an introvert...   \n",
              "208      211         16  pimg srchttpd1q3p76q2qt5dzcloudfrontnetprincip...   \n",
              "\n",
              "                                         processedLine  \n",
              "188  [exposure, therapy, focuses, habituation, rath...  \n",
              "189  [mushroomforming, club, fungi, basidia, typica...  \n",
              "190  [although, many, successful, examples, outsour...  \n",
              "191  [circannual, clocks, known, control, annual, h...  \n",
              "192  [strategic, approach, human, resource, managem...  \n",
              "193  [principles, financial, reporting, measurement...  \n",
              "194  [dividing, cell, first, grows, size, replicate...  \n",
              "195  [concentration, competitive, inhibitor, reduce...  \n",
              "196  [runoff, increases, fluxes, watersoluble, mate...  \n",
              "197  [figure, 146, development, reveals, evolutiona...  \n",
              "198  [key, difference, mendel, ’, morgan, ’, result...  \n",
              "199  [currently, vaccine, effective, preventing, tb...  \n",
              "200  [perhaps, recognizing, explanation, female, ps...  \n",
              "201  [lineage, species, concept, allows, biologists...  \n",
              "202  [one, simply, number, species, community, call...  \n",
              "203  [engage, new, acquaintance, conversation, with...  \n",
              "204  [animation, 101, transcription, pol3ecoma101, ...  \n",
              "205  [growth, plant, cell, restricted, cell, wall, ...  \n",
              "206  [pimg, srchttpd1q3p76q2qt5dzcloudfrontnetprinc...  \n",
              "207  [example, eysenck, proposed, introvert, ’, ner...  \n",
              "208  [pimg, srchttpd1q3p76q2qt5dzcloudfrontnetprinc...  \n",
              "\n",
              "[21 rows x 30 columns]"
            ],
            "text/html": [
              "\n",
              "  <div id=\"df-afa200ce-0bdb-40df-bac5-f52163afbb1d\">\n",
              "    <div class=\"colab-df-container\">\n",
              "      <div>\n",
              "<style scoped>\n",
              "    .dataframe tbody tr th:only-of-type {\n",
              "        vertical-align: middle;\n",
              "    }\n",
              "\n",
              "    .dataframe tbody tr th {\n",
              "        vertical-align: top;\n",
              "    }\n",
              "\n",
              "    .dataframe thead th {\n",
              "        text-align: right;\n",
              "    }\n",
              "</style>\n",
              "<table border=\"1\" class=\"dataframe\">\n",
              "  <thead>\n",
              "    <tr style=\"text-align: right;\">\n",
              "      <th></th>\n",
              "      <th>Unnamed: 0</th>\n",
              "      <th>book_id</th>\n",
              "      <th>book_name</th>\n",
              "      <th>chapters.chapter_name</th>\n",
              "      <th>chapters.chapter_content</th>\n",
              "      <th>question</th>\n",
              "      <th>choices</th>\n",
              "      <th>answer</th>\n",
              "      <th>line</th>\n",
              "      <th>showContext</th>\n",
              "      <th>...</th>\n",
              "      <th>chapters.example_question_saved_count</th>\n",
              "      <th>chapters.keyphrase_question_nonsaved_count</th>\n",
              "      <th>chapters.example_nonsaved_count</th>\n",
              "      <th>y</th>\n",
              "      <th>comp-1</th>\n",
              "      <th>comp-2</th>\n",
              "      <th>line_len</th>\n",
              "      <th>word_count</th>\n",
              "      <th>cleanedLine</th>\n",
              "      <th>processedLine</th>\n",
              "    </tr>\n",
              "  </thead>\n",
              "  <tbody>\n",
              "    <tr>\n",
              "      <th>188</th>\n",
              "      <td>58160</td>\n",
              "      <td>134</td>\n",
              "      <td>Hockenbury Psychology</td>\n",
              "      <td>Chapter 15 Therapies</td>\n",
              "      <td>NaN</td>\n",
              "      <td>Exposure therapy that focuses on habituation r...</td>\n",
              "      <td>['observational learning', 'inhibitory learnin...</td>\n",
              "      <td>Inhibitory Learning</td>\n",
              "      <td>Exposure therapy that focuses on habituation r...</td>\n",
              "      <td>&lt;p&gt;&lt;b&gt;Excerpt from Chapter: Chapter 15 Therapi...</td>\n",
              "      <td>...</td>\n",
              "      <td>34</td>\n",
              "      <td>136</td>\n",
              "      <td>130</td>\n",
              "      <td>Hockenbury Psychology</td>\n",
              "      <td>151.630157</td>\n",
              "      <td>-98.593758</td>\n",
              "      <td>274</td>\n",
              "      <td>41</td>\n",
              "      <td>exposure therapy that focuses on habituation r...</td>\n",
              "      <td>[exposure, therapy, focuses, habituation, rath...</td>\n",
              "    </tr>\n",
              "    <tr>\n",
              "      <th>189</th>\n",
              "      <td>69857</td>\n",
              "      <td>133</td>\n",
              "      <td>principle of life</td>\n",
              "      <td>Chapter 21 The Evolution and Diversity of Fungi</td>\n",
              "      <td>NaN</td>\n",
              "      <td>In mushroom-forming club fungi, the basidia ty...</td>\n",
              "      <td>['Soredia', 'Conidia', 'mating types', 'Zygosp...</td>\n",
              "      <td>Basidiomata</td>\n",
              "      <td>In mushroom-forming club fungi, the basidia ty...</td>\n",
              "      <td>&lt;p&gt;&lt;b&gt;Excerpt from Chapter: Chapter 21 The Evo...</td>\n",
              "      <td>...</td>\n",
              "      <td>55</td>\n",
              "      <td>341</td>\n",
              "      <td>56</td>\n",
              "      <td>principle of life</td>\n",
              "      <td>193.173904</td>\n",
              "      <td>2.711045</td>\n",
              "      <td>119</td>\n",
              "      <td>17</td>\n",
              "      <td>in mushroomforming club fungi the basidia typi...</td>\n",
              "      <td>[mushroomforming, club, fungi, basidia, typica...</td>\n",
              "    </tr>\n",
              "    <tr>\n",
              "      <th>190</th>\n",
              "      <td>40265</td>\n",
              "      <td>130</td>\n",
              "      <td>Business Studies Preliminary 7e</td>\n",
              "      <td>Role of human resource management</td>\n",
              "      <td>NaN</td>\n",
              "      <td>Although there are many successful examples of...</td>\n",
              "      <td>['Process outsourcing', 'Domestic subcontracti...</td>\n",
              "      <td>contractors</td>\n",
              "      <td>Although there are many successful examples of...</td>\n",
              "      <td>&lt;p&gt;&lt;b&gt;Excerpt from Chapter: Role of human reso...</td>\n",
              "      <td>...</td>\n",
              "      <td>8</td>\n",
              "      <td>68</td>\n",
              "      <td>10</td>\n",
              "      <td>Business Studies Preliminary 7e</td>\n",
              "      <td>149.104218</td>\n",
              "      <td>147.097397</td>\n",
              "      <td>148</td>\n",
              "      <td>22</td>\n",
              "      <td>although there are many successful examples of...</td>\n",
              "      <td>[although, many, successful, examples, outsour...</td>\n",
              "    </tr>\n",
              "    <tr>\n",
              "      <th>191</th>\n",
              "      <td>74264</td>\n",
              "      <td>133</td>\n",
              "      <td>principle of life</td>\n",
              "      <td>Chapter 29 Animals in Their Environments</td>\n",
              "      <td>NaN</td>\n",
              "      <td>Circannual clocks are known to control annual ...</td>\n",
              "      <td>['regional hypothermia', 'countercurrent heat ...</td>\n",
              "      <td>Hibernation</td>\n",
              "      <td>Circannual clocks are known to control annual ...</td>\n",
              "      <td>&lt;p&gt;&lt;b&gt;Excerpt from Chapter: Chapter 29 Animals...</td>\n",
              "      <td>...</td>\n",
              "      <td>39</td>\n",
              "      <td>106</td>\n",
              "      <td>67</td>\n",
              "      <td>principle of life</td>\n",
              "      <td>162.729553</td>\n",
              "      <td>32.739674</td>\n",
              "      <td>170</td>\n",
              "      <td>26</td>\n",
              "      <td>circannual clocks are known to control annual ...</td>\n",
              "      <td>[circannual, clocks, known, control, annual, h...</td>\n",
              "    </tr>\n",
              "    <tr>\n",
              "      <th>192</th>\n",
              "      <td>41177</td>\n",
              "      <td>130</td>\n",
              "      <td>Business Studies Preliminary 7e</td>\n",
              "      <td>Processes of human resource management</td>\n",
              "      <td>NaN</td>\n",
              "      <td>A strategic approach to human resource managem...</td>\n",
              "      <td>['Employee selection', 'Recruitment', 'Acquisi...</td>\n",
              "      <td>acquisition</td>\n",
              "      <td>A strategic approach to human resource managem...</td>\n",
              "      <td>&lt;p&gt;&lt;b&gt;Excerpt from Chapter: Processes of human...</td>\n",
              "      <td>...</td>\n",
              "      <td>27</td>\n",
              "      <td>227</td>\n",
              "      <td>15</td>\n",
              "      <td>Business Studies Preliminary 7e</td>\n",
              "      <td>154.221054</td>\n",
              "      <td>103.018082</td>\n",
              "      <td>226</td>\n",
              "      <td>33</td>\n",
              "      <td>a strategic approach to human resource managem...</td>\n",
              "      <td>[strategic, approach, human, resource, managem...</td>\n",
              "    </tr>\n",
              "    <tr>\n",
              "      <th>193</th>\n",
              "      <td>1386</td>\n",
              "      <td>120</td>\n",
              "      <td>Accounts</td>\n",
              "      <td>Chapter 2: A Further Look at Financial Statements</td>\n",
              "      <td>NaN</td>\n",
              "      <td>Principles in Financial Reporting  Measurement...</td>\n",
              "      <td>['Apple Inc', 'Answers To Ifrs Self-Test Quest...</td>\n",
              "      <td>Fair Value Principle</td>\n",
              "      <td>Principles in Financial Reporting  Measurement...</td>\n",
              "      <td>&lt;p&gt;&lt;b&gt;Excerpt from Chapter: Chapter 2: A Furth...</td>\n",
              "      <td>...</td>\n",
              "      <td>21</td>\n",
              "      <td>656</td>\n",
              "      <td>0</td>\n",
              "      <td>Accounts</td>\n",
              "      <td>-185.802414</td>\n",
              "      <td>-28.544687</td>\n",
              "      <td>171</td>\n",
              "      <td>23</td>\n",
              "      <td>principles in financial reporting  measurement...</td>\n",
              "      <td>[principles, financial, reporting, measurement...</td>\n",
              "    </tr>\n",
              "    <tr>\n",
              "      <th>194</th>\n",
              "      <td>63107</td>\n",
              "      <td>133</td>\n",
              "      <td>principle of life</td>\n",
              "      <td>Chapter 7 The Cell Cycle and Cell Division</td>\n",
              "      <td>NaN</td>\n",
              "      <td>A dividing cell first grows in size and replic...</td>\n",
              "      <td>['Crossing Over', 'necrosis', 'Meiosis', 'cell...</td>\n",
              "      <td>binary fission</td>\n",
              "      <td>A dividing cell first grows in size and replic...</td>\n",
              "      <td>&lt;p&gt;&lt;b&gt;Excerpt from Chapter: Chapter 7 The Cell...</td>\n",
              "      <td>...</td>\n",
              "      <td>26</td>\n",
              "      <td>963</td>\n",
              "      <td>141</td>\n",
              "      <td>principle of life</td>\n",
              "      <td>-24.122713</td>\n",
              "      <td>-133.847580</td>\n",
              "      <td>191</td>\n",
              "      <td>36</td>\n",
              "      <td>a dividing cell first grows in size and replic...</td>\n",
              "      <td>[dividing, cell, first, grows, size, replicate...</td>\n",
              "    </tr>\n",
              "    <tr>\n",
              "      <th>195</th>\n",
              "      <td>60242</td>\n",
              "      <td>133</td>\n",
              "      <td>principle of life</td>\n",
              "      <td>Chapter 3 Macromolecules</td>\n",
              "      <td>NaN</td>\n",
              "      <td>When the concentration of the competitive inhi...</td>\n",
              "      <td>['Ligand', 'Substrates', 'active site', 'Inhib...</td>\n",
              "      <td>Active Site</td>\n",
              "      <td>When the concentration of the competitive inhi...</td>\n",
              "      <td>&lt;p&gt;&lt;b&gt;Excerpt from Chapter: Chapter 3 Macromol...</td>\n",
              "      <td>...</td>\n",
              "      <td>61</td>\n",
              "      <td>707</td>\n",
              "      <td>274</td>\n",
              "      <td>principle of life</td>\n",
              "      <td>66.831573</td>\n",
              "      <td>-203.623016</td>\n",
              "      <td>160</td>\n",
              "      <td>26</td>\n",
              "      <td>when the concentration of the competitive inhi...</td>\n",
              "      <td>[concentration, competitive, inhibitor, reduce...</td>\n",
              "    </tr>\n",
              "    <tr>\n",
              "      <th>196</th>\n",
              "      <td>83071</td>\n",
              "      <td>133</td>\n",
              "      <td>principle of life</td>\n",
              "      <td>Chapter 42 Interactions within and among Species</td>\n",
              "      <td>NaN</td>\n",
              "      <td>If runoff increases, the fluxes of all water-s...</td>\n",
              "      <td>['ecosystem function', 'global warming', 'gree...</td>\n",
              "      <td>Compartments</td>\n",
              "      <td>If runoff increases, the fluxes of all water-s...</td>\n",
              "      <td>&lt;p&gt;&lt;b&gt;Excerpt from Chapter: Chapter 42 Interac...</td>\n",
              "      <td>...</td>\n",
              "      <td>35</td>\n",
              "      <td>45</td>\n",
              "      <td>41</td>\n",
              "      <td>principle of life</td>\n",
              "      <td>169.594940</td>\n",
              "      <td>56.643410</td>\n",
              "      <td>118</td>\n",
              "      <td>16</td>\n",
              "      <td>if runoff increases the fluxes of all watersol...</td>\n",
              "      <td>[runoff, increases, fluxes, watersoluble, mate...</td>\n",
              "    </tr>\n",
              "    <tr>\n",
              "      <th>197</th>\n",
              "      <td>66369</td>\n",
              "      <td>133</td>\n",
              "      <td>principle of life</td>\n",
              "      <td>Chapter 14 Reconstructing and Using Phylogenies</td>\n",
              "      <td>NaN</td>\n",
              "      <td>FIGURE 14.6  _____________  Reveals the Evolut...</td>\n",
              "      <td>['Phylogeny', 'phylogenetic tree', 'Lineage', ...</td>\n",
              "      <td>Development</td>\n",
              "      <td>FIGURE 14.6 Development Reveals the Evolutiona...</td>\n",
              "      <td>&lt;p&gt;&lt;b&gt;Excerpt from Chapter: Chapter 14 Reconst...</td>\n",
              "      <td>...</td>\n",
              "      <td>18</td>\n",
              "      <td>255</td>\n",
              "      <td>75</td>\n",
              "      <td>principle of life</td>\n",
              "      <td>97.967377</td>\n",
              "      <td>79.838707</td>\n",
              "      <td>218</td>\n",
              "      <td>30</td>\n",
              "      <td>figure 146 development reveals the evolutionar...</td>\n",
              "      <td>[figure, 146, development, reveals, evolutiona...</td>\n",
              "    </tr>\n",
              "    <tr>\n",
              "      <th>198</th>\n",
              "      <td>64244</td>\n",
              "      <td>133</td>\n",
              "      <td>principle of life</td>\n",
              "      <td>Chapter 8 Inheritance, Genes, and Chromosomes</td>\n",
              "      <td>NaN</td>\n",
              "      <td>A key difference between Mendel’s and Morgan’s...</td>\n",
              "      <td>['sex chromosomes', 'Autosomes', 'Hemizygous',...</td>\n",
              "      <td>Sex Chromosomes</td>\n",
              "      <td>A key difference between Mendel’s and Morgan’s...</td>\n",
              "      <td>&lt;p&gt;&lt;b&gt;Excerpt from Chapter: Chapter 8 Inherita...</td>\n",
              "      <td>...</td>\n",
              "      <td>27</td>\n",
              "      <td>365</td>\n",
              "      <td>92</td>\n",
              "      <td>principle of life</td>\n",
              "      <td>97.370277</td>\n",
              "      <td>36.810406</td>\n",
              "      <td>164</td>\n",
              "      <td>25</td>\n",
              "      <td>a key difference between mendel’s and morgan’s...</td>\n",
              "      <td>[key, difference, mendel, ’, morgan, ’, result...</td>\n",
              "    </tr>\n",
              "    <tr>\n",
              "      <th>199</th>\n",
              "      <td>48891</td>\n",
              "      <td>121</td>\n",
              "      <td>Health and Human Development Units 3 and 4</td>\n",
              "      <td>c11 Sustainable Development Goals And The Worl...</td>\n",
              "      <td>NaN</td>\n",
              "      <td>There is currently no vaccine that is effectiv...</td>\n",
              "      <td>['Commonwealth Of Australia', 'Australia', 'Au...</td>\n",
              "      <td>TB</td>\n",
              "      <td>There is currently no vaccine that is effectiv...</td>\n",
              "      <td>&lt;p&gt;&lt;b&gt;Excerpt from Chapter: c11 Sustainable De...</td>\n",
              "      <td>...</td>\n",
              "      <td>17</td>\n",
              "      <td>551</td>\n",
              "      <td>129</td>\n",
              "      <td>Health and Human Development Units 3 and 4</td>\n",
              "      <td>-191.628693</td>\n",
              "      <td>-100.884560</td>\n",
              "      <td>124</td>\n",
              "      <td>21</td>\n",
              "      <td>there is currently no vaccine that is effectiv...</td>\n",
              "      <td>[currently, vaccine, effective, preventing, tb...</td>\n",
              "    </tr>\n",
              "    <tr>\n",
              "      <th>200</th>\n",
              "      <td>55622</td>\n",
              "      <td>134</td>\n",
              "      <td>Hockenbury Psychology</td>\n",
              "      <td>Chapter 11 Personality</td>\n",
              "      <td>NaN</td>\n",
              "      <td>Perhaps recognizing that his explanation of fe...</td>\n",
              "      <td>['womb envy', 'penis envy', 'repression', 'dis...</td>\n",
              "      <td>Penis Envy</td>\n",
              "      <td>Perhaps recognizing that his explanation of fe...</td>\n",
              "      <td>&lt;p&gt;&lt;b&gt;Excerpt from Chapter: Chapter 11 Persona...</td>\n",
              "      <td>...</td>\n",
              "      <td>40</td>\n",
              "      <td>90</td>\n",
              "      <td>129</td>\n",
              "      <td>Hockenbury Psychology</td>\n",
              "      <td>143.321869</td>\n",
              "      <td>-39.833061</td>\n",
              "      <td>188</td>\n",
              "      <td>29</td>\n",
              "      <td>perhaps recognizing that his explanation of fe...</td>\n",
              "      <td>[perhaps, recognizing, explanation, female, ps...</td>\n",
              "    </tr>\n",
              "    <tr>\n",
              "      <th>201</th>\n",
              "      <td>66968</td>\n",
              "      <td>133</td>\n",
              "      <td>principle of life</td>\n",
              "      <td>Chapter 16 Speciation</td>\n",
              "      <td>NaN</td>\n",
              "      <td>A  _____________  allows biologists to conside...</td>\n",
              "      <td>['reproductive isolation', 'morphological spec...</td>\n",
              "      <td>Lineage Species Concept</td>\n",
              "      <td>A lineage species concept allows biologists to...</td>\n",
              "      <td>&lt;p&gt;&lt;b&gt;Excerpt from Chapter: Chapter 16 Speciat...</td>\n",
              "      <td>...</td>\n",
              "      <td>32</td>\n",
              "      <td>439</td>\n",
              "      <td>106</td>\n",
              "      <td>principle of life</td>\n",
              "      <td>74.584358</td>\n",
              "      <td>-2.670474</td>\n",
              "      <td>87</td>\n",
              "      <td>12</td>\n",
              "      <td>a lineage species concept allows biologists to...</td>\n",
              "      <td>[lineage, species, concept, allows, biologists...</td>\n",
              "    </tr>\n",
              "    <tr>\n",
              "      <th>202</th>\n",
              "      <td>82798</td>\n",
              "      <td>133</td>\n",
              "      <td>principle of life</td>\n",
              "      <td>Chapter 41 Ecological Communities</td>\n",
              "      <td>NaN</td>\n",
              "      <td>One is simply the number of species in the com...</td>\n",
              "      <td>['species composition', 'habitat structure', '...</td>\n",
              "      <td>Species Richness</td>\n",
              "      <td>One is simply the number of species in the com...</td>\n",
              "      <td>&lt;p&gt;&lt;b&gt;Excerpt from Chapter: Chapter 41 Ecologi...</td>\n",
              "      <td>...</td>\n",
              "      <td>29</td>\n",
              "      <td>170</td>\n",
              "      <td>64</td>\n",
              "      <td>principle of life</td>\n",
              "      <td>123.304619</td>\n",
              "      <td>61.076283</td>\n",
              "      <td>79</td>\n",
              "      <td>14</td>\n",
              "      <td>one is simply the number of species in the com...</td>\n",
              "      <td>[one, simply, number, species, community, call...</td>\n",
              "    </tr>\n",
              "    <tr>\n",
              "      <th>203</th>\n",
              "      <td>52711</td>\n",
              "      <td>134</td>\n",
              "      <td>Hockenbury Psychology</td>\n",
              "      <td>Chapter 6 Memory</td>\n",
              "      <td>NaN</td>\n",
              "      <td>If you engage the new acquaintance in conversa...</td>\n",
              "      <td>['Short-term memory', 'memory trace', 'Decay t...</td>\n",
              "      <td>Short-Term Memory</td>\n",
              "      <td>If you engage the new acquaintance in conversa...</td>\n",
              "      <td>&lt;p&gt;&lt;b&gt;Excerpt from Chapter: Chapter 6 Memory:&lt;...</td>\n",
              "      <td>...</td>\n",
              "      <td>40</td>\n",
              "      <td>229</td>\n",
              "      <td>246</td>\n",
              "      <td>Hockenbury Psychology</td>\n",
              "      <td>86.049202</td>\n",
              "      <td>-128.509888</td>\n",
              "      <td>158</td>\n",
              "      <td>24</td>\n",
              "      <td>if you engage the new acquaintance in conversa...</td>\n",
              "      <td>[engage, new, acquaintance, conversation, with...</td>\n",
              "    </tr>\n",
              "    <tr>\n",
              "      <th>204</th>\n",
              "      <td>65086</td>\n",
              "      <td>133</td>\n",
              "      <td>principle of life</td>\n",
              "      <td>Chapter 10 From DNA to Protein: Gene Expression</td>\n",
              "      <td>NaN</td>\n",
              "      <td>Animation 10.1 Transcription PoL3e.com/a10.1  ...</td>\n",
              "      <td>['Messenger RNAs', 'Polypeptide', 'tRNAs', 'ri...</td>\n",
              "      <td>transcription</td>\n",
              "      <td>Animation 10.1 Transcription PoL3e.com/a10.1  ...</td>\n",
              "      <td>&lt;p&gt;&lt;b&gt;Excerpt from Chapter: Chapter 10 From DN...</td>\n",
              "      <td>...</td>\n",
              "      <td>30</td>\n",
              "      <td>405</td>\n",
              "      <td>97</td>\n",
              "      <td>principle of life</td>\n",
              "      <td>95.197327</td>\n",
              "      <td>6.401883</td>\n",
              "      <td>149</td>\n",
              "      <td>21</td>\n",
              "      <td>animation 101 transcription pol3ecoma101  the ...</td>\n",
              "      <td>[animation, 101, transcription, pol3ecoma101, ...</td>\n",
              "    </tr>\n",
              "    <tr>\n",
              "      <th>205</th>\n",
              "      <td>72669</td>\n",
              "      <td>133</td>\n",
              "      <td>principle of life</td>\n",
              "      <td>Chapter 25 Plant Growth and Development</td>\n",
              "      <td>NaN</td>\n",
              "      <td>_____________  of a plant cell is restricted b...</td>\n",
              "      <td>['Development', 'Growth', 'Differentiation', '...</td>\n",
              "      <td>Growth</td>\n",
              "      <td>Growth of a plant cell is restricted by the ce...</td>\n",
              "      <td>&lt;p&gt;&lt;b&gt;Excerpt from Chapter: Chapter 25 Plant G...</td>\n",
              "      <td>...</td>\n",
              "      <td>38</td>\n",
              "      <td>222</td>\n",
              "      <td>10</td>\n",
              "      <td>principle of life</td>\n",
              "      <td>192.970840</td>\n",
              "      <td>78.370018</td>\n",
              "      <td>85</td>\n",
              "      <td>16</td>\n",
              "      <td>growth of a plant cell is restricted by the ce...</td>\n",
              "      <td>[growth, plant, cell, restricted, cell, wall, ...</td>\n",
              "    </tr>\n",
              "    <tr>\n",
              "      <th>206</th>\n",
              "      <td>68620</td>\n",
              "      <td>133</td>\n",
              "      <td>principle of life</td>\n",
              "      <td>Chapter 20 The Evolution of Plants</td>\n",
              "      <td>NaN</td>\n",
              "      <td>&lt;p&gt;&lt;img src=\"http://d1q3p76q2qt5dz.cloudfront....</td>\n",
              "      <td>['20', '8', '5', '4']</td>\n",
              "      <td>5</td>\n",
              "      <td>&lt;p&gt;&lt;img src=\"http://d1q3p76q2qt5dz.cloudfront....</td>\n",
              "      <td>&lt;p&gt;&lt;img src=\"http://d1q3p76q2qt5dz.cloudfront....</td>\n",
              "      <td>...</td>\n",
              "      <td>63</td>\n",
              "      <td>968</td>\n",
              "      <td>186</td>\n",
              "      <td>principle of life</td>\n",
              "      <td>133.198288</td>\n",
              "      <td>-178.001175</td>\n",
              "      <td>166</td>\n",
              "      <td>13</td>\n",
              "      <td>pimg srchttpd1q3p76q2qt5dzcloudfrontnetprincip...</td>\n",
              "      <td>[pimg, srchttpd1q3p76q2qt5dzcloudfrontnetprinc...</td>\n",
              "    </tr>\n",
              "    <tr>\n",
              "      <th>207</th>\n",
              "      <td>55643</td>\n",
              "      <td>134</td>\n",
              "      <td>Hockenbury Psychology</td>\n",
              "      <td>Chapter 11 Personality</td>\n",
              "      <td>NaN</td>\n",
              "      <td>For example, Eysenck proposed that an introver...</td>\n",
              "      <td>['low-level narcissism', 'low-level psychopath...</td>\n",
              "      <td>Psychoticism</td>\n",
              "      <td>For example, Eysenck proposed that an introver...</td>\n",
              "      <td>&lt;p&gt;&lt;b&gt;Excerpt from Chapter: Chapter 11 Persona...</td>\n",
              "      <td>...</td>\n",
              "      <td>40</td>\n",
              "      <td>90</td>\n",
              "      <td>129</td>\n",
              "      <td>Hockenbury Psychology</td>\n",
              "      <td>143.321869</td>\n",
              "      <td>-39.833061</td>\n",
              "      <td>126</td>\n",
              "      <td>19</td>\n",
              "      <td>for example eysenck proposed that an introvert...</td>\n",
              "      <td>[example, eysenck, proposed, introvert, ’, ner...</td>\n",
              "    </tr>\n",
              "    <tr>\n",
              "      <th>208</th>\n",
              "      <td>74560</td>\n",
              "      <td>133</td>\n",
              "      <td>principle of life</td>\n",
              "      <td>Chapter 30 Breathing and Circulation</td>\n",
              "      <td>NaN</td>\n",
              "      <td>&lt;p&gt;&lt;img src=\"http://d1q3p76q2qt5dz.cloudfront....</td>\n",
              "      <td>['2', '1', '5', '3']</td>\n",
              "      <td>1</td>\n",
              "      <td>&lt;p&gt;&lt;img src=\"http://d1q3p76q2qt5dz.cloudfront....</td>\n",
              "      <td>&lt;p&gt;&lt;img src=\"http://d1q3p76q2qt5dz.cloudfront....</td>\n",
              "      <td>...</td>\n",
              "      <td>94</td>\n",
              "      <td>1038</td>\n",
              "      <td>232</td>\n",
              "      <td>principle of life</td>\n",
              "      <td>113.114525</td>\n",
              "      <td>-235.371872</td>\n",
              "      <td>211</td>\n",
              "      <td>16</td>\n",
              "      <td>pimg srchttpd1q3p76q2qt5dzcloudfrontnetprincip...</td>\n",
              "      <td>[pimg, srchttpd1q3p76q2qt5dzcloudfrontnetprinc...</td>\n",
              "    </tr>\n",
              "  </tbody>\n",
              "</table>\n",
              "<p>21 rows × 30 columns</p>\n",
              "</div>\n",
              "      <button class=\"colab-df-convert\" onclick=\"convertToInteractive('df-afa200ce-0bdb-40df-bac5-f52163afbb1d')\"\n",
              "              title=\"Convert this dataframe to an interactive table.\"\n",
              "              style=\"display:none;\">\n",
              "        \n",
              "  <svg xmlns=\"http://www.w3.org/2000/svg\" height=\"24px\"viewBox=\"0 0 24 24\"\n",
              "       width=\"24px\">\n",
              "    <path d=\"M0 0h24v24H0V0z\" fill=\"none\"/>\n",
              "    <path d=\"M18.56 5.44l.94 2.06.94-2.06 2.06-.94-2.06-.94-.94-2.06-.94 2.06-2.06.94zm-11 1L8.5 8.5l.94-2.06 2.06-.94-2.06-.94L8.5 2.5l-.94 2.06-2.06.94zm10 10l.94 2.06.94-2.06 2.06-.94-2.06-.94-.94-2.06-.94 2.06-2.06.94z\"/><path d=\"M17.41 7.96l-1.37-1.37c-.4-.4-.92-.59-1.43-.59-.52 0-1.04.2-1.43.59L10.3 9.45l-7.72 7.72c-.78.78-.78 2.05 0 2.83L4 21.41c.39.39.9.59 1.41.59.51 0 1.02-.2 1.41-.59l7.78-7.78 2.81-2.81c.8-.78.8-2.07 0-2.86zM5.41 20L4 18.59l7.72-7.72 1.47 1.35L5.41 20z\"/>\n",
              "  </svg>\n",
              "      </button>\n",
              "      \n",
              "  <style>\n",
              "    .colab-df-container {\n",
              "      display:flex;\n",
              "      flex-wrap:wrap;\n",
              "      gap: 12px;\n",
              "    }\n",
              "\n",
              "    .colab-df-convert {\n",
              "      background-color: #E8F0FE;\n",
              "      border: none;\n",
              "      border-radius: 50%;\n",
              "      cursor: pointer;\n",
              "      display: none;\n",
              "      fill: #1967D2;\n",
              "      height: 32px;\n",
              "      padding: 0 0 0 0;\n",
              "      width: 32px;\n",
              "    }\n",
              "\n",
              "    .colab-df-convert:hover {\n",
              "      background-color: #E2EBFA;\n",
              "      box-shadow: 0px 1px 2px rgba(60, 64, 67, 0.3), 0px 1px 3px 1px rgba(60, 64, 67, 0.15);\n",
              "      fill: #174EA6;\n",
              "    }\n",
              "\n",
              "    [theme=dark] .colab-df-convert {\n",
              "      background-color: #3B4455;\n",
              "      fill: #D2E3FC;\n",
              "    }\n",
              "\n",
              "    [theme=dark] .colab-df-convert:hover {\n",
              "      background-color: #434B5C;\n",
              "      box-shadow: 0px 1px 3px 1px rgba(0, 0, 0, 0.15);\n",
              "      filter: drop-shadow(0px 1px 2px rgba(0, 0, 0, 0.3));\n",
              "      fill: #FFFFFF;\n",
              "    }\n",
              "  </style>\n",
              "\n",
              "      <script>\n",
              "        const buttonEl =\n",
              "          document.querySelector('#df-afa200ce-0bdb-40df-bac5-f52163afbb1d button.colab-df-convert');\n",
              "        buttonEl.style.display =\n",
              "          google.colab.kernel.accessAllowed ? 'block' : 'none';\n",
              "\n",
              "        async function convertToInteractive(key) {\n",
              "          const element = document.querySelector('#df-afa200ce-0bdb-40df-bac5-f52163afbb1d');\n",
              "          const dataTable =\n",
              "            await google.colab.kernel.invokeFunction('convertToInteractive',\n",
              "                                                     [key], {});\n",
              "          if (!dataTable) return;\n",
              "\n",
              "          const docLinkHtml = 'Like what you see? Visit the ' +\n",
              "            '<a target=\"_blank\" href=https://colab.research.google.com/notebooks/data_table.ipynb>data table notebook</a>'\n",
              "            + ' to learn more about interactive tables.';\n",
              "          element.innerHTML = '';\n",
              "          dataTable['output_type'] = 'display_data';\n",
              "          await google.colab.output.renderOutput(dataTable, element);\n",
              "          const docLink = document.createElement('div');\n",
              "          docLink.innerHTML = docLinkHtml;\n",
              "          element.appendChild(docLink);\n",
              "        }\n",
              "      </script>\n",
              "    </div>\n",
              "  </div>\n",
              "  "
            ]
          },
          "metadata": {},
          "execution_count": 86
        }
      ]
    },
    {
      "cell_type": "code",
      "source": [
        "#df.drop('Unnamed: 0', axis=1, inplace=True)\n",
        "\n",
        "df_true = df_true[~df_true['line'].isnull()]\n",
        "\n",
        "def preprocess(ReviewText):\n",
        "    ReviewText = ReviewText.str.replace(\"(<br/>)\", \"\", regex=True)\n",
        "    ReviewText = ReviewText.str.replace('(<a).*(>).*(</a>)', '',regex=True)\n",
        "    ReviewText = ReviewText.str.replace('(&amp)', '',regex=True)\n",
        "    ReviewText = ReviewText.str.replace('(&gt)', '',regex=True)\n",
        "    ReviewText = ReviewText.str.replace('(&lt)', '',regex=True)\n",
        "    ReviewText = ReviewText.str.replace('(\\xa0)', ' ',regex=True)  \n",
        "    return ReviewText\n",
        "df_true['line'] = preprocess(df_true['line'])\n",
        "\n",
        "df_true['line_len'] = df_true['line'].astype(str).apply(len)\n",
        "df_true['word_count'] = df_true['line'].apply(lambda x: len(str(x).split()))"
      ],
      "metadata": {
        "id": "2pscXyuBGBv1"
      },
      "execution_count": null,
      "outputs": []
    },
    {
      "cell_type": "code",
      "source": [
        "# The distribution text lengths\n",
        "plt.hist(df_true.line_len,bins=50)"
      ],
      "metadata": {
        "colab": {
          "base_uri": "https://localhost:8080/"
        },
        "id": "k3bu55GXGTjy",
        "outputId": "89df89af-8501-4bb7-a795-a417b68ac56f"
      },
      "execution_count": null,
      "outputs": [
        {
          "output_type": "execute_result",
          "data": {
            "text/plain": [
              "(array([1., 1., 1., 0., 0., 0., 0., 0., 0., 0., 2., 1., 1., 0., 0., 0., 0.,\n",
              "        2., 0., 0., 2., 1., 1., 2., 0., 0., 0., 1., 1., 0., 0., 0., 0., 1.,\n",
              "        0., 1., 0., 1., 0., 0., 0., 0., 0., 0., 0., 0., 0., 0., 0., 1.]),\n",
              " array([ 79. ,  82.9,  86.8,  90.7,  94.6,  98.5, 102.4, 106.3, 110.2,\n",
              "        114.1, 118. , 121.9, 125.8, 129.7, 133.6, 137.5, 141.4, 145.3,\n",
              "        149.2, 153.1, 157. , 160.9, 164.8, 168.7, 172.6, 176.5, 180.4,\n",
              "        184.3, 188.2, 192.1, 196. , 199.9, 203.8, 207.7, 211.6, 215.5,\n",
              "        219.4, 223.3, 227.2, 231.1, 235. , 238.9, 242.8, 246.7, 250.6,\n",
              "        254.5, 258.4, 262.3, 266.2, 270.1, 274. ]),\n",
              " <a list of 50 Patch objects>)"
            ]
          },
          "metadata": {},
          "execution_count": 88
        },
        {
          "output_type": "display_data",
          "data": {
            "text/plain": [
              "<Figure size 864x576 with 1 Axes>"
            ],
            "image/png": "[encoded data removed]"
          },
          "metadata": {}
        }
      ]
    },
    {
      "cell_type": "code",
      "source": [
        "# The distribution of word count\n",
        "sns.displot(df_true, x=\"word_count\").set(title='word count distribution')"
      ],
      "metadata": {
        "colab": {
          "base_uri": "https://localhost:8080/"
        },
        "id": "kvUerevyGaJJ",
        "outputId": "ad967e02-ce63-4c53-bd9e-1c0313a9928b"
      },
      "execution_count": null,
      "outputs": [
        {
          "output_type": "execute_result",
          "data": {
            "text/plain": [
              "<seaborn.axisgrid.FacetGrid at 0x7f7e8a094350>"
            ]
          },
          "metadata": {},
          "execution_count": 89
        },
        {
          "output_type": "display_data",
          "data": {
            "text/plain": [
              "<Figure size 360x360 with 1 Axes>"
            ],
            "image/png": "[encoded data removed]"
          },
          "metadata": {}
        }
      ]
    },
    {
      "cell_type": "code",
      "source": [
        "grouped = df.groupby(df.saved)\n",
        "df_false = grouped.get_group(False)\n",
        "df_false"
      ],
      "metadata": {
        "colab": {
          "base_uri": "https://localhost:8080/"
        },
        "id": "2vZ6pFQAGmt2",
        "outputId": "1d258414-add2-428d-daee-e8c785365c8d"
      },
      "execution_count": null,
      "outputs": [
        {
          "output_type": "execute_result",
          "data": {
            "text/plain": [
              "     Unnamed: 0  book_id                                   book_name  \\\n",
              "0         45437      121  Health and Human Development Units 3 and 4   \n",
              "1         37718      130             Business Studies Preliminary 7e   \n",
              "2          3195      120                                    Accounts   \n",
              "3         17640      120                                    Accounts   \n",
              "4         28350      120                                    Accounts   \n",
              "..          ...      ...                                         ...   \n",
              "183       19960      120                                    Accounts   \n",
              "184       67425      133                           principle of life   \n",
              "185       48547      121  Health and Human Development Units 3 and 4   \n",
              "186       52078      134                       Hockenbury Psychology   \n",
              "187       14342      120                                    Accounts   \n",
              "\n",
              "                                 chapters.chapter_name  \\\n",
              "0    c04 Variations In Health Status Population Groups   \n",
              "1                                 Marketing strategies   \n",
              "2         Chapter 3: The Accounting Information System   \n",
              "3                     Chapter 14 Managerial Accounting   \n",
              "4     Chapter 24 Standard Costs and Balanced Scorecard   \n",
              "..                                                 ...   \n",
              "183                         Chapter 16 Process Costing   \n",
              "184                              Chapter 16 Speciation   \n",
              "185           c09 Sustainability And Human Development   \n",
              "186         Chapter 4 Consciousness and Its Variations   \n",
              "187  Chapter 11: Reporting and Analyzing Stockholde...   \n",
              "\n",
              "     chapters.chapter_content  \\\n",
              "0                         NaN   \n",
              "1                         NaN   \n",
              "2                         NaN   \n",
              "3                         NaN   \n",
              "4                         NaN   \n",
              "..                        ...   \n",
              "183                       NaN   \n",
              "184                       NaN   \n",
              "185                       NaN   \n",
              "186                       NaN   \n",
              "187                       NaN   \n",
              "\n",
              "                                              question  \\\n",
              "0    Maternal tobacco, alcohol and drug use, and ma...   \n",
              "1    Publicity and  _____________   _____________  ...   \n",
              "2    A debit of $395 to  _____________  was posted ...   \n",
              "3    Here are some of the costs that your snowboard...   \n",
              "4    What is a possible scenario that would provide...   \n",
              "..                                                 ...   \n",
              "183  Process Cost Flow Illustration 16.5 shows  ___...   \n",
              "184  Questions What examples of geographic events a...   \n",
              "185  What does it mean when the three dimensions of...   \n",
              "186  People who go without sleep for a day or more ...   \n",
              "187  What are the principal differences between com...   \n",
              "\n",
              "                                               choices               answer  \\\n",
              "0    ['Rural Areas', 'America', 'The United Nations...            Pregnancy   \n",
              "1    ['Global marketing', 'transnational corporatio...      Global Branding   \n",
              "2    ['The General Ledger', 'Service Revenue', 'Tem...  Advertising Expense   \n",
              "3    ['Illinois', 'Wisconsin', 'State Of Illinois',...              Terrain   \n",
              "4    ['Computation Of Cost Of Delivery Truck', 'Whe...          Unfavorable   \n",
              "..                                                 ...                  ...   \n",
              "183  ['Accumulates', 'Assigned', 'Factory  Labor', ...    The Flow Of Costs   \n",
              "184  ['Speciation', 'Species', 'species concepts', ...              Species   \n",
              "185  ['Who Gives A Crap', 'Sourced', 'Sustainable D...       Sustainability   \n",
              "186  ['hypnagogic hallucinations', 'microsleeps', '...          Microsleeps   \n",
              "187  ['False', 'Easy To Sell', 'Except', 'Disadvant...      Preferred Stock   \n",
              "\n",
              "                                                  line  \\\n",
              "0    Maternal tobacco, alcohol and drug use, and ma...   \n",
              "1    Publicity and global branding Global branding ...   \n",
              "2    A debit of $395 to Advertising Expense was pos...   \n",
              "3    Here are some of the costs that your snowboard...   \n",
              "4    What is a possible scenario that would provide...   \n",
              "..                                                 ...   \n",
              "183  Process Cost Flow Illustration 16.5 shows the ...   \n",
              "184  Questions   What examples of geographic events...   \n",
              "185  What does it mean when the three dimensions of...   \n",
              "186  People who go without sleep for a day or more ...   \n",
              "187  What are the principal differences between com...   \n",
              "\n",
              "                                           showContext  ...  \\\n",
              "0    \\nPage 141 Every person is, in part, a product...  ...   \n",
              "1                                    content not found  ...   \n",
              "2                                    content not found  ...   \n",
              "3    \\nTo improve your understanding of cost concep...  ...   \n",
              "4                                    content not found  ...   \n",
              "..                                                 ...  ...   \n",
              "183                                  content not found  ...   \n",
              "184                                  content not found  ...   \n",
              "185  \\nOutline the four factors that are important ...  ...   \n",
              "186                                  content not found  ...   \n",
              "187  \\nNote: All asterisked Questions, Exercises, a...  ...   \n",
              "\n",
              "    chapters.example_question_saved_count  \\\n",
              "0                                      27   \n",
              "1                                      34   \n",
              "2                                      22   \n",
              "3                                      30   \n",
              "4                                      27   \n",
              "..                                    ...   \n",
              "183                                    26   \n",
              "184                                    32   \n",
              "185                                     7   \n",
              "186                                    41   \n",
              "187                                    12   \n",
              "\n",
              "    chapters.keyphrase_question_nonsaved_count  \\\n",
              "0                                          985   \n",
              "1                                         1038   \n",
              "2                                         1060   \n",
              "3                                          727   \n",
              "4                                         1586   \n",
              "..                                         ...   \n",
              "183                                       1513   \n",
              "184                                        439   \n",
              "185                                        237   \n",
              "186                                        130   \n",
              "187                                       1520   \n",
              "\n",
              "    chapters.example_nonsaved_count  \\\n",
              "0                               154   \n",
              "1                               230   \n",
              "2                                 0   \n",
              "3                                 5   \n",
              "4                                13   \n",
              "..                              ...   \n",
              "183                              26   \n",
              "184                             106   \n",
              "185                              73   \n",
              "186                             128   \n",
              "187                              78   \n",
              "\n",
              "                                              y      comp-1      comp-2  \\\n",
              "0    Health and Human Development Units 3 and 4  -51.945511 -180.321045   \n",
              "1               Business Studies Preliminary 7e    1.280442 -180.999954   \n",
              "2                                      Accounts -186.369766   31.377338   \n",
              "3                                      Accounts  -95.865196   21.499971   \n",
              "4                                      Accounts -202.478989  139.885666   \n",
              "..                                          ...         ...         ...   \n",
              "183                                    Accounts -203.044037  170.223618   \n",
              "184                           principle of life   61.369808  -16.366976   \n",
              "185  Health and Human Development Units 3 and 4  105.412415  126.452812   \n",
              "186                       Hockenbury Psychology  167.725967  -87.765175   \n",
              "187                                    Accounts -163.382446  152.223877   \n",
              "\n",
              "    line_len word_count                                        cleanedLine  \\\n",
              "0        219         32  maternal tobacco alcohol and drug use and mate...   \n",
              "1        293         43  publicity and global branding global branding ...   \n",
              "2         58         11  a debit of 395 to advertising expense was post...   \n",
              "3         89         15  here are some of the costs that your snowboard...   \n",
              "4        135         22  what is a possible scenario that would provide...   \n",
              "..       ...        ...                                                ...   \n",
              "183      105         18  process cost flow illustration 165 shows the f...   \n",
              "184      150         21  questions   what examples of geographic events...   \n",
              "185       90         15  what does it mean when the three dimensions of...   \n",
              "186      165         27  people who go without sleep for a day or more ...   \n",
              "187       76         11  what are the principal differences between com...   \n",
              "\n",
              "                                         processedLine  \n",
              "0    [maternal, tobacco, alcohol, drug, use, matern...  \n",
              "1    [publicity, global, branding, global, branding...  \n",
              "2      [debit, 395, advertising, expense, posted, 359]  \n",
              "3    [costs, snowboard, factory, terrain, park, boa...  \n",
              "4    [possible, scenario, would, provide, one, caus...  \n",
              "..                                                 ...  \n",
              "183  [process, cost, flow, illustration, 165, shows...  \n",
              "184  [questions, examples, geographic, events, like...  \n",
              "185  [mean, three, dimensions, sustainability, said...  \n",
              "186  [people, go, without, sleep, day, also, experi...  \n",
              "187  [principal, differences, common, stock, prefer...  \n",
              "\n",
              "[188 rows x 30 columns]"
            ],
            "text/html": [
              "\n",
              "  <div id=\"df-e8643814-f33a-49ff-bd1f-d8f8fb7c68ad\">\n",
              "    <div class=\"colab-df-container\">\n",
              "      <div>\n",
              "<style scoped>\n",
              "    .dataframe tbody tr th:only-of-type {\n",
              "        vertical-align: middle;\n",
              "    }\n",
              "\n",
              "    .dataframe tbody tr th {\n",
              "        vertical-align: top;\n",
              "    }\n",
              "\n",
              "    .dataframe thead th {\n",
              "        text-align: right;\n",
              "    }\n",
              "</style>\n",
              "<table border=\"1\" class=\"dataframe\">\n",
              "  <thead>\n",
              "    <tr style=\"text-align: right;\">\n",
              "      <th></th>\n",
              "      <th>Unnamed: 0</th>\n",
              "      <th>book_id</th>\n",
              "      <th>book_name</th>\n",
              "      <th>chapters.chapter_name</th>\n",
              "      <th>chapters.chapter_content</th>\n",
              "      <th>question</th>\n",
              "      <th>choices</th>\n",
              "      <th>answer</th>\n",
              "      <th>line</th>\n",
              "      <th>showContext</th>\n",
              "      <th>...</th>\n",
              "      <th>chapters.example_question_saved_count</th>\n",
              "      <th>chapters.keyphrase_question_nonsaved_count</th>\n",
              "      <th>chapters.example_nonsaved_count</th>\n",
              "      <th>y</th>\n",
              "      <th>comp-1</th>\n",
              "      <th>comp-2</th>\n",
              "      <th>line_len</th>\n",
              "      <th>word_count</th>\n",
              "      <th>cleanedLine</th>\n",
              "      <th>processedLine</th>\n",
              "    </tr>\n",
              "  </thead>\n",
              "  <tbody>\n",
              "    <tr>\n",
              "      <th>0</th>\n",
              "      <td>45437</td>\n",
              "      <td>121</td>\n",
              "      <td>Health and Human Development Units 3 and 4</td>\n",
              "      <td>c04 Variations In Health Status Population Groups</td>\n",
              "      <td>NaN</td>\n",
              "      <td>Maternal tobacco, alcohol and drug use, and ma...</td>\n",
              "      <td>['Rural Areas', 'America', 'The United Nations...</td>\n",
              "      <td>Pregnancy</td>\n",
              "      <td>Maternal tobacco, alcohol and drug use, and ma...</td>\n",
              "      <td>\\nPage 141 Every person is, in part, a product...</td>\n",
              "      <td>...</td>\n",
              "      <td>27</td>\n",
              "      <td>985</td>\n",
              "      <td>154</td>\n",
              "      <td>Health and Human Development Units 3 and 4</td>\n",
              "      <td>-51.945511</td>\n",
              "      <td>-180.321045</td>\n",
              "      <td>219</td>\n",
              "      <td>32</td>\n",
              "      <td>maternal tobacco alcohol and drug use and mate...</td>\n",
              "      <td>[maternal, tobacco, alcohol, drug, use, matern...</td>\n",
              "    </tr>\n",
              "    <tr>\n",
              "      <th>1</th>\n",
              "      <td>37718</td>\n",
              "      <td>130</td>\n",
              "      <td>Business Studies Preliminary 7e</td>\n",
              "      <td>Marketing strategies</td>\n",
              "      <td>NaN</td>\n",
              "      <td>Publicity and  _____________   _____________  ...</td>\n",
              "      <td>['Global marketing', 'transnational corporatio...</td>\n",
              "      <td>Global Branding</td>\n",
              "      <td>Publicity and global branding Global branding ...</td>\n",
              "      <td>content not found</td>\n",
              "      <td>...</td>\n",
              "      <td>34</td>\n",
              "      <td>1038</td>\n",
              "      <td>230</td>\n",
              "      <td>Business Studies Preliminary 7e</td>\n",
              "      <td>1.280442</td>\n",
              "      <td>-180.999954</td>\n",
              "      <td>293</td>\n",
              "      <td>43</td>\n",
              "      <td>publicity and global branding global branding ...</td>\n",
              "      <td>[publicity, global, branding, global, branding...</td>\n",
              "    </tr>\n",
              "    <tr>\n",
              "      <th>2</th>\n",
              "      <td>3195</td>\n",
              "      <td>120</td>\n",
              "      <td>Accounts</td>\n",
              "      <td>Chapter 3: The Accounting Information System</td>\n",
              "      <td>NaN</td>\n",
              "      <td>A debit of $395 to  _____________  was posted ...</td>\n",
              "      <td>['The General Ledger', 'Service Revenue', 'Tem...</td>\n",
              "      <td>Advertising Expense</td>\n",
              "      <td>A debit of $395 to Advertising Expense was pos...</td>\n",
              "      <td>content not found</td>\n",
              "      <td>...</td>\n",
              "      <td>22</td>\n",
              "      <td>1060</td>\n",
              "      <td>0</td>\n",
              "      <td>Accounts</td>\n",
              "      <td>-186.369766</td>\n",
              "      <td>31.377338</td>\n",
              "      <td>58</td>\n",
              "      <td>11</td>\n",
              "      <td>a debit of 395 to advertising expense was post...</td>\n",
              "      <td>[debit, 395, advertising, expense, posted, 359]</td>\n",
              "    </tr>\n",
              "    <tr>\n",
              "      <th>3</th>\n",
              "      <td>17640</td>\n",
              "      <td>120</td>\n",
              "      <td>Accounts</td>\n",
              "      <td>Chapter 14 Managerial Accounting</td>\n",
              "      <td>NaN</td>\n",
              "      <td>Here are some of the costs that your snowboard...</td>\n",
              "      <td>['Illinois', 'Wisconsin', 'State Of Illinois',...</td>\n",
              "      <td>Terrain</td>\n",
              "      <td>Here are some of the costs that your snowboard...</td>\n",
              "      <td>\\nTo improve your understanding of cost concep...</td>\n",
              "      <td>...</td>\n",
              "      <td>30</td>\n",
              "      <td>727</td>\n",
              "      <td>5</td>\n",
              "      <td>Accounts</td>\n",
              "      <td>-95.865196</td>\n",
              "      <td>21.499971</td>\n",
              "      <td>89</td>\n",
              "      <td>15</td>\n",
              "      <td>here are some of the costs that your snowboard...</td>\n",
              "      <td>[costs, snowboard, factory, terrain, park, boa...</td>\n",
              "    </tr>\n",
              "    <tr>\n",
              "      <th>4</th>\n",
              "      <td>28350</td>\n",
              "      <td>120</td>\n",
              "      <td>Accounts</td>\n",
              "      <td>Chapter 24 Standard Costs and Balanced Scorecard</td>\n",
              "      <td>NaN</td>\n",
              "      <td>What is a possible scenario that would provide...</td>\n",
              "      <td>['Computation Of Cost Of Delivery Truck', 'Whe...</td>\n",
              "      <td>Unfavorable</td>\n",
              "      <td>What is a possible scenario that would provide...</td>\n",
              "      <td>content not found</td>\n",
              "      <td>...</td>\n",
              "      <td>27</td>\n",
              "      <td>1586</td>\n",
              "      <td>13</td>\n",
              "      <td>Accounts</td>\n",
              "      <td>-202.478989</td>\n",
              "      <td>139.885666</td>\n",
              "      <td>135</td>\n",
              "      <td>22</td>\n",
              "      <td>what is a possible scenario that would provide...</td>\n",
              "      <td>[possible, scenario, would, provide, one, caus...</td>\n",
              "    </tr>\n",
              "    <tr>\n",
              "      <th>...</th>\n",
              "      <td>...</td>\n",
              "      <td>...</td>\n",
              "      <td>...</td>\n",
              "      <td>...</td>\n",
              "      <td>...</td>\n",
              "      <td>...</td>\n",
              "      <td>...</td>\n",
              "      <td>...</td>\n",
              "      <td>...</td>\n",
              "      <td>...</td>\n",
              "      <td>...</td>\n",
              "      <td>...</td>\n",
              "      <td>...</td>\n",
              "      <td>...</td>\n",
              "      <td>...</td>\n",
              "      <td>...</td>\n",
              "      <td>...</td>\n",
              "      <td>...</td>\n",
              "      <td>...</td>\n",
              "      <td>...</td>\n",
              "      <td>...</td>\n",
              "    </tr>\n",
              "    <tr>\n",
              "      <th>183</th>\n",
              "      <td>19960</td>\n",
              "      <td>120</td>\n",
              "      <td>Accounts</td>\n",
              "      <td>Chapter 16 Process Costing</td>\n",
              "      <td>NaN</td>\n",
              "      <td>Process Cost Flow Illustration 16.5 shows  ___...</td>\n",
              "      <td>['Accumulates', 'Assigned', 'Factory  Labor', ...</td>\n",
              "      <td>The Flow Of Costs</td>\n",
              "      <td>Process Cost Flow Illustration 16.5 shows the ...</td>\n",
              "      <td>content not found</td>\n",
              "      <td>...</td>\n",
              "      <td>26</td>\n",
              "      <td>1513</td>\n",
              "      <td>26</td>\n",
              "      <td>Accounts</td>\n",
              "      <td>-203.044037</td>\n",
              "      <td>170.223618</td>\n",
              "      <td>105</td>\n",
              "      <td>18</td>\n",
              "      <td>process cost flow illustration 165 shows the f...</td>\n",
              "      <td>[process, cost, flow, illustration, 165, shows...</td>\n",
              "    </tr>\n",
              "    <tr>\n",
              "      <th>184</th>\n",
              "      <td>67425</td>\n",
              "      <td>133</td>\n",
              "      <td>principle of life</td>\n",
              "      <td>Chapter 16 Speciation</td>\n",
              "      <td>NaN</td>\n",
              "      <td>Questions What examples of geographic events a...</td>\n",
              "      <td>['Speciation', 'Species', 'species concepts', ...</td>\n",
              "      <td>Species</td>\n",
              "      <td>Questions   What examples of geographic events...</td>\n",
              "      <td>content not found</td>\n",
              "      <td>...</td>\n",
              "      <td>32</td>\n",
              "      <td>439</td>\n",
              "      <td>106</td>\n",
              "      <td>principle of life</td>\n",
              "      <td>61.369808</td>\n",
              "      <td>-16.366976</td>\n",
              "      <td>150</td>\n",
              "      <td>21</td>\n",
              "      <td>questions   what examples of geographic events...</td>\n",
              "      <td>[questions, examples, geographic, events, like...</td>\n",
              "    </tr>\n",
              "    <tr>\n",
              "      <th>185</th>\n",
              "      <td>48547</td>\n",
              "      <td>121</td>\n",
              "      <td>Health and Human Development Units 3 and 4</td>\n",
              "      <td>c09 Sustainability And Human Development</td>\n",
              "      <td>NaN</td>\n",
              "      <td>What does it mean when the three dimensions of...</td>\n",
              "      <td>['Who Gives A Crap', 'Sourced', 'Sustainable D...</td>\n",
              "      <td>Sustainability</td>\n",
              "      <td>What does it mean when the three dimensions of...</td>\n",
              "      <td>\\nOutline the four factors that are important ...</td>\n",
              "      <td>...</td>\n",
              "      <td>7</td>\n",
              "      <td>237</td>\n",
              "      <td>73</td>\n",
              "      <td>Health and Human Development Units 3 and 4</td>\n",
              "      <td>105.412415</td>\n",
              "      <td>126.452812</td>\n",
              "      <td>90</td>\n",
              "      <td>15</td>\n",
              "      <td>what does it mean when the three dimensions of...</td>\n",
              "      <td>[mean, three, dimensions, sustainability, said...</td>\n",
              "    </tr>\n",
              "    <tr>\n",
              "      <th>186</th>\n",
              "      <td>52078</td>\n",
              "      <td>134</td>\n",
              "      <td>Hockenbury Psychology</td>\n",
              "      <td>Chapter 4 Consciousness and Its Variations</td>\n",
              "      <td>NaN</td>\n",
              "      <td>People who go without sleep for a day or more ...</td>\n",
              "      <td>['hypnagogic hallucinations', 'microsleeps', '...</td>\n",
              "      <td>Microsleeps</td>\n",
              "      <td>People who go without sleep for a day or more ...</td>\n",
              "      <td>content not found</td>\n",
              "      <td>...</td>\n",
              "      <td>41</td>\n",
              "      <td>130</td>\n",
              "      <td>128</td>\n",
              "      <td>Hockenbury Psychology</td>\n",
              "      <td>167.725967</td>\n",
              "      <td>-87.765175</td>\n",
              "      <td>165</td>\n",
              "      <td>27</td>\n",
              "      <td>people who go without sleep for a day or more ...</td>\n",
              "      <td>[people, go, without, sleep, day, also, experi...</td>\n",
              "    </tr>\n",
              "    <tr>\n",
              "      <th>187</th>\n",
              "      <td>14342</td>\n",
              "      <td>120</td>\n",
              "      <td>Accounts</td>\n",
              "      <td>Chapter 11: Reporting and Analyzing Stockholde...</td>\n",
              "      <td>NaN</td>\n",
              "      <td>What are the principal differences between com...</td>\n",
              "      <td>['False', 'Easy To Sell', 'Except', 'Disadvant...</td>\n",
              "      <td>Preferred Stock</td>\n",
              "      <td>What are the principal differences between com...</td>\n",
              "      <td>\\nNote: All asterisked Questions, Exercises, a...</td>\n",
              "      <td>...</td>\n",
              "      <td>12</td>\n",
              "      <td>1520</td>\n",
              "      <td>78</td>\n",
              "      <td>Accounts</td>\n",
              "      <td>-163.382446</td>\n",
              "      <td>152.223877</td>\n",
              "      <td>76</td>\n",
              "      <td>11</td>\n",
              "      <td>what are the principal differences between com...</td>\n",
              "      <td>[principal, differences, common, stock, prefer...</td>\n",
              "    </tr>\n",
              "  </tbody>\n",
              "</table>\n",
              "<p>188 rows × 30 columns</p>\n",
              "</div>\n",
              "      <button class=\"colab-df-convert\" onclick=\"convertToInteractive('df-e8643814-f33a-49ff-bd1f-d8f8fb7c68ad')\"\n",
              "              title=\"Convert this dataframe to an interactive table.\"\n",
              "              style=\"display:none;\">\n",
              "        \n",
              "  <svg xmlns=\"http://www.w3.org/2000/svg\" height=\"24px\"viewBox=\"0 0 24 24\"\n",
              "       width=\"24px\">\n",
              "    <path d=\"M0 0h24v24H0V0z\" fill=\"none\"/>\n",
              "    <path d=\"M18.56 5.44l.94 2.06.94-2.06 2.06-.94-2.06-.94-.94-2.06-.94 2.06-2.06.94zm-11 1L8.5 8.5l.94-2.06 2.06-.94-2.06-.94L8.5 2.5l-.94 2.06-2.06.94zm10 10l.94 2.06.94-2.06 2.06-.94-2.06-.94-.94-2.06-.94 2.06-2.06.94z\"/><path d=\"M17.41 7.96l-1.37-1.37c-.4-.4-.92-.59-1.43-.59-.52 0-1.04.2-1.43.59L10.3 9.45l-7.72 7.72c-.78.78-.78 2.05 0 2.83L4 21.41c.39.39.9.59 1.41.59.51 0 1.02-.2 1.41-.59l7.78-7.78 2.81-2.81c.8-.78.8-2.07 0-2.86zM5.41 20L4 18.59l7.72-7.72 1.47 1.35L5.41 20z\"/>\n",
              "  </svg>\n",
              "      </button>\n",
              "      \n",
              "  <style>\n",
              "    .colab-df-container {\n",
              "      display:flex;\n",
              "      flex-wrap:wrap;\n",
              "      gap: 12px;\n",
              "    }\n",
              "\n",
              "    .colab-df-convert {\n",
              "      background-color: #E8F0FE;\n",
              "      border: none;\n",
              "      border-radius: 50%;\n",
              "      cursor: pointer;\n",
              "      display: none;\n",
              "      fill: #1967D2;\n",
              "      height: 32px;\n",
              "      padding: 0 0 0 0;\n",
              "      width: 32px;\n",
              "    }\n",
              "\n",
              "    .colab-df-convert:hover {\n",
              "      background-color: #E2EBFA;\n",
              "      box-shadow: 0px 1px 2px rgba(60, 64, 67, 0.3), 0px 1px 3px 1px rgba(60, 64, 67, 0.15);\n",
              "      fill: #174EA6;\n",
              "    }\n",
              "\n",
              "    [theme=dark] .colab-df-convert {\n",
              "      background-color: #3B4455;\n",
              "      fill: #D2E3FC;\n",
              "    }\n",
              "\n",
              "    [theme=dark] .colab-df-convert:hover {\n",
              "      background-color: #434B5C;\n",
              "      box-shadow: 0px 1px 3px 1px rgba(0, 0, 0, 0.15);\n",
              "      filter: drop-shadow(0px 1px 2px rgba(0, 0, 0, 0.3));\n",
              "      fill: #FFFFFF;\n",
              "    }\n",
              "  </style>\n",
              "\n",
              "      <script>\n",
              "        const buttonEl =\n",
              "          document.querySelector('#df-e8643814-f33a-49ff-bd1f-d8f8fb7c68ad button.colab-df-convert');\n",
              "        buttonEl.style.display =\n",
              "          google.colab.kernel.accessAllowed ? 'block' : 'none';\n",
              "\n",
              "        async function convertToInteractive(key) {\n",
              "          const element = document.querySelector('#df-e8643814-f33a-49ff-bd1f-d8f8fb7c68ad');\n",
              "          const dataTable =\n",
              "            await google.colab.kernel.invokeFunction('convertToInteractive',\n",
              "                                                     [key], {});\n",
              "          if (!dataTable) return;\n",
              "\n",
              "          const docLinkHtml = 'Like what you see? Visit the ' +\n",
              "            '<a target=\"_blank\" href=https://colab.research.google.com/notebooks/data_table.ipynb>data table notebook</a>'\n",
              "            + ' to learn more about interactive tables.';\n",
              "          element.innerHTML = '';\n",
              "          dataTable['output_type'] = 'display_data';\n",
              "          await google.colab.output.renderOutput(dataTable, element);\n",
              "          const docLink = document.createElement('div');\n",
              "          docLink.innerHTML = docLinkHtml;\n",
              "          element.appendChild(docLink);\n",
              "        }\n",
              "      </script>\n",
              "    </div>\n",
              "  </div>\n",
              "  "
            ]
          },
          "metadata": {},
          "execution_count": 90
        }
      ]
    },
    {
      "cell_type": "code",
      "source": [
        "#df.drop('Unnamed: 0', axis=1, inplace=True)\n",
        "\n",
        "df_false = df_false[~df_false['line'].isnull()]\n",
        "\n",
        "def preprocess(ReviewText):\n",
        "    ReviewText = ReviewText.str.replace(\"(<br/>)\", \"\", regex=True)\n",
        "    ReviewText = ReviewText.str.replace('(<a).*(>).*(</a>)', '',regex=True)\n",
        "    ReviewText = ReviewText.str.replace('(&amp)', '',regex=True)\n",
        "    ReviewText = ReviewText.str.replace('(&gt)', '',regex=True)\n",
        "    ReviewText = ReviewText.str.replace('(&lt)', '',regex=True)\n",
        "    ReviewText = ReviewText.str.replace('(\\xa0)', ' ',regex=True)  \n",
        "    return ReviewText\n",
        "df_false['line'] = preprocess(df_false['line'])\n",
        "\n",
        "df_false['line_len'] = df_false['line'].astype(str).apply(len)\n",
        "df_false['word_count'] = df_false['line'].apply(lambda x: len(str(x).split()))"
      ],
      "metadata": {
        "id": "QYQNtkidHAhQ"
      },
      "execution_count": null,
      "outputs": []
    },
    {
      "cell_type": "code",
      "source": [
        "# The distribution text lengths\n",
        "plt.hist(df_false.line_len,bins=50)"
      ],
      "metadata": {
        "colab": {
          "base_uri": "https://localhost:8080/"
        },
        "id": "VKS9X3LWHLRf",
        "outputId": "55adcea4-596e-4817-9b05-d17ecae47d33"
      },
      "execution_count": null,
      "outputs": [
        {
          "output_type": "execute_result",
          "data": {
            "text/plain": [
              "(array([ 6.,  6.,  4.,  7.,  5., 10., 17.,  8., 14.,  6., 10.,  6.,  5.,\n",
              "        13.,  4.,  7.,  9.,  7.,  9.,  3.,  6.,  5.,  5.,  3.,  0.,  2.,\n",
              "         4.,  0.,  0.,  1.,  0.,  2.,  0.,  1.,  1.,  0.,  0.,  0.,  1.,\n",
              "         0.,  0.,  0.,  0.,  0.,  0.,  0.,  0.,  0.,  0.,  1.]),\n",
              " array([ 40.  ,  48.04,  56.08,  64.12,  72.16,  80.2 ,  88.24,  96.28,\n",
              "        104.32, 112.36, 120.4 , 128.44, 136.48, 144.52, 152.56, 160.6 ,\n",
              "        168.64, 176.68, 184.72, 192.76, 200.8 , 208.84, 216.88, 224.92,\n",
              "        232.96, 241.  , 249.04, 257.08, 265.12, 273.16, 281.2 , 289.24,\n",
              "        297.28, 305.32, 313.36, 321.4 , 329.44, 337.48, 345.52, 353.56,\n",
              "        361.6 , 369.64, 377.68, 385.72, 393.76, 401.8 , 409.84, 417.88,\n",
              "        425.92, 433.96, 442.  ]),\n",
              " <a list of 50 Patch objects>)"
            ]
          },
          "metadata": {},
          "execution_count": 92
        },
        {
          "output_type": "display_data",
          "data": {
            "text/plain": [
              "<Figure size 864x576 with 1 Axes>"
            ],
            "image/png": "[encoded data removed]"
          },
          "metadata": {}
        }
      ]
    },
    {
      "cell_type": "code",
      "source": [
        "# The distribution of word count\n",
        "sns.displot(df_false, x=\"word_count\").set(title='word count distribution')"
      ],
      "metadata": {
        "colab": {
          "base_uri": "https://localhost:8080/"
        },
        "id": "nyNO7GrZHPQ1",
        "outputId": "dfe8eccf-105e-4d9a-93eb-d5265de880ba"
      },
      "execution_count": null,
      "outputs": [
        {
          "output_type": "execute_result",
          "data": {
            "text/plain": [
              "<seaborn.axisgrid.FacetGrid at 0x7f7e8a01f510>"
            ]
          },
          "metadata": {},
          "execution_count": 93
        },
        {
          "output_type": "display_data",
          "data": {
            "text/plain": [
              "<Figure size 360x360 with 1 Axes>"
            ],
            "image/png": "[encoded data removed]"
          },
          "metadata": {}
        }
      ]
    },
    {
      "cell_type": "markdown",
      "source": [
        "#SME common words - true\n"
      ],
      "metadata": {
        "id": "4IpGkp3PHWUb"
      }
    },
    {
      "cell_type": "code",
      "source": [
        "# remove punctuation\n",
        "def remove_punc(text):\n",
        "    for punctuation in string.punctuation:\n",
        "        text = text.replace(punctuation, '')\n",
        "    return text\n",
        "\n",
        "df_true['cleanedLine'] = df_true['line'].apply(remove_punc)"
      ],
      "metadata": {
        "id": "d7GJHLxxHZpK"
      },
      "execution_count": null,
      "outputs": []
    },
    {
      "cell_type": "code",
      "source": [
        "# further pre-processing\n",
        "def preprocess(text):\n",
        "    text = text.str.replace('(&amp)', '',regex=True)\n",
        "    text = text.str.replace('(&gt)', '',regex=True)    \n",
        "    text = text.str.replace(\"(<br/>)\", \"\",regex=True)\n",
        "    text = text.str.replace('(<a).*(>).*(</a>)', '',regex=True)\n",
        "    text = text.str.replace('(&lt)', '', regex=True)\n",
        "    text = text.str.replace('(\\xa0)', ' ', regex=True)  \n",
        "    return text\n",
        "\n",
        "\n",
        "df_true['cleanedLine'] = preprocess(df_true['cleanedLine'])"
      ],
      "metadata": {
        "id": "ygMup1ZbH5Gp"
      },
      "execution_count": null,
      "outputs": []
    },
    {
      "cell_type": "code",
      "source": [
        "# lower case\n",
        "df_true['cleanedLine'] = df_true['cleanedLine'].apply(lambda x:str(x).lower())"
      ],
      "metadata": {
        "id": "exjnOvv_H70f"
      },
      "execution_count": null,
      "outputs": []
    },
    {
      "cell_type": "code",
      "source": [
        "# create corpus of stopwords\n",
        "corpus=[]\n",
        "line = df_true['cleanedLine'].str.split()\n",
        "line = line.values.tolist()\n",
        "corpus=[word for i in line for word in i]\n",
        "\n",
        "from collections import defaultdict\n",
        "dic = defaultdict(int)\n",
        "for word in corpus:\n",
        "    if word in stop:\n",
        "        dic[word]+=1"
      ],
      "metadata": {
        "id": "bbAx58UrH_g2"
      },
      "execution_count": null,
      "outputs": []
    },
    {
      "cell_type": "code",
      "source": [
        "# split into tokens\n",
        "df_true['processedLine'] =df_true['cleanedLine'].apply(lambda x:word_tokenize(x))"
      ],
      "metadata": {
        "id": "JsylbCsCIDRM"
      },
      "execution_count": null,
      "outputs": []
    },
    {
      "cell_type": "code",
      "source": [
        "# remove stopwords\n",
        "def remove_stopword(context):\n",
        "    return [word for word in context if word not in stopwords.words('english')]\n",
        "\n",
        "df_true['processedLine'] = df_true['processedLine'].apply(lambda x:remove_stopword(x))"
      ],
      "metadata": {
        "id": "RvX88CTnIF6M"
      },
      "execution_count": null,
      "outputs": []
    },
    {
      "cell_type": "code",
      "source": [
        "# inspect words with top occurency AFTER removing stopwords\n",
        "\n",
        "top = Counter([item for sublist in df_true['processedLine'] for item in sublist])\n",
        "top_temp = pd.DataFrame(top.most_common(20))\n",
        "top_temp.columns = ['top_words','count']\n",
        "top_temp.style.background_gradient(cmap='crest')"
      ],
      "metadata": {
        "colab": {
          "base_uri": "https://localhost:8080/"
        },
        "id": "ofrfa20PIJVh",
        "outputId": "72e2870d-598d-415e-daea-adad87a29768"
      },
      "execution_count": null,
      "outputs": [
        {
          "output_type": "execute_result",
          "data": {
            "text/plain": [
              "<pandas.io.formats.style.Styler at 0x7f7e89dfa090>"
            ],
            "text/html": [
              "<style type=\"text/css\">\n",
              "#T_3a3a6_row0_col1 {\n",
              "  background-color: #2c3172;\n",
              "  color: #f1f1f1;\n",
              "}\n",
              "#T_3a3a6_row1_col1 {\n",
              "  background-color: #215584;\n",
              "  color: #f1f1f1;\n",
              "}\n",
              "#T_3a3a6_row2_col1, #T_3a3a6_row3_col1 {\n",
              "  background-color: #44948f;\n",
              "  color: #f1f1f1;\n",
              "}\n",
              "#T_3a3a6_row4_col1, #T_3a3a6_row5_col1, #T_3a3a6_row6_col1 {\n",
              "  background-color: #6db290;\n",
              "  color: #f1f1f1;\n",
              "}\n",
              "#T_3a3a6_row7_col1, #T_3a3a6_row8_col1, #T_3a3a6_row9_col1, #T_3a3a6_row10_col1, #T_3a3a6_row11_col1, #T_3a3a6_row12_col1, #T_3a3a6_row13_col1, #T_3a3a6_row14_col1, #T_3a3a6_row15_col1, #T_3a3a6_row16_col1, #T_3a3a6_row17_col1, #T_3a3a6_row18_col1, #T_3a3a6_row19_col1 {\n",
              "  background-color: #a5cd90;\n",
              "  color: #000000;\n",
              "}\n",
              "</style>\n",
              "<table id=\"T_3a3a6_\" class=\"dataframe\">\n",
              "  <thead>\n",
              "    <tr>\n",
              "      <th class=\"blank level0\" >&nbsp;</th>\n",
              "      <th class=\"col_heading level0 col0\" >top_words</th>\n",
              "      <th class=\"col_heading level0 col1\" >count</th>\n",
              "    </tr>\n",
              "  </thead>\n",
              "  <tbody>\n",
              "    <tr>\n",
              "      <th id=\"T_3a3a6_level0_row0\" class=\"row_heading level0 row0\" >0</th>\n",
              "      <td id=\"T_3a3a6_row0_col0\" class=\"data row0 col0\" >’</td>\n",
              "      <td id=\"T_3a3a6_row0_col1\" class=\"data row0 col1\" >7</td>\n",
              "    </tr>\n",
              "    <tr>\n",
              "      <th id=\"T_3a3a6_level0_row1\" class=\"row_heading level0 row1\" >1</th>\n",
              "      <td id=\"T_3a3a6_row1_col0\" class=\"data row1 col0\" >species</td>\n",
              "      <td id=\"T_3a3a6_row1_col1\" class=\"data row1 col1\" >6</td>\n",
              "    </tr>\n",
              "    <tr>\n",
              "      <th id=\"T_3a3a6_level0_row2\" class=\"row_heading level0 row2\" >2</th>\n",
              "      <td id=\"T_3a3a6_row2_col0\" class=\"data row2 col0\" >cell</td>\n",
              "      <td id=\"T_3a3a6_row2_col1\" class=\"data row2 col1\" >4</td>\n",
              "    </tr>\n",
              "    <tr>\n",
              "      <th id=\"T_3a3a6_level0_row3\" class=\"row_heading level0 row3\" >3</th>\n",
              "      <td id=\"T_3a3a6_row3_col0\" class=\"data row3 col0\" >figure</td>\n",
              "      <td id=\"T_3a3a6_row3_col1\" class=\"data row3 col1\" >4</td>\n",
              "    </tr>\n",
              "    <tr>\n",
              "      <th id=\"T_3a3a6_level0_row4\" class=\"row_heading level0 row4\" >4</th>\n",
              "      <td id=\"T_3a3a6_row4_col0\" class=\"data row4 col0\" >human</td>\n",
              "      <td id=\"T_3a3a6_row4_col1\" class=\"data row4 col1\" >3</td>\n",
              "    </tr>\n",
              "    <tr>\n",
              "      <th id=\"T_3a3a6_level0_row5\" class=\"row_heading level0 row5\" >5</th>\n",
              "      <td id=\"T_3a3a6_row5_col0\" class=\"data row5 col0\" >principles</td>\n",
              "      <td id=\"T_3a3a6_row5_col1\" class=\"data row5 col1\" >3</td>\n",
              "    </tr>\n",
              "    <tr>\n",
              "      <th id=\"T_3a3a6_level0_row6\" class=\"row_heading level0 row6\" >6</th>\n",
              "      <td id=\"T_3a3a6_row6_col0\" class=\"data row6 col0\" >development</td>\n",
              "      <td id=\"T_3a3a6_row6_col1\" class=\"data row6 col1\" >3</td>\n",
              "    </tr>\n",
              "    <tr>\n",
              "      <th id=\"T_3a3a6_level0_row7\" class=\"row_heading level0 row7\" >7</th>\n",
              "      <td id=\"T_3a3a6_row7_col0\" class=\"data row7 col0\" >exposure</td>\n",
              "      <td id=\"T_3a3a6_row7_col1\" class=\"data row7 col1\" >2</td>\n",
              "    </tr>\n",
              "    <tr>\n",
              "      <th id=\"T_3a3a6_level0_row8\" class=\"row_heading level0 row8\" >8</th>\n",
              "      <td id=\"T_3a3a6_row8_col0\" class=\"data row8 col0\" >learning</td>\n",
              "      <td id=\"T_3a3a6_row8_col1\" class=\"data row8 col1\" >2</td>\n",
              "    </tr>\n",
              "    <tr>\n",
              "      <th id=\"T_3a3a6_level0_row9\" class=\"row_heading level0 row9\" >9</th>\n",
              "      <td id=\"T_3a3a6_row9_col0\" class=\"data row9 col0\" >may</td>\n",
              "      <td id=\"T_3a3a6_row9_col1\" class=\"data row9 col1\" >2</td>\n",
              "    </tr>\n",
              "    <tr>\n",
              "      <th id=\"T_3a3a6_level0_row10\" class=\"row_heading level0 row10\" >10</th>\n",
              "      <td id=\"T_3a3a6_row10_col0\" class=\"data row10 col0\" >known</td>\n",
              "      <td id=\"T_3a3a6_row10_col1\" class=\"data row10 col1\" >2</td>\n",
              "    </tr>\n",
              "    <tr>\n",
              "      <th id=\"T_3a3a6_level0_row11\" class=\"row_heading level0 row11\" >11</th>\n",
              "      <td id=\"T_3a3a6_row11_col0\" class=\"data row11 col0\" >increase</td>\n",
              "      <td id=\"T_3a3a6_row11_col1\" class=\"data row11 col1\" >2</td>\n",
              "    </tr>\n",
              "    <tr>\n",
              "      <th id=\"T_3a3a6_level0_row12\" class=\"row_heading level0 row12\" >12</th>\n",
              "      <td id=\"T_3a3a6_row12_col0\" class=\"data row12 col0\" >control</td>\n",
              "      <td id=\"T_3a3a6_row12_col1\" class=\"data row12 col1\" >2</td>\n",
              "    </tr>\n",
              "    <tr>\n",
              "      <th id=\"T_3a3a6_level0_row13\" class=\"row_heading level0 row13\" >13</th>\n",
              "      <td id=\"T_3a3a6_row13_col0\" class=\"data row13 col0\" >annual</td>\n",
              "      <td id=\"T_3a3a6_row13_col1\" class=\"data row13 col1\" >2</td>\n",
              "    </tr>\n",
              "    <tr>\n",
              "      <th id=\"T_3a3a6_level0_row14\" class=\"row_heading level0 row14\" >14</th>\n",
              "      <td id=\"T_3a3a6_row14_col0\" class=\"data row14 col0\" >rhythms</td>\n",
              "      <td id=\"T_3a3a6_row14_col1\" class=\"data row14 col1\" >2</td>\n",
              "    </tr>\n",
              "    <tr>\n",
              "      <th id=\"T_3a3a6_level0_row15\" class=\"row_heading level0 row15\" >15</th>\n",
              "      <td id=\"T_3a3a6_row15_col0\" class=\"data row15 col0\" >approach</td>\n",
              "      <td id=\"T_3a3a6_row15_col1\" class=\"data row15 col1\" >2</td>\n",
              "    </tr>\n",
              "    <tr>\n",
              "      <th id=\"T_3a3a6_level0_row16\" class=\"row_heading level0 row16\" >16</th>\n",
              "      <td id=\"T_3a3a6_row16_col0\" class=\"data row16 col0\" >resource</td>\n",
              "      <td id=\"T_3a3a6_row16_col1\" class=\"data row16 col1\" >2</td>\n",
              "    </tr>\n",
              "    <tr>\n",
              "      <th id=\"T_3a3a6_level0_row17\" class=\"row_heading level0 row17\" >17</th>\n",
              "      <td id=\"T_3a3a6_row17_col0\" class=\"data row17 col0\" >business</td>\n",
              "      <td id=\"T_3a3a6_row17_col1\" class=\"data row17 col1\" >2</td>\n",
              "    </tr>\n",
              "    <tr>\n",
              "      <th id=\"T_3a3a6_level0_row18\" class=\"row_heading level0 row18\" >18</th>\n",
              "      <td id=\"T_3a3a6_row18_col0\" class=\"data row18 col0\" >uses</td>\n",
              "      <td id=\"T_3a3a6_row18_col1\" class=\"data row18 col1\" >2</td>\n",
              "    </tr>\n",
              "    <tr>\n",
              "      <th id=\"T_3a3a6_level0_row19\" class=\"row_heading level0 row19\" >19</th>\n",
              "      <td id=\"T_3a3a6_row19_col0\" class=\"data row19 col0\" >measurement</td>\n",
              "      <td id=\"T_3a3a6_row19_col1\" class=\"data row19 col1\" >2</td>\n",
              "    </tr>\n",
              "  </tbody>\n",
              "</table>\n"
            ]
          },
          "metadata": {},
          "execution_count": 100
        }
      ]
    },
    {
      "cell_type": "code",
      "source": [
        "# plot top trigrams\n",
        "\n",
        "rcParams['figure.figsize'] = 12,8\n",
        "top_trigram = plot_top_ngrams(df_true['cleanedLine'],3)\n",
        "\n",
        "def show_value_on_bars(top_trigram, space=0.4):\n",
        "        for p in ax.patches:\n",
        "            _x = p.get_x() + p.get_width() + float(space)\n",
        "            _y = p.get_y() + p.get_height() / 1.4\n",
        "            value = int(p.get_width())\n",
        "            ax.text(_x, _y, value, ha=\"center\")\n",
        "\n",
        "show_value_on_bars(ax, 0.4)\n",
        "\n",
        "plt.xlabel('Count', size=12)\n",
        "plt.ylabel('Top Trigrams', size = 12)\n",
        "plt.title('Most Frequent Trigrams Among Question \\n', size=16)"
      ],
      "metadata": {
        "colab": {
          "base_uri": "https://localhost:8080/"
        },
        "id": "Qja0OQfMIguM",
        "outputId": "332f5fb0-0a82-4647-8eb0-eb2c34ce4741"
      },
      "execution_count": null,
      "outputs": [
        {
          "output_type": "execute_result",
          "data": {
            "text/plain": [
              "Text(0.5, 1.0, 'Most Frequent Trigrams Among Question \\n')"
            ]
          },
          "metadata": {},
          "execution_count": 101
        },
        {
          "output_type": "display_data",
          "data": {
            "text/plain": [
              "<Figure size 864x576 with 1 Axes>"
            ],
            "image/png": "[encoded data removed]"
          },
          "metadata": {}
        }
      ]
    },
    {
      "cell_type": "markdown",
      "source": [
        "# SME common words - false"
      ],
      "metadata": {
        "id": "kXXpOeyGI7Kj"
      }
    },
    {
      "cell_type": "code",
      "source": [
        "# remove punctuation\n",
        "def remove_punc(text):\n",
        "    for punctuation in string.punctuation:\n",
        "        text = text.replace(punctuation, '')\n",
        "    return text\n",
        "\n",
        "df_false['cleanedLine'] = df_false['line'].apply(remove_punc)"
      ],
      "metadata": {
        "id": "b9_LiPmPI-p0"
      },
      "execution_count": null,
      "outputs": []
    },
    {
      "cell_type": "code",
      "source": [
        "# further pre-processing\n",
        "def preprocess(text):\n",
        "    text = text.str.replace('(&amp)', '',regex=True)\n",
        "    text = text.str.replace('(&gt)', '',regex=True)    \n",
        "    text = text.str.replace(\"(<br/>)\", \"\",regex=True)\n",
        "    text = text.str.replace('(<a).*(>).*(</a>)', '',regex=True)\n",
        "    text = text.str.replace('(&lt)', '', regex=True)\n",
        "    text = text.str.replace('(\\xa0)', ' ', regex=True)  \n",
        "    return text\n",
        "\n",
        "\n",
        "df_false['cleanedLine'] = preprocess(df_false['cleanedLine'])"
      ],
      "metadata": {
        "id": "n-uxv_8NI-p0"
      },
      "execution_count": null,
      "outputs": []
    },
    {
      "cell_type": "code",
      "source": [
        "# lower case\n",
        "df_false['cleanedLine'] = df_false['cleanedLine'].apply(lambda x:str(x).lower())"
      ],
      "metadata": {
        "id": "JQn-GvZ7I-p1"
      },
      "execution_count": null,
      "outputs": []
    },
    {
      "cell_type": "code",
      "source": [
        "# create corpus of stopwords\n",
        "corpus=[]\n",
        "line = df_false['cleanedLine'].str.split()\n",
        "line = line.values.tolist()\n",
        "corpus=[word for i in line for word in i]\n",
        "\n",
        "from collections import defaultdict\n",
        "dic = defaultdict(int)\n",
        "for word in corpus:\n",
        "    if word in stop:\n",
        "        dic[word]+=1"
      ],
      "metadata": {
        "id": "6hEpviFvI-p1"
      },
      "execution_count": null,
      "outputs": []
    },
    {
      "cell_type": "code",
      "source": [
        "# split into tokens\n",
        "df_false['processedLine'] =df_false['cleanedLine'].apply(lambda x:word_tokenize(x))"
      ],
      "metadata": {
        "id": "ERAYHhrAI-p1"
      },
      "execution_count": null,
      "outputs": []
    },
    {
      "cell_type": "code",
      "source": [
        "# remove stopwords\n",
        "def remove_stopword(context):\n",
        "    return [word for word in context if word not in stopwords.words('english')]\n",
        "\n",
        "df_false['processedLine'] = df_false['processedLine'].apply(lambda x:remove_stopword(x))"
      ],
      "metadata": {
        "id": "doLqZ73uI-p1"
      },
      "execution_count": null,
      "outputs": []
    },
    {
      "cell_type": "code",
      "source": [
        "# inspect words with top occurency AFTER removing stopwords\n",
        "\n",
        "top = Counter([item for sublist in df_false['processedLine'] for item in sublist])\n",
        "top_temp = pd.DataFrame(top.most_common(20))\n",
        "top_temp.columns = ['top_words','count']\n",
        "top_temp.style.background_gradient(cmap='crest')"
      ],
      "metadata": {
        "colab": {
          "base_uri": "https://localhost:8080/"
        },
        "outputId": "b70c2025-41bf-4fc1-ca79-3fae0cb652e0",
        "id": "xVx1DnvhI-p2"
      },
      "execution_count": null,
      "outputs": [
        {
          "output_type": "execute_result",
          "data": {
            "text/plain": [
              "<pandas.io.formats.style.Styler at 0x7f7e89dfb4d0>"
            ],
            "text/html": [
              "<style type=\"text/css\">\n",
              "#T_e15c8_row0_col1 {\n",
              "  background-color: #2c3172;\n",
              "  color: #f1f1f1;\n",
              "}\n",
              "#T_e15c8_row1_col1 {\n",
              "  background-color: #46968f;\n",
              "  color: #f1f1f1;\n",
              "}\n",
              "#T_e15c8_row2_col1 {\n",
              "  background-color: #5ba690;\n",
              "  color: #f1f1f1;\n",
              "}\n",
              "#T_e15c8_row3_col1, #T_e15c8_row4_col1 {\n",
              "  background-color: #68af90;\n",
              "  color: #f1f1f1;\n",
              "}\n",
              "#T_e15c8_row5_col1, #T_e15c8_row6_col1, #T_e15c8_row7_col1, #T_e15c8_row8_col1, #T_e15c8_row9_col1 {\n",
              "  background-color: #86be91;\n",
              "  color: #000000;\n",
              "}\n",
              "#T_e15c8_row10_col1, #T_e15c8_row11_col1, #T_e15c8_row12_col1, #T_e15c8_row13_col1, #T_e15c8_row14_col1 {\n",
              "  background-color: #95c591;\n",
              "  color: #000000;\n",
              "}\n",
              "#T_e15c8_row15_col1, #T_e15c8_row16_col1, #T_e15c8_row17_col1, #T_e15c8_row18_col1, #T_e15c8_row19_col1 {\n",
              "  background-color: #a5cd90;\n",
              "  color: #000000;\n",
              "}\n",
              "</style>\n",
              "<table id=\"T_e15c8_\" class=\"dataframe\">\n",
              "  <thead>\n",
              "    <tr>\n",
              "      <th class=\"blank level0\" >&nbsp;</th>\n",
              "      <th class=\"col_heading level0 col0\" >top_words</th>\n",
              "      <th class=\"col_heading level0 col1\" >count</th>\n",
              "    </tr>\n",
              "  </thead>\n",
              "  <tbody>\n",
              "    <tr>\n",
              "      <th id=\"T_e15c8_level0_row0\" class=\"row_heading level0 row0\" >0</th>\n",
              "      <td id=\"T_e15c8_row0_col0\" class=\"data row0 col0\" >cash</td>\n",
              "      <td id=\"T_e15c8_row0_col1\" class=\"data row0 col1\" >26</td>\n",
              "    </tr>\n",
              "    <tr>\n",
              "      <th id=\"T_e15c8_level0_row1\" class=\"row_heading level0 row1\" >1</th>\n",
              "      <td id=\"T_e15c8_row1_col0\" class=\"data row1 col0\" >figure</td>\n",
              "      <td id=\"T_e15c8_row1_col1\" class=\"data row1 col1\" >15</td>\n",
              "    </tr>\n",
              "    <tr>\n",
              "      <th id=\"T_e15c8_level0_row2\" class=\"row_heading level0 row2\" >2</th>\n",
              "      <td id=\"T_e15c8_row2_col0\" class=\"data row2 col0\" >cost</td>\n",
              "      <td id=\"T_e15c8_row2_col1\" class=\"data row2 col1\" >13</td>\n",
              "    </tr>\n",
              "    <tr>\n",
              "      <th id=\"T_e15c8_level0_row3\" class=\"row_heading level0 row3\" >3</th>\n",
              "      <td id=\"T_e15c8_row3_col0\" class=\"data row3 col0\" >costs</td>\n",
              "      <td id=\"T_e15c8_row3_col1\" class=\"data row3 col1\" >12</td>\n",
              "    </tr>\n",
              "    <tr>\n",
              "      <th id=\"T_e15c8_level0_row4\" class=\"row_heading level0 row4\" >4</th>\n",
              "      <td id=\"T_e15c8_row4_col0\" class=\"data row4 col0\" >accounts</td>\n",
              "      <td id=\"T_e15c8_row4_col1\" class=\"data row4 col1\" >12</td>\n",
              "    </tr>\n",
              "    <tr>\n",
              "      <th id=\"T_e15c8_level0_row5\" class=\"row_heading level0 row5\" >5</th>\n",
              "      <td id=\"T_e15c8_row5_col0\" class=\"data row5 col0\" >expense</td>\n",
              "      <td id=\"T_e15c8_row5_col1\" class=\"data row5 col1\" >10</td>\n",
              "    </tr>\n",
              "    <tr>\n",
              "      <th id=\"T_e15c8_level0_row6\" class=\"row_heading level0 row6\" >6</th>\n",
              "      <td id=\"T_e15c8_row6_col0\" class=\"data row6 col0\" >two</td>\n",
              "      <td id=\"T_e15c8_row6_col1\" class=\"data row6 col1\" >10</td>\n",
              "    </tr>\n",
              "    <tr>\n",
              "      <th id=\"T_e15c8_level0_row7\" class=\"row_heading level0 row7\" >7</th>\n",
              "      <td id=\"T_e15c8_row7_col0\" class=\"data row7 col0\" >income</td>\n",
              "      <td id=\"T_e15c8_row7_col1\" class=\"data row7 col1\" >10</td>\n",
              "    </tr>\n",
              "    <tr>\n",
              "      <th id=\"T_e15c8_level0_row8\" class=\"row_heading level0 row8\" >8</th>\n",
              "      <td id=\"T_e15c8_row8_col0\" class=\"data row8 col0\" >system</td>\n",
              "      <td id=\"T_e15c8_row8_col1\" class=\"data row8 col1\" >10</td>\n",
              "    </tr>\n",
              "    <tr>\n",
              "      <th id=\"T_e15c8_level0_row9\" class=\"row_heading level0 row9\" >9</th>\n",
              "      <td id=\"T_e15c8_row9_col0\" class=\"data row9 col0\" >2</td>\n",
              "      <td id=\"T_e15c8_row9_col1\" class=\"data row9 col1\" >10</td>\n",
              "    </tr>\n",
              "    <tr>\n",
              "      <th id=\"T_e15c8_level0_row10\" class=\"row_heading level0 row10\" >10</th>\n",
              "      <td id=\"T_e15c8_row10_col0\" class=\"data row10 col0\" >1</td>\n",
              "      <td id=\"T_e15c8_row10_col1\" class=\"data row10 col1\" >9</td>\n",
              "    </tr>\n",
              "    <tr>\n",
              "      <th id=\"T_e15c8_level0_row11\" class=\"row_heading level0 row11\" >11</th>\n",
              "      <td id=\"T_e15c8_row11_col0\" class=\"data row11 col0\" >following</td>\n",
              "      <td id=\"T_e15c8_row11_col1\" class=\"data row11 col1\" >9</td>\n",
              "    </tr>\n",
              "    <tr>\n",
              "      <th id=\"T_e15c8_level0_row12\" class=\"row_heading level0 row12\" >12</th>\n",
              "      <td id=\"T_e15c8_row12_col0\" class=\"data row12 col0\" >process</td>\n",
              "      <td id=\"T_e15c8_row12_col1\" class=\"data row12 col1\" >9</td>\n",
              "    </tr>\n",
              "    <tr>\n",
              "      <th id=\"T_e15c8_level0_row13\" class=\"row_heading level0 row13\" >13</th>\n",
              "      <td id=\"T_e15c8_row13_col0\" class=\"data row13 col0\" >illustration</td>\n",
              "      <td id=\"T_e15c8_row13_col1\" class=\"data row13 col1\" >9</td>\n",
              "    </tr>\n",
              "    <tr>\n",
              "      <th id=\"T_e15c8_level0_row14\" class=\"row_heading level0 row14\" >14</th>\n",
              "      <td id=\"T_e15c8_row14_col0\" class=\"data row14 col0\" >company</td>\n",
              "      <td id=\"T_e15c8_row14_col1\" class=\"data row14 col1\" >9</td>\n",
              "    </tr>\n",
              "    <tr>\n",
              "      <th id=\"T_e15c8_level0_row15\" class=\"row_heading level0 row15\" >15</th>\n",
              "      <td id=\"T_e15c8_row15_col0\" class=\"data row15 col0\" >3</td>\n",
              "      <td id=\"T_e15c8_row15_col1\" class=\"data row15 col1\" >8</td>\n",
              "    </tr>\n",
              "    <tr>\n",
              "      <th id=\"T_e15c8_level0_row16\" class=\"row_heading level0 row16\" >16</th>\n",
              "      <td id=\"T_e15c8_row16_col0\" class=\"data row16 col0\" >different</td>\n",
              "      <td id=\"T_e15c8_row16_col1\" class=\"data row16 col1\" >8</td>\n",
              "    </tr>\n",
              "    <tr>\n",
              "      <th id=\"T_e15c8_level0_row17\" class=\"row_heading level0 row17\" >17</th>\n",
              "      <td id=\"T_e15c8_row17_col0\" class=\"data row17 col0\" >cells</td>\n",
              "      <td id=\"T_e15c8_row17_col1\" class=\"data row17 col1\" >8</td>\n",
              "    </tr>\n",
              "    <tr>\n",
              "      <th id=\"T_e15c8_level0_row18\" class=\"row_heading level0 row18\" >18</th>\n",
              "      <td id=\"T_e15c8_row18_col0\" class=\"data row18 col0\" >also</td>\n",
              "      <td id=\"T_e15c8_row18_col1\" class=\"data row18 col1\" >8</td>\n",
              "    </tr>\n",
              "    <tr>\n",
              "      <th id=\"T_e15c8_level0_row19\" class=\"row_heading level0 row19\" >19</th>\n",
              "      <td id=\"T_e15c8_row19_col0\" class=\"data row19 col0\" >stock</td>\n",
              "      <td id=\"T_e15c8_row19_col1\" class=\"data row19 col1\" >8</td>\n",
              "    </tr>\n",
              "  </tbody>\n",
              "</table>\n"
            ]
          },
          "metadata": {},
          "execution_count": 108
        }
      ]
    },
    {
      "cell_type": "code",
      "source": [
        "# plot top trigrams\n",
        "\n",
        "rcParams['figure.figsize'] = 12,8\n",
        "top_trigram = plot_top_ngrams(df_false['cleanedLine'],3)\n",
        "\n",
        "def show_value_on_bars(top_trigram, space=0.4):\n",
        "        for p in ax.patches:\n",
        "            _x = p.get_x() + p.get_width() + float(space)\n",
        "            _y = p.get_y() + p.get_height() / 1.4\n",
        "            value = int(p.get_width())\n",
        "            ax.text(_x, _y, value, ha=\"center\")\n",
        "\n",
        "show_value_on_bars(ax, 0.4)\n",
        "\n",
        "plt.xlabel('Count', size=12)\n",
        "plt.ylabel('Top Trigrams', size = 12)\n",
        "plt.title('Most Frequent Trigrams Among Question \\n', size=16)"
      ],
      "metadata": {
        "colab": {
          "base_uri": "https://localhost:8080/"
        },
        "outputId": "eafea1a9-6598-4046-8cbe-46f38433010e",
        "id": "OyBv_aBgI-p2"
      },
      "execution_count": null,
      "outputs": [
        {
          "output_type": "execute_result",
          "data": {
            "text/plain": [
              "Text(0.5, 1.0, 'Most Frequent Trigrams Among Question \\n')"
            ]
          },
          "metadata": {},
          "execution_count": 109
        },
        {
          "output_type": "display_data",
          "data": {
            "text/plain": [
              "<Figure size 864x576 with 1 Axes>"
            ],
            "image/png": "[encoded data removed]"
          },
          "metadata": {}
        }
      ]
    }
  ],
  "metadata": {
    "accelerator": "GPU",
    "colab": {
      "collapsed_sections": [
        "yYjUlEChoUM2",
        "WhPiS8CJKieo",
        "eg3PwPmKXoMA",
        "2NjxIuFXOlsd",
        "4spSJhjAdPQq",
        "3wQXEaG5hw30",
        "T5B92RalGeGR",
        "MI1m3pRSsQ6u"
      ],
      "name": "ALY6980 Capstone",
      "provenance": []
    },
    "kernelspec": {
      "display_name": "Python 3",
      "name": "python3"
    },
    "language_info": {
      "name": "python"
    }
  },
  "nbformat": 4,
  "nbformat_minor": 0
}